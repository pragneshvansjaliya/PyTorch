{
 "cells": [
  {
   "cell_type": "code",
   "execution_count": 1,
   "id": "7ebb67ca",
   "metadata": {
    "execution": {
     "iopub.execute_input": "2023-08-16T07:40:00.939597Z",
     "iopub.status.busy": "2023-08-16T07:40:00.938673Z",
     "iopub.status.idle": "2023-08-16T07:40:00.950179Z",
     "shell.execute_reply": "2023-08-16T07:40:00.949283Z"
    },
    "papermill": {
     "duration": 0.019004,
     "end_time": "2023-08-16T07:40:00.952834",
     "exception": false,
     "start_time": "2023-08-16T07:40:00.933830",
     "status": "completed"
    },
    "tags": []
   },
   "outputs": [],
   "source": [
    "import numpy as np"
   ]
  },
  {
   "cell_type": "code",
   "execution_count": 2,
   "id": "604a586f",
   "metadata": {
    "execution": {
     "iopub.execute_input": "2023-08-16T07:40:00.959930Z",
     "iopub.status.busy": "2023-08-16T07:40:00.959279Z",
     "iopub.status.idle": "2023-08-16T07:40:00.968045Z",
     "shell.execute_reply": "2023-08-16T07:40:00.967274Z"
    },
    "papermill": {
     "duration": 0.014689,
     "end_time": "2023-08-16T07:40:00.970189",
     "exception": false,
     "start_time": "2023-08-16T07:40:00.955500",
     "status": "completed"
    },
    "tags": []
   },
   "outputs": [
    {
     "data": {
      "text/plain": [
       "array([ 0,  1,  2,  3,  4,  5,  6,  7,  8,  9, 10])"
      ]
     },
     "execution_count": 2,
     "metadata": {},
     "output_type": "execute_result"
    }
   ],
   "source": [
    "arr = np.arange(0, 11)\n",
    "arr"
   ]
  },
  {
   "cell_type": "code",
   "execution_count": 3,
   "id": "f5f28835",
   "metadata": {
    "execution": {
     "iopub.execute_input": "2023-08-16T07:40:00.976970Z",
     "iopub.status.busy": "2023-08-16T07:40:00.976382Z",
     "iopub.status.idle": "2023-08-16T07:40:00.983292Z",
     "shell.execute_reply": "2023-08-16T07:40:00.982182Z"
    },
    "papermill": {
     "duration": 0.013046,
     "end_time": "2023-08-16T07:40:00.985745",
     "exception": false,
     "start_time": "2023-08-16T07:40:00.972699",
     "status": "completed"
    },
    "tags": []
   },
   "outputs": [
    {
     "data": {
      "text/plain": [
       "8"
      ]
     },
     "execution_count": 3,
     "metadata": {},
     "output_type": "execute_result"
    }
   ],
   "source": [
    "arr[8]"
   ]
  },
  {
   "cell_type": "code",
   "execution_count": 4,
   "id": "86a2c3a5",
   "metadata": {
    "execution": {
     "iopub.execute_input": "2023-08-16T07:40:00.993080Z",
     "iopub.status.busy": "2023-08-16T07:40:00.992465Z",
     "iopub.status.idle": "2023-08-16T07:40:00.999322Z",
     "shell.execute_reply": "2023-08-16T07:40:00.998356Z"
    },
    "papermill": {
     "duration": 0.013107,
     "end_time": "2023-08-16T07:40:01.001614",
     "exception": false,
     "start_time": "2023-08-16T07:40:00.988507",
     "status": "completed"
    },
    "tags": []
   },
   "outputs": [
    {
     "data": {
      "text/plain": [
       "1"
      ]
     },
     "execution_count": 4,
     "metadata": {},
     "output_type": "execute_result"
    }
   ],
   "source": [
    "arr[1]"
   ]
  }
 ],
 "metadata": {
  "kernelspec": {
   "display_name": "Python 3",
   "language": "python",
   "name": "python3"
  },
  "language_info": {
   "codemirror_mode": {
    "name": "ipython",
    "version": 3
   },
   "file_extension": ".py",
   "mimetype": "text/x-python",
   "name": "python",
   "nbconvert_exporter": "python",
   "pygments_lexer": "ipython3",
   "version": "3.10.12"
  },
  "papermill": {
   "default_parameters": {},
   "duration": 12.284818,
   "end_time": "2023-08-16T07:40:01.827867",
   "environment_variables": {},
   "exception": null,
   "input_path": "__notebook__.ipynb",
   "output_path": "__notebook__.ipynb",
   "parameters": {},
   "start_time": "2023-08-16T07:39:49.543049",
   "version": "2.4.0"
  }
 },
 "nbformat": 4,
 "nbformat_minor": 5
}
