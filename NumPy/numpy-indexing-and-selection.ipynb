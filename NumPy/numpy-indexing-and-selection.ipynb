{
 "cells": [
  {
   "cell_type": "code",
   "execution_count": 1,
   "id": "cd640c9e",
   "metadata": {
    "execution": {
     "iopub.execute_input": "2023-08-17T04:27:11.159770Z",
     "iopub.status.busy": "2023-08-17T04:27:11.159271Z",
     "iopub.status.idle": "2023-08-17T04:27:11.171069Z",
     "shell.execute_reply": "2023-08-17T04:27:11.169795Z"
    },
    "papermill": {
     "duration": 0.032103,
     "end_time": "2023-08-17T04:27:11.173768",
     "exception": false,
     "start_time": "2023-08-17T04:27:11.141665",
     "status": "completed"
    },
    "tags": []
   },
   "outputs": [],
   "source": [
    "import numpy as np"
   ]
  },
  {
   "cell_type": "code",
   "execution_count": 2,
   "id": "dff142fa",
   "metadata": {
    "execution": {
     "iopub.execute_input": "2023-08-17T04:27:11.206258Z",
     "iopub.status.busy": "2023-08-17T04:27:11.205773Z",
     "iopub.status.idle": "2023-08-17T04:27:11.211453Z",
     "shell.execute_reply": "2023-08-17T04:27:11.210198Z"
    },
    "papermill": {
     "duration": 0.025964,
     "end_time": "2023-08-17T04:27:11.214311",
     "exception": false,
     "start_time": "2023-08-17T04:27:11.188347",
     "status": "completed"
    },
    "tags": []
   },
   "outputs": [],
   "source": [
    "arr = np.arange(0, 11)\n"
   ]
  },
  {
   "cell_type": "code",
   "execution_count": 3,
   "id": "14d6f60f",
   "metadata": {
    "execution": {
     "iopub.execute_input": "2023-08-17T04:27:11.247078Z",
     "iopub.status.busy": "2023-08-17T04:27:11.246158Z",
     "iopub.status.idle": "2023-08-17T04:27:11.256756Z",
     "shell.execute_reply": "2023-08-17T04:27:11.255831Z"
    },
    "papermill": {
     "duration": 0.029813,
     "end_time": "2023-08-17T04:27:11.259287",
     "exception": false,
     "start_time": "2023-08-17T04:27:11.229474",
     "status": "completed"
    },
    "tags": []
   },
   "outputs": [
    {
     "data": {
      "text/plain": [
       "array([ 0,  1,  2,  3,  4,  5,  6,  7,  8,  9, 10])"
      ]
     },
     "execution_count": 3,
     "metadata": {},
     "output_type": "execute_result"
    }
   ],
   "source": [
    "arr"
   ]
  },
  {
   "cell_type": "code",
   "execution_count": 4,
   "id": "53b9de19",
   "metadata": {
    "execution": {
     "iopub.execute_input": "2023-08-17T04:27:11.291628Z",
     "iopub.status.busy": "2023-08-17T04:27:11.290350Z",
     "iopub.status.idle": "2023-08-17T04:27:11.298287Z",
     "shell.execute_reply": "2023-08-17T04:27:11.297143Z"
    },
    "papermill": {
     "duration": 0.026811,
     "end_time": "2023-08-17T04:27:11.300843",
     "exception": false,
     "start_time": "2023-08-17T04:27:11.274032",
     "status": "completed"
    },
    "tags": []
   },
   "outputs": [
    {
     "data": {
      "text/plain": [
       "8"
      ]
     },
     "execution_count": 4,
     "metadata": {},
     "output_type": "execute_result"
    }
   ],
   "source": [
    "arr[8]"
   ]
  },
  {
   "cell_type": "code",
   "execution_count": 5,
   "id": "9509e288",
   "metadata": {
    "execution": {
     "iopub.execute_input": "2023-08-17T04:27:11.334500Z",
     "iopub.status.busy": "2023-08-17T04:27:11.333554Z",
     "iopub.status.idle": "2023-08-17T04:27:11.341266Z",
     "shell.execute_reply": "2023-08-17T04:27:11.340242Z"
    },
    "papermill": {
     "duration": 0.027639,
     "end_time": "2023-08-17T04:27:11.343717",
     "exception": false,
     "start_time": "2023-08-17T04:27:11.316078",
     "status": "completed"
    },
    "tags": []
   },
   "outputs": [
    {
     "data": {
      "text/plain": [
       "1"
      ]
     },
     "execution_count": 5,
     "metadata": {},
     "output_type": "execute_result"
    }
   ],
   "source": [
    "arr[1]"
   ]
  },
  {
   "cell_type": "code",
   "execution_count": 6,
   "id": "0490cce8",
   "metadata": {
    "execution": {
     "iopub.execute_input": "2023-08-17T04:27:11.377680Z",
     "iopub.status.busy": "2023-08-17T04:27:11.376768Z",
     "iopub.status.idle": "2023-08-17T04:27:11.384691Z",
     "shell.execute_reply": "2023-08-17T04:27:11.383564Z"
    },
    "papermill": {
     "duration": 0.02788,
     "end_time": "2023-08-17T04:27:11.387157",
     "exception": false,
     "start_time": "2023-08-17T04:27:11.359277",
     "status": "completed"
    },
    "tags": []
   },
   "outputs": [
    {
     "data": {
      "text/plain": [
       "array([1, 2, 3, 4])"
      ]
     },
     "execution_count": 6,
     "metadata": {},
     "output_type": "execute_result"
    }
   ],
   "source": [
    "arr[1:5]"
   ]
  },
  {
   "cell_type": "code",
   "execution_count": 7,
   "id": "e81c1999",
   "metadata": {
    "execution": {
     "iopub.execute_input": "2023-08-17T04:27:11.424486Z",
     "iopub.status.busy": "2023-08-17T04:27:11.423677Z",
     "iopub.status.idle": "2023-08-17T04:27:11.432140Z",
     "shell.execute_reply": "2023-08-17T04:27:11.430823Z"
    },
    "papermill": {
     "duration": 0.029948,
     "end_time": "2023-08-17T04:27:11.434907",
     "exception": false,
     "start_time": "2023-08-17T04:27:11.404959",
     "status": "completed"
    },
    "tags": []
   },
   "outputs": [
    {
     "data": {
      "text/plain": [
       "array([0, 1, 2, 3, 4])"
      ]
     },
     "execution_count": 7,
     "metadata": {},
     "output_type": "execute_result"
    }
   ],
   "source": [
    "arr[0:5]"
   ]
  },
  {
   "cell_type": "code",
   "execution_count": 8,
   "id": "0d4f6b63",
   "metadata": {
    "execution": {
     "iopub.execute_input": "2023-08-17T04:27:11.469367Z",
     "iopub.status.busy": "2023-08-17T04:27:11.468595Z",
     "iopub.status.idle": "2023-08-17T04:27:11.476714Z",
     "shell.execute_reply": "2023-08-17T04:27:11.475377Z"
    },
    "papermill": {
     "duration": 0.028655,
     "end_time": "2023-08-17T04:27:11.479525",
     "exception": false,
     "start_time": "2023-08-17T04:27:11.450870",
     "status": "completed"
    },
    "tags": []
   },
   "outputs": [
    {
     "data": {
      "text/plain": [
       "array([0, 1, 2, 3, 4])"
      ]
     },
     "execution_count": 8,
     "metadata": {},
     "output_type": "execute_result"
    }
   ],
   "source": [
    "arr[:5]"
   ]
  },
  {
   "cell_type": "code",
   "execution_count": 9,
   "id": "f4c9827b",
   "metadata": {
    "execution": {
     "iopub.execute_input": "2023-08-17T04:27:11.514561Z",
     "iopub.status.busy": "2023-08-17T04:27:11.514061Z",
     "iopub.status.idle": "2023-08-17T04:27:11.521434Z",
     "shell.execute_reply": "2023-08-17T04:27:11.519940Z"
    },
    "papermill": {
     "duration": 0.028094,
     "end_time": "2023-08-17T04:27:11.524050",
     "exception": false,
     "start_time": "2023-08-17T04:27:11.495956",
     "status": "completed"
    },
    "tags": []
   },
   "outputs": [
    {
     "data": {
      "text/plain": [
       "array([ 5,  6,  7,  8,  9, 10])"
      ]
     },
     "execution_count": 9,
     "metadata": {},
     "output_type": "execute_result"
    }
   ],
   "source": [
    "arr[5:]"
   ]
  },
  {
   "cell_type": "code",
   "execution_count": 10,
   "id": "13a67132",
   "metadata": {
    "execution": {
     "iopub.execute_input": "2023-08-17T04:27:11.558363Z",
     "iopub.status.busy": "2023-08-17T04:27:11.557947Z",
     "iopub.status.idle": "2023-08-17T04:27:11.565639Z",
     "shell.execute_reply": "2023-08-17T04:27:11.564407Z"
    },
    "papermill": {
     "duration": 0.028112,
     "end_time": "2023-08-17T04:27:11.568151",
     "exception": false,
     "start_time": "2023-08-17T04:27:11.540039",
     "status": "completed"
    },
    "tags": []
   },
   "outputs": [
    {
     "data": {
      "text/plain": [
       "array([ 0,  1,  2,  3,  4,  5,  6,  7,  8,  9, 10])"
      ]
     },
     "execution_count": 10,
     "metadata": {},
     "output_type": "execute_result"
    }
   ],
   "source": [
    "arr"
   ]
  },
  {
   "cell_type": "code",
   "execution_count": 11,
   "id": "0a13ac8f",
   "metadata": {
    "execution": {
     "iopub.execute_input": "2023-08-17T04:27:11.603567Z",
     "iopub.status.busy": "2023-08-17T04:27:11.602800Z",
     "iopub.status.idle": "2023-08-17T04:27:11.613480Z",
     "shell.execute_reply": "2023-08-17T04:27:11.612053Z"
    },
    "papermill": {
     "duration": 0.031769,
     "end_time": "2023-08-17T04:27:11.616266",
     "exception": false,
     "start_time": "2023-08-17T04:27:11.584497",
     "status": "completed"
    },
    "tags": []
   },
   "outputs": [
    {
     "data": {
      "text/plain": [
       "array([100, 101, 102, 103, 104, 105, 106, 107, 108, 109, 110])"
      ]
     },
     "execution_count": 11,
     "metadata": {},
     "output_type": "execute_result"
    }
   ],
   "source": [
    "arr + 100"
   ]
  },
  {
   "cell_type": "code",
   "execution_count": 12,
   "id": "baf078da",
   "metadata": {
    "execution": {
     "iopub.execute_input": "2023-08-17T04:27:11.651576Z",
     "iopub.status.busy": "2023-08-17T04:27:11.651119Z",
     "iopub.status.idle": "2023-08-17T04:27:11.658701Z",
     "shell.execute_reply": "2023-08-17T04:27:11.657793Z"
    },
    "papermill": {
     "duration": 0.028135,
     "end_time": "2023-08-17T04:27:11.660814",
     "exception": false,
     "start_time": "2023-08-17T04:27:11.632679",
     "status": "completed"
    },
    "tags": []
   },
   "outputs": [
    {
     "data": {
      "text/plain": [
       "array([0. , 0.5, 1. , 1.5, 2. , 2.5, 3. , 3.5, 4. , 4.5, 5. ])"
      ]
     },
     "execution_count": 12,
     "metadata": {},
     "output_type": "execute_result"
    }
   ],
   "source": [
    "arr / 2"
   ]
  },
  {
   "cell_type": "code",
   "execution_count": 13,
   "id": "c7e19045",
   "metadata": {
    "execution": {
     "iopub.execute_input": "2023-08-17T04:27:11.695658Z",
     "iopub.status.busy": "2023-08-17T04:27:11.694477Z",
     "iopub.status.idle": "2023-08-17T04:27:11.699660Z",
     "shell.execute_reply": "2023-08-17T04:27:11.698804Z"
    },
    "papermill": {
     "duration": 0.025085,
     "end_time": "2023-08-17T04:27:11.701847",
     "exception": false,
     "start_time": "2023-08-17T04:27:11.676762",
     "status": "completed"
    },
    "tags": []
   },
   "outputs": [],
   "source": [
    "new_arr = arr / 2"
   ]
  },
  {
   "cell_type": "code",
   "execution_count": 14,
   "id": "9808dd4f",
   "metadata": {
    "execution": {
     "iopub.execute_input": "2023-08-17T04:27:11.736779Z",
     "iopub.status.busy": "2023-08-17T04:27:11.735354Z",
     "iopub.status.idle": "2023-08-17T04:27:11.744143Z",
     "shell.execute_reply": "2023-08-17T04:27:11.742632Z"
    },
    "papermill": {
     "duration": 0.028994,
     "end_time": "2023-08-17T04:27:11.746871",
     "exception": false,
     "start_time": "2023-08-17T04:27:11.717877",
     "status": "completed"
    },
    "tags": []
   },
   "outputs": [
    {
     "data": {
      "text/plain": [
       "array([0. , 0.5, 1. , 1.5, 2. , 2.5, 3. , 3.5, 4. , 4.5, 5. ])"
      ]
     },
     "execution_count": 14,
     "metadata": {},
     "output_type": "execute_result"
    }
   ],
   "source": [
    "new_arr"
   ]
  },
  {
   "cell_type": "code",
   "execution_count": 15,
   "id": "20cd415f",
   "metadata": {
    "execution": {
     "iopub.execute_input": "2023-08-17T04:27:11.783700Z",
     "iopub.status.busy": "2023-08-17T04:27:11.782381Z",
     "iopub.status.idle": "2023-08-17T04:27:11.790538Z",
     "shell.execute_reply": "2023-08-17T04:27:11.789635Z"
    },
    "papermill": {
     "duration": 0.029171,
     "end_time": "2023-08-17T04:27:11.793016",
     "exception": false,
     "start_time": "2023-08-17T04:27:11.763845",
     "status": "completed"
    },
    "tags": []
   },
   "outputs": [
    {
     "data": {
      "text/plain": [
       "array([ 0,  1,  2,  3,  4,  5,  6,  7,  8,  9, 10])"
      ]
     },
     "execution_count": 15,
     "metadata": {},
     "output_type": "execute_result"
    }
   ],
   "source": [
    "arr"
   ]
  },
  {
   "cell_type": "code",
   "execution_count": 16,
   "id": "83e90019",
   "metadata": {
    "execution": {
     "iopub.execute_input": "2023-08-17T04:27:11.828288Z",
     "iopub.status.busy": "2023-08-17T04:27:11.827443Z",
     "iopub.status.idle": "2023-08-17T04:27:11.835113Z",
     "shell.execute_reply": "2023-08-17T04:27:11.833918Z"
    },
    "papermill": {
     "duration": 0.02823,
     "end_time": "2023-08-17T04:27:11.837642",
     "exception": false,
     "start_time": "2023-08-17T04:27:11.809412",
     "status": "completed"
    },
    "tags": []
   },
   "outputs": [
    {
     "data": {
      "text/plain": [
       "array([  0,   1,   4,   9,  16,  25,  36,  49,  64,  81, 100])"
      ]
     },
     "execution_count": 16,
     "metadata": {},
     "output_type": "execute_result"
    }
   ],
   "source": [
    "arr ** 2"
   ]
  },
  {
   "cell_type": "code",
   "execution_count": 17,
   "id": "3df33e5d",
   "metadata": {
    "execution": {
     "iopub.execute_input": "2023-08-17T04:27:11.873482Z",
     "iopub.status.busy": "2023-08-17T04:27:11.872948Z",
     "iopub.status.idle": "2023-08-17T04:27:11.880418Z",
     "shell.execute_reply": "2023-08-17T04:27:11.879480Z"
    },
    "papermill": {
     "duration": 0.028629,
     "end_time": "2023-08-17T04:27:11.882591",
     "exception": false,
     "start_time": "2023-08-17T04:27:11.853962",
     "status": "completed"
    },
    "tags": []
   },
   "outputs": [
    {
     "data": {
      "text/plain": [
       "array([ 0,  1,  2,  3,  4,  5,  6,  7,  8,  9, 10])"
      ]
     },
     "execution_count": 17,
     "metadata": {},
     "output_type": "execute_result"
    }
   ],
   "source": [
    "arr"
   ]
  },
  {
   "cell_type": "code",
   "execution_count": 18,
   "id": "e86ba0bb",
   "metadata": {
    "execution": {
     "iopub.execute_input": "2023-08-17T04:27:11.918620Z",
     "iopub.status.busy": "2023-08-17T04:27:11.917743Z",
     "iopub.status.idle": "2023-08-17T04:27:11.922716Z",
     "shell.execute_reply": "2023-08-17T04:27:11.921726Z"
    },
    "papermill": {
     "duration": 0.025832,
     "end_time": "2023-08-17T04:27:11.924982",
     "exception": false,
     "start_time": "2023-08-17T04:27:11.899150",
     "status": "completed"
    },
    "tags": []
   },
   "outputs": [],
   "source": [
    "slice_of_arr = arr[0:6]"
   ]
  },
  {
   "cell_type": "code",
   "execution_count": 19,
   "id": "c19fd383",
   "metadata": {
    "execution": {
     "iopub.execute_input": "2023-08-17T04:27:11.960591Z",
     "iopub.status.busy": "2023-08-17T04:27:11.959811Z",
     "iopub.status.idle": "2023-08-17T04:27:11.966971Z",
     "shell.execute_reply": "2023-08-17T04:27:11.965594Z"
    },
    "papermill": {
     "duration": 0.028062,
     "end_time": "2023-08-17T04:27:11.969516",
     "exception": false,
     "start_time": "2023-08-17T04:27:11.941454",
     "status": "completed"
    },
    "tags": []
   },
   "outputs": [
    {
     "data": {
      "text/plain": [
       "array([0, 1, 2, 3, 4, 5])"
      ]
     },
     "execution_count": 19,
     "metadata": {},
     "output_type": "execute_result"
    }
   ],
   "source": [
    "slice_of_arr"
   ]
  },
  {
   "cell_type": "code",
   "execution_count": 20,
   "id": "e19e7cb1",
   "metadata": {
    "execution": {
     "iopub.execute_input": "2023-08-17T04:27:12.005543Z",
     "iopub.status.busy": "2023-08-17T04:27:12.005011Z",
     "iopub.status.idle": "2023-08-17T04:27:12.010654Z",
     "shell.execute_reply": "2023-08-17T04:27:12.009359Z"
    },
    "papermill": {
     "duration": 0.026699,
     "end_time": "2023-08-17T04:27:12.012915",
     "exception": false,
     "start_time": "2023-08-17T04:27:11.986216",
     "status": "completed"
    },
    "tags": []
   },
   "outputs": [],
   "source": [
    "slice_of_arr[:] = 99"
   ]
  },
  {
   "cell_type": "code",
   "execution_count": 21,
   "id": "70ff8f73",
   "metadata": {
    "execution": {
     "iopub.execute_input": "2023-08-17T04:27:12.049045Z",
     "iopub.status.busy": "2023-08-17T04:27:12.048552Z",
     "iopub.status.idle": "2023-08-17T04:27:12.056021Z",
     "shell.execute_reply": "2023-08-17T04:27:12.055032Z"
    },
    "papermill": {
     "duration": 0.028231,
     "end_time": "2023-08-17T04:27:12.058276",
     "exception": false,
     "start_time": "2023-08-17T04:27:12.030045",
     "status": "completed"
    },
    "tags": []
   },
   "outputs": [
    {
     "data": {
      "text/plain": [
       "array([99, 99, 99, 99, 99, 99])"
      ]
     },
     "execution_count": 21,
     "metadata": {},
     "output_type": "execute_result"
    }
   ],
   "source": [
    "slice_of_arr"
   ]
  },
  {
   "cell_type": "code",
   "execution_count": 22,
   "id": "71dc41e1",
   "metadata": {
    "execution": {
     "iopub.execute_input": "2023-08-17T04:27:12.096464Z",
     "iopub.status.busy": "2023-08-17T04:27:12.095640Z",
     "iopub.status.idle": "2023-08-17T04:27:12.104916Z",
     "shell.execute_reply": "2023-08-17T04:27:12.102960Z"
    },
    "papermill": {
     "duration": 0.032098,
     "end_time": "2023-08-17T04:27:12.107546",
     "exception": false,
     "start_time": "2023-08-17T04:27:12.075448",
     "status": "completed"
    },
    "tags": []
   },
   "outputs": [
    {
     "data": {
      "text/plain": [
       "array([99, 99, 99, 99, 99, 99,  6,  7,  8,  9, 10])"
      ]
     },
     "execution_count": 22,
     "metadata": {},
     "output_type": "execute_result"
    }
   ],
   "source": [
    "arr"
   ]
  },
  {
   "cell_type": "code",
   "execution_count": 23,
   "id": "9ce2bef6",
   "metadata": {
    "execution": {
     "iopub.execute_input": "2023-08-17T04:27:12.144656Z",
     "iopub.status.busy": "2023-08-17T04:27:12.143984Z",
     "iopub.status.idle": "2023-08-17T04:27:12.150176Z",
     "shell.execute_reply": "2023-08-17T04:27:12.148914Z"
    },
    "papermill": {
     "duration": 0.027547,
     "end_time": "2023-08-17T04:27:12.152640",
     "exception": false,
     "start_time": "2023-08-17T04:27:12.125093",
     "status": "completed"
    },
    "tags": []
   },
   "outputs": [],
   "source": [
    "arr_copy = arr.copy()"
   ]
  },
  {
   "cell_type": "code",
   "execution_count": 24,
   "id": "688bf49e",
   "metadata": {
    "execution": {
     "iopub.execute_input": "2023-08-17T04:27:12.189470Z",
     "iopub.status.busy": "2023-08-17T04:27:12.188523Z",
     "iopub.status.idle": "2023-08-17T04:27:12.196895Z",
     "shell.execute_reply": "2023-08-17T04:27:12.195623Z"
    },
    "papermill": {
     "duration": 0.029623,
     "end_time": "2023-08-17T04:27:12.199379",
     "exception": false,
     "start_time": "2023-08-17T04:27:12.169756",
     "status": "completed"
    },
    "tags": []
   },
   "outputs": [
    {
     "data": {
      "text/plain": [
       "array([99, 99, 99, 99, 99, 99,  6,  7,  8,  9, 10])"
      ]
     },
     "execution_count": 24,
     "metadata": {},
     "output_type": "execute_result"
    }
   ],
   "source": [
    "arr_copy"
   ]
  },
  {
   "cell_type": "code",
   "execution_count": 25,
   "id": "441eff32",
   "metadata": {
    "execution": {
     "iopub.execute_input": "2023-08-17T04:27:12.236144Z",
     "iopub.status.busy": "2023-08-17T04:27:12.235644Z",
     "iopub.status.idle": "2023-08-17T04:27:12.241614Z",
     "shell.execute_reply": "2023-08-17T04:27:12.240308Z"
    },
    "papermill": {
     "duration": 0.02738,
     "end_time": "2023-08-17T04:27:12.243992",
     "exception": false,
     "start_time": "2023-08-17T04:27:12.216612",
     "status": "completed"
    },
    "tags": []
   },
   "outputs": [],
   "source": [
    "arr_copy[:] = 1000"
   ]
  },
  {
   "cell_type": "code",
   "execution_count": 26,
   "id": "5b40419a",
   "metadata": {
    "execution": {
     "iopub.execute_input": "2023-08-17T04:27:12.281177Z",
     "iopub.status.busy": "2023-08-17T04:27:12.280715Z",
     "iopub.status.idle": "2023-08-17T04:27:12.288633Z",
     "shell.execute_reply": "2023-08-17T04:27:12.287379Z"
    },
    "papermill": {
     "duration": 0.029466,
     "end_time": "2023-08-17T04:27:12.291129",
     "exception": false,
     "start_time": "2023-08-17T04:27:12.261663",
     "status": "completed"
    },
    "tags": []
   },
   "outputs": [
    {
     "data": {
      "text/plain": [
       "array([1000, 1000, 1000, 1000, 1000, 1000, 1000, 1000, 1000, 1000, 1000])"
      ]
     },
     "execution_count": 26,
     "metadata": {},
     "output_type": "execute_result"
    }
   ],
   "source": [
    "arr_copy"
   ]
  },
  {
   "cell_type": "code",
   "execution_count": 27,
   "id": "058c452c",
   "metadata": {
    "execution": {
     "iopub.execute_input": "2023-08-17T04:27:12.328112Z",
     "iopub.status.busy": "2023-08-17T04:27:12.327642Z",
     "iopub.status.idle": "2023-08-17T04:27:12.335102Z",
     "shell.execute_reply": "2023-08-17T04:27:12.334051Z"
    },
    "papermill": {
     "duration": 0.028882,
     "end_time": "2023-08-17T04:27:12.337403",
     "exception": false,
     "start_time": "2023-08-17T04:27:12.308521",
     "status": "completed"
    },
    "tags": []
   },
   "outputs": [
    {
     "data": {
      "text/plain": [
       "array([99, 99, 99, 99, 99, 99,  6,  7,  8,  9, 10])"
      ]
     },
     "execution_count": 27,
     "metadata": {},
     "output_type": "execute_result"
    }
   ],
   "source": [
    "arr"
   ]
  },
  {
   "cell_type": "code",
   "execution_count": 28,
   "id": "4b855db2",
   "metadata": {
    "execution": {
     "iopub.execute_input": "2023-08-17T04:27:12.374344Z",
     "iopub.status.busy": "2023-08-17T04:27:12.373843Z",
     "iopub.status.idle": "2023-08-17T04:27:12.379041Z",
     "shell.execute_reply": "2023-08-17T04:27:12.377768Z"
    },
    "papermill": {
     "duration": 0.026963,
     "end_time": "2023-08-17T04:27:12.381709",
     "exception": false,
     "start_time": "2023-08-17T04:27:12.354746",
     "status": "completed"
    },
    "tags": []
   },
   "outputs": [],
   "source": [
    "# INDEXING on 2d array"
   ]
  },
  {
   "cell_type": "code",
   "execution_count": 29,
   "id": "6d0e6ec7",
   "metadata": {
    "execution": {
     "iopub.execute_input": "2023-08-17T04:27:12.423276Z",
     "iopub.status.busy": "2023-08-17T04:27:12.422832Z",
     "iopub.status.idle": "2023-08-17T04:27:12.428492Z",
     "shell.execute_reply": "2023-08-17T04:27:12.427131Z"
    },
    "papermill": {
     "duration": 0.031362,
     "end_time": "2023-08-17T04:27:12.430964",
     "exception": false,
     "start_time": "2023-08-17T04:27:12.399602",
     "status": "completed"
    },
    "tags": []
   },
   "outputs": [],
   "source": [
    "arr_2d = np.array([[5, 10, 15], [20, 25, 30], [35, 40, 45]])"
   ]
  },
  {
   "cell_type": "code",
   "execution_count": 30,
   "id": "b8d7a8c5",
   "metadata": {
    "execution": {
     "iopub.execute_input": "2023-08-17T04:27:12.470520Z",
     "iopub.status.busy": "2023-08-17T04:27:12.470035Z",
     "iopub.status.idle": "2023-08-17T04:27:12.477262Z",
     "shell.execute_reply": "2023-08-17T04:27:12.476397Z"
    },
    "papermill": {
     "duration": 0.029946,
     "end_time": "2023-08-17T04:27:12.479437",
     "exception": false,
     "start_time": "2023-08-17T04:27:12.449491",
     "status": "completed"
    },
    "tags": []
   },
   "outputs": [
    {
     "data": {
      "text/plain": [
       "array([[ 5, 10, 15],\n",
       "       [20, 25, 30],\n",
       "       [35, 40, 45]])"
      ]
     },
     "execution_count": 30,
     "metadata": {},
     "output_type": "execute_result"
    }
   ],
   "source": [
    "arr_2d"
   ]
  },
  {
   "cell_type": "code",
   "execution_count": 31,
   "id": "590b5c92",
   "metadata": {
    "execution": {
     "iopub.execute_input": "2023-08-17T04:27:12.518220Z",
     "iopub.status.busy": "2023-08-17T04:27:12.517823Z",
     "iopub.status.idle": "2023-08-17T04:27:12.525424Z",
     "shell.execute_reply": "2023-08-17T04:27:12.524361Z"
    },
    "papermill": {
     "duration": 0.029634,
     "end_time": "2023-08-17T04:27:12.527666",
     "exception": false,
     "start_time": "2023-08-17T04:27:12.498032",
     "status": "completed"
    },
    "tags": []
   },
   "outputs": [
    {
     "data": {
      "text/plain": [
       "(3, 3)"
      ]
     },
     "execution_count": 31,
     "metadata": {},
     "output_type": "execute_result"
    }
   ],
   "source": [
    "arr_2d.shape"
   ]
  },
  {
   "cell_type": "code",
   "execution_count": 32,
   "id": "b5c56cb1",
   "metadata": {
    "execution": {
     "iopub.execute_input": "2023-08-17T04:27:12.565401Z",
     "iopub.status.busy": "2023-08-17T04:27:12.564904Z",
     "iopub.status.idle": "2023-08-17T04:27:12.573279Z",
     "shell.execute_reply": "2023-08-17T04:27:12.571814Z"
    },
    "papermill": {
     "duration": 0.030248,
     "end_time": "2023-08-17T04:27:12.575769",
     "exception": false,
     "start_time": "2023-08-17T04:27:12.545521",
     "status": "completed"
    },
    "tags": []
   },
   "outputs": [
    {
     "data": {
      "text/plain": [
       "array([20, 25, 30])"
      ]
     },
     "execution_count": 32,
     "metadata": {},
     "output_type": "execute_result"
    }
   ],
   "source": [
    "arr_2d[1]"
   ]
  },
  {
   "cell_type": "code",
   "execution_count": 33,
   "id": "fe3dfcba",
   "metadata": {
    "execution": {
     "iopub.execute_input": "2023-08-17T04:27:12.613634Z",
     "iopub.status.busy": "2023-08-17T04:27:12.613194Z",
     "iopub.status.idle": "2023-08-17T04:27:12.621654Z",
     "shell.execute_reply": "2023-08-17T04:27:12.620407Z"
    },
    "papermill": {
     "duration": 0.030456,
     "end_time": "2023-08-17T04:27:12.624141",
     "exception": false,
     "start_time": "2023-08-17T04:27:12.593685",
     "status": "completed"
    },
    "tags": []
   },
   "outputs": [
    {
     "data": {
      "text/plain": [
       "25"
      ]
     },
     "execution_count": 33,
     "metadata": {},
     "output_type": "execute_result"
    }
   ],
   "source": [
    "arr_2d[1][1]"
   ]
  },
  {
   "cell_type": "code",
   "execution_count": 34,
   "id": "ed1bcb3a",
   "metadata": {
    "execution": {
     "iopub.execute_input": "2023-08-17T04:27:12.663888Z",
     "iopub.status.busy": "2023-08-17T04:27:12.663445Z",
     "iopub.status.idle": "2023-08-17T04:27:12.671182Z",
     "shell.execute_reply": "2023-08-17T04:27:12.669881Z"
    },
    "papermill": {
     "duration": 0.030981,
     "end_time": "2023-08-17T04:27:12.673743",
     "exception": false,
     "start_time": "2023-08-17T04:27:12.642762",
     "status": "completed"
    },
    "tags": []
   },
   "outputs": [
    {
     "data": {
      "text/plain": [
       "25"
      ]
     },
     "execution_count": 34,
     "metadata": {},
     "output_type": "execute_result"
    }
   ],
   "source": [
    "arr_2d[1, 1]"
   ]
  },
  {
   "cell_type": "code",
   "execution_count": 35,
   "id": "b0cdd0a9",
   "metadata": {
    "execution": {
     "iopub.execute_input": "2023-08-17T04:27:12.713458Z",
     "iopub.status.busy": "2023-08-17T04:27:12.712970Z",
     "iopub.status.idle": "2023-08-17T04:27:12.720623Z",
     "shell.execute_reply": "2023-08-17T04:27:12.719407Z"
    },
    "papermill": {
     "duration": 0.031235,
     "end_time": "2023-08-17T04:27:12.723752",
     "exception": false,
     "start_time": "2023-08-17T04:27:12.692517",
     "status": "completed"
    },
    "tags": []
   },
   "outputs": [
    {
     "data": {
      "text/plain": [
       "45"
      ]
     },
     "execution_count": 35,
     "metadata": {},
     "output_type": "execute_result"
    }
   ],
   "source": [
    "arr_2d[2, 2]"
   ]
  },
  {
   "cell_type": "code",
   "execution_count": 36,
   "id": "b9616a16",
   "metadata": {
    "execution": {
     "iopub.execute_input": "2023-08-17T04:27:12.763097Z",
     "iopub.status.busy": "2023-08-17T04:27:12.762623Z",
     "iopub.status.idle": "2023-08-17T04:27:12.770310Z",
     "shell.execute_reply": "2023-08-17T04:27:12.769182Z"
    },
    "papermill": {
     "duration": 0.030318,
     "end_time": "2023-08-17T04:27:12.772757",
     "exception": false,
     "start_time": "2023-08-17T04:27:12.742439",
     "status": "completed"
    },
    "tags": []
   },
   "outputs": [
    {
     "data": {
      "text/plain": [
       "array([[ 5, 10, 15],\n",
       "       [20, 25, 30],\n",
       "       [35, 40, 45]])"
      ]
     },
     "execution_count": 36,
     "metadata": {},
     "output_type": "execute_result"
    }
   ],
   "source": [
    "arr_2d"
   ]
  },
  {
   "cell_type": "code",
   "execution_count": 37,
   "id": "6f6f7ae6",
   "metadata": {
    "execution": {
     "iopub.execute_input": "2023-08-17T04:27:12.813956Z",
     "iopub.status.busy": "2023-08-17T04:27:12.813473Z",
     "iopub.status.idle": "2023-08-17T04:27:12.821767Z",
     "shell.execute_reply": "2023-08-17T04:27:12.820102Z"
    },
    "papermill": {
     "duration": 0.032316,
     "end_time": "2023-08-17T04:27:12.824774",
     "exception": false,
     "start_time": "2023-08-17T04:27:12.792458",
     "status": "completed"
    },
    "tags": []
   },
   "outputs": [
    {
     "data": {
      "text/plain": [
       "array([[ 5, 10, 15],\n",
       "       [20, 25, 30]])"
      ]
     },
     "execution_count": 37,
     "metadata": {},
     "output_type": "execute_result"
    }
   ],
   "source": [
    "arr_2d[:2]"
   ]
  },
  {
   "cell_type": "code",
   "execution_count": 38,
   "id": "9c9c301d",
   "metadata": {
    "execution": {
     "iopub.execute_input": "2023-08-17T04:27:12.866883Z",
     "iopub.status.busy": "2023-08-17T04:27:12.866415Z",
     "iopub.status.idle": "2023-08-17T04:27:12.874732Z",
     "shell.execute_reply": "2023-08-17T04:27:12.873478Z"
    },
    "papermill": {
     "duration": 0.03229,
     "end_time": "2023-08-17T04:27:12.877253",
     "exception": false,
     "start_time": "2023-08-17T04:27:12.844963",
     "status": "completed"
    },
    "tags": []
   },
   "outputs": [
    {
     "data": {
      "text/plain": [
       "array([[20, 25, 30]])"
      ]
     },
     "execution_count": 38,
     "metadata": {},
     "output_type": "execute_result"
    }
   ],
   "source": [
    "arr_2d[:2][1:]"
   ]
  },
  {
   "cell_type": "code",
   "execution_count": 39,
   "id": "0d18b23b",
   "metadata": {
    "execution": {
     "iopub.execute_input": "2023-08-17T04:27:12.919145Z",
     "iopub.status.busy": "2023-08-17T04:27:12.918377Z",
     "iopub.status.idle": "2023-08-17T04:27:12.925293Z",
     "shell.execute_reply": "2023-08-17T04:27:12.923946Z"
    },
    "papermill": {
     "duration": 0.03077,
     "end_time": "2023-08-17T04:27:12.927536",
     "exception": false,
     "start_time": "2023-08-17T04:27:12.896766",
     "status": "completed"
    },
    "tags": []
   },
   "outputs": [
    {
     "data": {
      "text/plain": [
       "array([[10, 15],\n",
       "       [25, 30]])"
      ]
     },
     "execution_count": 39,
     "metadata": {},
     "output_type": "execute_result"
    }
   ],
   "source": [
    "arr_2d[:2, 1:]"
   ]
  },
  {
   "cell_type": "code",
   "execution_count": 40,
   "id": "b7c94242",
   "metadata": {
    "execution": {
     "iopub.execute_input": "2023-08-17T04:27:12.969260Z",
     "iopub.status.busy": "2023-08-17T04:27:12.968545Z",
     "iopub.status.idle": "2023-08-17T04:27:12.973351Z",
     "shell.execute_reply": "2023-08-17T04:27:12.972494Z"
    },
    "papermill": {
     "duration": 0.028293,
     "end_time": "2023-08-17T04:27:12.975505",
     "exception": false,
     "start_time": "2023-08-17T04:27:12.947212",
     "status": "completed"
    },
    "tags": []
   },
   "outputs": [],
   "source": [
    "arr = np.arange(1, 11)"
   ]
  },
  {
   "cell_type": "code",
   "execution_count": 41,
   "id": "dadbb969",
   "metadata": {
    "execution": {
     "iopub.execute_input": "2023-08-17T04:27:13.016876Z",
     "iopub.status.busy": "2023-08-17T04:27:13.016038Z",
     "iopub.status.idle": "2023-08-17T04:27:13.022144Z",
     "shell.execute_reply": "2023-08-17T04:27:13.021373Z"
    },
    "papermill": {
     "duration": 0.028967,
     "end_time": "2023-08-17T04:27:13.024303",
     "exception": false,
     "start_time": "2023-08-17T04:27:12.995336",
     "status": "completed"
    },
    "tags": []
   },
   "outputs": [
    {
     "data": {
      "text/plain": [
       "array([ 1,  2,  3,  4,  5,  6,  7,  8,  9, 10])"
      ]
     },
     "execution_count": 41,
     "metadata": {},
     "output_type": "execute_result"
    }
   ],
   "source": [
    "arr"
   ]
  },
  {
   "cell_type": "code",
   "execution_count": 42,
   "id": "f93f5163",
   "metadata": {
    "execution": {
     "iopub.execute_input": "2023-08-17T04:27:13.066188Z",
     "iopub.status.busy": "2023-08-17T04:27:13.065376Z",
     "iopub.status.idle": "2023-08-17T04:27:13.071814Z",
     "shell.execute_reply": "2023-08-17T04:27:13.070945Z"
    },
    "papermill": {
     "duration": 0.030312,
     "end_time": "2023-08-17T04:27:13.074154",
     "exception": false,
     "start_time": "2023-08-17T04:27:13.043842",
     "status": "completed"
    },
    "tags": []
   },
   "outputs": [
    {
     "data": {
      "text/plain": [
       "array([False, False, False, False,  True,  True,  True,  True,  True,\n",
       "        True])"
      ]
     },
     "execution_count": 42,
     "metadata": {},
     "output_type": "execute_result"
    }
   ],
   "source": [
    "arr > 4"
   ]
  },
  {
   "cell_type": "code",
   "execution_count": 43,
   "id": "dac14d5f",
   "metadata": {
    "execution": {
     "iopub.execute_input": "2023-08-17T04:27:13.116505Z",
     "iopub.status.busy": "2023-08-17T04:27:13.115745Z",
     "iopub.status.idle": "2023-08-17T04:27:13.120220Z",
     "shell.execute_reply": "2023-08-17T04:27:13.119387Z"
    },
    "papermill": {
     "duration": 0.028811,
     "end_time": "2023-08-17T04:27:13.122492",
     "exception": false,
     "start_time": "2023-08-17T04:27:13.093681",
     "status": "completed"
    },
    "tags": []
   },
   "outputs": [],
   "source": [
    "bool_arr = arr > 4"
   ]
  },
  {
   "cell_type": "code",
   "execution_count": 44,
   "id": "5547d75c",
   "metadata": {
    "execution": {
     "iopub.execute_input": "2023-08-17T04:27:13.163699Z",
     "iopub.status.busy": "2023-08-17T04:27:13.162768Z",
     "iopub.status.idle": "2023-08-17T04:27:13.171111Z",
     "shell.execute_reply": "2023-08-17T04:27:13.169595Z"
    },
    "papermill": {
     "duration": 0.031963,
     "end_time": "2023-08-17T04:27:13.173717",
     "exception": false,
     "start_time": "2023-08-17T04:27:13.141754",
     "status": "completed"
    },
    "tags": []
   },
   "outputs": [
    {
     "data": {
      "text/plain": [
       "array([False, False, False, False,  True,  True,  True,  True,  True,\n",
       "        True])"
      ]
     },
     "execution_count": 44,
     "metadata": {},
     "output_type": "execute_result"
    }
   ],
   "source": [
    "bool_arr"
   ]
  },
  {
   "cell_type": "code",
   "execution_count": 45,
   "id": "cd04357f",
   "metadata": {
    "execution": {
     "iopub.execute_input": "2023-08-17T04:27:13.215131Z",
     "iopub.status.busy": "2023-08-17T04:27:13.214684Z",
     "iopub.status.idle": "2023-08-17T04:27:13.222078Z",
     "shell.execute_reply": "2023-08-17T04:27:13.221297Z"
    },
    "papermill": {
     "duration": 0.030514,
     "end_time": "2023-08-17T04:27:13.224078",
     "exception": false,
     "start_time": "2023-08-17T04:27:13.193564",
     "status": "completed"
    },
    "tags": []
   },
   "outputs": [
    {
     "data": {
      "text/plain": [
       "array([ 5,  6,  7,  8,  9, 10])"
      ]
     },
     "execution_count": 45,
     "metadata": {},
     "output_type": "execute_result"
    }
   ],
   "source": [
    "arr[bool_arr]"
   ]
  },
  {
   "cell_type": "code",
   "execution_count": 46,
   "id": "f4c9b116",
   "metadata": {
    "execution": {
     "iopub.execute_input": "2023-08-17T04:27:13.267146Z",
     "iopub.status.busy": "2023-08-17T04:27:13.265734Z",
     "iopub.status.idle": "2023-08-17T04:27:13.273445Z",
     "shell.execute_reply": "2023-08-17T04:27:13.272394Z"
    },
    "papermill": {
     "duration": 0.031687,
     "end_time": "2023-08-17T04:27:13.275929",
     "exception": false,
     "start_time": "2023-08-17T04:27:13.244242",
     "status": "completed"
    },
    "tags": []
   },
   "outputs": [
    {
     "data": {
      "text/plain": [
       "array([ 5,  6,  7,  8,  9, 10])"
      ]
     },
     "execution_count": 46,
     "metadata": {},
     "output_type": "execute_result"
    }
   ],
   "source": [
    "arr[arr > 4]"
   ]
  },
  {
   "cell_type": "code",
   "execution_count": 47,
   "id": "3033f7dc",
   "metadata": {
    "execution": {
     "iopub.execute_input": "2023-08-17T04:27:13.318781Z",
     "iopub.status.busy": "2023-08-17T04:27:13.317719Z",
     "iopub.status.idle": "2023-08-17T04:27:13.326215Z",
     "shell.execute_reply": "2023-08-17T04:27:13.324902Z"
    },
    "papermill": {
     "duration": 0.032291,
     "end_time": "2023-08-17T04:27:13.328878",
     "exception": false,
     "start_time": "2023-08-17T04:27:13.296587",
     "status": "completed"
    },
    "tags": []
   },
   "outputs": [
    {
     "data": {
      "text/plain": [
       "array([2])"
      ]
     },
     "execution_count": 47,
     "metadata": {},
     "output_type": "execute_result"
    }
   ],
   "source": [
    "arr[arr == 2]"
   ]
  },
  {
   "cell_type": "code",
   "execution_count": 48,
   "id": "1100c9b4",
   "metadata": {
    "execution": {
     "iopub.execute_input": "2023-08-17T04:27:13.370778Z",
     "iopub.status.busy": "2023-08-17T04:27:13.370386Z",
     "iopub.status.idle": "2023-08-17T04:27:13.378132Z",
     "shell.execute_reply": "2023-08-17T04:27:13.376780Z"
    },
    "papermill": {
     "duration": 0.031307,
     "end_time": "2023-08-17T04:27:13.380512",
     "exception": false,
     "start_time": "2023-08-17T04:27:13.349205",
     "status": "completed"
    },
    "tags": []
   },
   "outputs": [
    {
     "data": {
      "text/plain": [
       "array([1, 2, 3, 4, 5, 6])"
      ]
     },
     "execution_count": 48,
     "metadata": {},
     "output_type": "execute_result"
    }
   ],
   "source": [
    "arr[arr <= 6]"
   ]
  }
 ],
 "metadata": {
  "kernelspec": {
   "display_name": "Python 3",
   "language": "python",
   "name": "python3"
  },
  "language_info": {
   "codemirror_mode": {
    "name": "ipython",
    "version": 3
   },
   "file_extension": ".py",
   "mimetype": "text/x-python",
   "name": "python",
   "nbconvert_exporter": "python",
   "pygments_lexer": "ipython3",
   "version": "3.10.12"
  },
  "papermill": {
   "default_parameters": {},
   "duration": 14.54031,
   "end_time": "2023-08-17T04:27:14.224916",
   "environment_variables": {},
   "exception": null,
   "input_path": "__notebook__.ipynb",
   "output_path": "__notebook__.ipynb",
   "parameters": {},
   "start_time": "2023-08-17T04:26:59.684606",
   "version": "2.4.0"
  }
 },
 "nbformat": 4,
 "nbformat_minor": 5
}
