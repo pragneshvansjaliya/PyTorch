{
 "cells": [
  {
   "cell_type": "code",
   "execution_count": 1,
   "id": "a0d67c95",
   "metadata": {
    "execution": {
     "iopub.execute_input": "2023-08-16T12:06:48.712585Z",
     "iopub.status.busy": "2023-08-16T12:06:48.712212Z",
     "iopub.status.idle": "2023-08-16T12:06:48.724037Z",
     "shell.execute_reply": "2023-08-16T12:06:48.722715Z"
    },
    "papermill": {
     "duration": 0.018947,
     "end_time": "2023-08-16T12:06:48.726520",
     "exception": false,
     "start_time": "2023-08-16T12:06:48.707573",
     "status": "completed"
    },
    "tags": []
   },
   "outputs": [],
   "source": [
    "import numpy as np"
   ]
  },
  {
   "cell_type": "code",
   "execution_count": 2,
   "id": "179d5623",
   "metadata": {
    "execution": {
     "iopub.execute_input": "2023-08-16T12:06:48.733135Z",
     "iopub.status.busy": "2023-08-16T12:06:48.732731Z",
     "iopub.status.idle": "2023-08-16T12:06:48.742972Z",
     "shell.execute_reply": "2023-08-16T12:06:48.741625Z"
    },
    "papermill": {
     "duration": 0.016717,
     "end_time": "2023-08-16T12:06:48.745860",
     "exception": false,
     "start_time": "2023-08-16T12:06:48.729143",
     "status": "completed"
    },
    "tags": []
   },
   "outputs": [
    {
     "data": {
      "text/plain": [
       "array([ 0,  1,  2,  3,  4,  5,  6,  7,  8,  9, 10])"
      ]
     },
     "execution_count": 2,
     "metadata": {},
     "output_type": "execute_result"
    }
   ],
   "source": [
    "arr = np.arange(0, 11)\n",
    "arr"
   ]
  },
  {
   "cell_type": "code",
   "execution_count": 3,
   "id": "63063b4d",
   "metadata": {
    "execution": {
     "iopub.execute_input": "2023-08-16T12:06:48.752609Z",
     "iopub.status.busy": "2023-08-16T12:06:48.752218Z",
     "iopub.status.idle": "2023-08-16T12:06:48.759175Z",
     "shell.execute_reply": "2023-08-16T12:06:48.758247Z"
    },
    "papermill": {
     "duration": 0.013202,
     "end_time": "2023-08-16T12:06:48.761684",
     "exception": false,
     "start_time": "2023-08-16T12:06:48.748482",
     "status": "completed"
    },
    "tags": []
   },
   "outputs": [
    {
     "data": {
      "text/plain": [
       "8"
      ]
     },
     "execution_count": 3,
     "metadata": {},
     "output_type": "execute_result"
    }
   ],
   "source": [
    "arr[8]"
   ]
  },
  {
   "cell_type": "code",
   "execution_count": 4,
   "id": "cc88c577",
   "metadata": {
    "execution": {
     "iopub.execute_input": "2023-08-16T12:06:48.768874Z",
     "iopub.status.busy": "2023-08-16T12:06:48.768469Z",
     "iopub.status.idle": "2023-08-16T12:06:48.775468Z",
     "shell.execute_reply": "2023-08-16T12:06:48.774241Z"
    },
    "papermill": {
     "duration": 0.013401,
     "end_time": "2023-08-16T12:06:48.777862",
     "exception": false,
     "start_time": "2023-08-16T12:06:48.764461",
     "status": "completed"
    },
    "tags": []
   },
   "outputs": [
    {
     "data": {
      "text/plain": [
       "1"
      ]
     },
     "execution_count": 4,
     "metadata": {},
     "output_type": "execute_result"
    }
   ],
   "source": [
    "arr[1]"
   ]
  }
 ],
 "metadata": {
  "kernelspec": {
   "display_name": "Python 3",
   "language": "python",
   "name": "python3"
  },
  "language_info": {
   "codemirror_mode": {
    "name": "ipython",
    "version": 3
   },
   "file_extension": ".py",
   "mimetype": "text/x-python",
   "name": "python",
   "nbconvert_exporter": "python",
   "pygments_lexer": "ipython3",
   "version": "3.10.12"
  },
  "papermill": {
   "default_parameters": {},
   "duration": 13.155438,
   "end_time": "2023-08-16T12:06:49.704364",
   "environment_variables": {},
   "exception": null,
   "input_path": "__notebook__.ipynb",
   "output_path": "__notebook__.ipynb",
   "parameters": {},
   "start_time": "2023-08-16T12:06:36.548926",
   "version": "2.4.0"
  }
 },
 "nbformat": 4,
 "nbformat_minor": 5
}
