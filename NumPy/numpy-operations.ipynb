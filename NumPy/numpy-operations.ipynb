{
 "cells": [
  {
   "cell_type": "code",
   "execution_count": 1,
   "id": "861c52b4",
   "metadata": {
    "_cell_guid": "b1076dfc-b9ad-4769-8c92-a6c4dae69d19",
    "_uuid": "8f2839f25d086af736a60e9eeb907d3b93b6e0e5",
    "execution": {
     "iopub.execute_input": "2023-08-17T03:57:27.028789Z",
     "iopub.status.busy": "2023-08-17T03:57:27.028157Z",
     "iopub.status.idle": "2023-08-17T03:57:27.038953Z",
     "shell.execute_reply": "2023-08-17T03:57:27.037789Z"
    },
    "papermill": {
     "duration": 0.023222,
     "end_time": "2023-08-17T03:57:27.041368",
     "exception": false,
     "start_time": "2023-08-17T03:57:27.018146",
     "status": "completed"
    },
    "tags": []
   },
   "outputs": [],
   "source": [
    "import numpy as np # linear algebra"
   ]
  },
  {
   "cell_type": "code",
   "execution_count": 2,
   "id": "ccf50580",
   "metadata": {
    "execution": {
     "iopub.execute_input": "2023-08-17T03:57:27.059857Z",
     "iopub.status.busy": "2023-08-17T03:57:27.058711Z",
     "iopub.status.idle": "2023-08-17T03:57:27.064295Z",
     "shell.execute_reply": "2023-08-17T03:57:27.062969Z"
    },
    "papermill": {
     "duration": 0.016994,
     "end_time": "2023-08-17T03:57:27.066626",
     "exception": false,
     "start_time": "2023-08-17T03:57:27.049632",
     "status": "completed"
    },
    "tags": []
   },
   "outputs": [],
   "source": [
    "arr = np.arange(0, 10)"
   ]
  },
  {
   "cell_type": "code",
   "execution_count": 3,
   "id": "b864f204",
   "metadata": {
    "execution": {
     "iopub.execute_input": "2023-08-17T03:57:27.083903Z",
     "iopub.status.busy": "2023-08-17T03:57:27.083482Z",
     "iopub.status.idle": "2023-08-17T03:57:27.093253Z",
     "shell.execute_reply": "2023-08-17T03:57:27.091884Z"
    },
    "papermill": {
     "duration": 0.021884,
     "end_time": "2023-08-17T03:57:27.096236",
     "exception": false,
     "start_time": "2023-08-17T03:57:27.074352",
     "status": "completed"
    },
    "tags": []
   },
   "outputs": [
    {
     "data": {
      "text/plain": [
       "array([0, 1, 2, 3, 4, 5, 6, 7, 8, 9])"
      ]
     },
     "execution_count": 3,
     "metadata": {},
     "output_type": "execute_result"
    }
   ],
   "source": [
    "arr"
   ]
  },
  {
   "cell_type": "code",
   "execution_count": 4,
   "id": "f14f0dae",
   "metadata": {
    "execution": {
     "iopub.execute_input": "2023-08-17T03:57:27.114674Z",
     "iopub.status.busy": "2023-08-17T03:57:27.114287Z",
     "iopub.status.idle": "2023-08-17T03:57:27.122865Z",
     "shell.execute_reply": "2023-08-17T03:57:27.121663Z"
    },
    "papermill": {
     "duration": 0.020401,
     "end_time": "2023-08-17T03:57:27.125022",
     "exception": false,
     "start_time": "2023-08-17T03:57:27.104621",
     "status": "completed"
    },
    "tags": []
   },
   "outputs": [
    {
     "data": {
      "text/plain": [
       "array([100, 101, 102, 103, 104, 105, 106, 107, 108, 109])"
      ]
     },
     "execution_count": 4,
     "metadata": {},
     "output_type": "execute_result"
    }
   ],
   "source": [
    "arr + 100"
   ]
  },
  {
   "cell_type": "code",
   "execution_count": 5,
   "id": "be5ba956",
   "metadata": {
    "execution": {
     "iopub.execute_input": "2023-08-17T03:57:27.143549Z",
     "iopub.status.busy": "2023-08-17T03:57:27.142809Z",
     "iopub.status.idle": "2023-08-17T03:57:27.150301Z",
     "shell.execute_reply": "2023-08-17T03:57:27.149222Z"
    },
    "papermill": {
     "duration": 0.019544,
     "end_time": "2023-08-17T03:57:27.152703",
     "exception": false,
     "start_time": "2023-08-17T03:57:27.133159",
     "status": "completed"
    },
    "tags": []
   },
   "outputs": [
    {
     "data": {
      "text/plain": [
       "array([0.  , 0.01, 0.02, 0.03, 0.04, 0.05, 0.06, 0.07, 0.08, 0.09])"
      ]
     },
     "execution_count": 5,
     "metadata": {},
     "output_type": "execute_result"
    }
   ],
   "source": [
    "arr / 100"
   ]
  },
  {
   "cell_type": "code",
   "execution_count": 6,
   "id": "e2fb21d0",
   "metadata": {
    "execution": {
     "iopub.execute_input": "2023-08-17T03:57:27.171188Z",
     "iopub.status.busy": "2023-08-17T03:57:27.170762Z",
     "iopub.status.idle": "2023-08-17T03:57:27.176779Z",
     "shell.execute_reply": "2023-08-17T03:57:27.175732Z"
    },
    "papermill": {
     "duration": 0.018084,
     "end_time": "2023-08-17T03:57:27.179211",
     "exception": false,
     "start_time": "2023-08-17T03:57:27.161127",
     "status": "completed"
    },
    "tags": []
   },
   "outputs": [
    {
     "data": {
      "text/plain": [
       "array([ 0,  1,  4,  9, 16, 25, 36, 49, 64, 81])"
      ]
     },
     "execution_count": 6,
     "metadata": {},
     "output_type": "execute_result"
    }
   ],
   "source": [
    "arr ** 2"
   ]
  },
  {
   "cell_type": "code",
   "execution_count": 7,
   "id": "8d397204",
   "metadata": {
    "execution": {
     "iopub.execute_input": "2023-08-17T03:57:27.197950Z",
     "iopub.status.busy": "2023-08-17T03:57:27.197535Z",
     "iopub.status.idle": "2023-08-17T03:57:27.204600Z",
     "shell.execute_reply": "2023-08-17T03:57:27.203519Z"
    },
    "papermill": {
     "duration": 0.019294,
     "end_time": "2023-08-17T03:57:27.207083",
     "exception": false,
     "start_time": "2023-08-17T03:57:27.187789",
     "status": "completed"
    },
    "tags": []
   },
   "outputs": [
    {
     "data": {
      "text/plain": [
       "array([0.02, 0.03, 0.04, 0.05, 0.06, 0.07, 0.08, 0.09, 0.1 , 0.11])"
      ]
     },
     "execution_count": 7,
     "metadata": {},
     "output_type": "execute_result"
    }
   ],
   "source": [
    "(arr + 2) / 100"
   ]
  },
  {
   "cell_type": "code",
   "execution_count": 8,
   "id": "84f9475e",
   "metadata": {
    "execution": {
     "iopub.execute_input": "2023-08-17T03:57:27.227179Z",
     "iopub.status.busy": "2023-08-17T03:57:27.226746Z",
     "iopub.status.idle": "2023-08-17T03:57:27.233251Z",
     "shell.execute_reply": "2023-08-17T03:57:27.232191Z"
    },
    "papermill": {
     "duration": 0.02016,
     "end_time": "2023-08-17T03:57:27.235773",
     "exception": false,
     "start_time": "2023-08-17T03:57:27.215613",
     "status": "completed"
    },
    "tags": []
   },
   "outputs": [
    {
     "data": {
      "text/plain": [
       "array([0, 1, 2, 3, 4, 5, 6, 7, 8, 9])"
      ]
     },
     "execution_count": 8,
     "metadata": {},
     "output_type": "execute_result"
    }
   ],
   "source": [
    "arr"
   ]
  },
  {
   "cell_type": "code",
   "execution_count": 9,
   "id": "41e3c5f4",
   "metadata": {
    "execution": {
     "iopub.execute_input": "2023-08-17T03:57:27.255296Z",
     "iopub.status.busy": "2023-08-17T03:57:27.254901Z",
     "iopub.status.idle": "2023-08-17T03:57:27.261689Z",
     "shell.execute_reply": "2023-08-17T03:57:27.260585Z"
    },
    "papermill": {
     "duration": 0.019364,
     "end_time": "2023-08-17T03:57:27.264183",
     "exception": false,
     "start_time": "2023-08-17T03:57:27.244819",
     "status": "completed"
    },
    "tags": []
   },
   "outputs": [
    {
     "data": {
      "text/plain": [
       "array([ 0,  2,  4,  6,  8, 10, 12, 14, 16, 18])"
      ]
     },
     "execution_count": 9,
     "metadata": {},
     "output_type": "execute_result"
    }
   ],
   "source": [
    "arr + arr"
   ]
  },
  {
   "cell_type": "code",
   "execution_count": 10,
   "id": "fdf4d81b",
   "metadata": {
    "execution": {
     "iopub.execute_input": "2023-08-17T03:57:27.283747Z",
     "iopub.status.busy": "2023-08-17T03:57:27.283371Z",
     "iopub.status.idle": "2023-08-17T03:57:27.291603Z",
     "shell.execute_reply": "2023-08-17T03:57:27.290446Z"
    },
    "papermill": {
     "duration": 0.021652,
     "end_time": "2023-08-17T03:57:27.294744",
     "exception": false,
     "start_time": "2023-08-17T03:57:27.273092",
     "status": "completed"
    },
    "tags": []
   },
   "outputs": [
    {
     "name": "stderr",
     "output_type": "stream",
     "text": [
      "/tmp/ipykernel_20/1528351372.py:1: RuntimeWarning: divide by zero encountered in divide\n",
      "  1 / arr\n"
     ]
    },
    {
     "data": {
      "text/plain": [
       "array([       inf, 1.        , 0.5       , 0.33333333, 0.25      ,\n",
       "       0.2       , 0.16666667, 0.14285714, 0.125     , 0.11111111])"
      ]
     },
     "execution_count": 10,
     "metadata": {},
     "output_type": "execute_result"
    }
   ],
   "source": [
    "1 / arr"
   ]
  },
  {
   "cell_type": "code",
   "execution_count": 11,
   "id": "15a6d06e",
   "metadata": {
    "execution": {
     "iopub.execute_input": "2023-08-17T03:57:27.314210Z",
     "iopub.status.busy": "2023-08-17T03:57:27.313786Z",
     "iopub.status.idle": "2023-08-17T03:57:27.322134Z",
     "shell.execute_reply": "2023-08-17T03:57:27.320630Z"
    },
    "papermill": {
     "duration": 0.021361,
     "end_time": "2023-08-17T03:57:27.325047",
     "exception": false,
     "start_time": "2023-08-17T03:57:27.303686",
     "status": "completed"
    },
    "tags": []
   },
   "outputs": [
    {
     "name": "stderr",
     "output_type": "stream",
     "text": [
      "/tmp/ipykernel_20/3001117470.py:1: RuntimeWarning: invalid value encountered in divide\n",
      "  arr / arr\n"
     ]
    },
    {
     "data": {
      "text/plain": [
       "array([nan,  1.,  1.,  1.,  1.,  1.,  1.,  1.,  1.,  1.])"
      ]
     },
     "execution_count": 11,
     "metadata": {},
     "output_type": "execute_result"
    }
   ],
   "source": [
    "arr / arr"
   ]
  },
  {
   "cell_type": "code",
   "execution_count": 12,
   "id": "550f015a",
   "metadata": {
    "execution": {
     "iopub.execute_input": "2023-08-17T03:57:27.345761Z",
     "iopub.status.busy": "2023-08-17T03:57:27.345397Z",
     "iopub.status.idle": "2023-08-17T03:57:27.352559Z",
     "shell.execute_reply": "2023-08-17T03:57:27.351286Z"
    },
    "papermill": {
     "duration": 0.020397,
     "end_time": "2023-08-17T03:57:27.354890",
     "exception": false,
     "start_time": "2023-08-17T03:57:27.334493",
     "status": "completed"
    },
    "tags": []
   },
   "outputs": [
    {
     "data": {
      "text/plain": [
       "array([0.        , 1.        , 1.41421356, 1.73205081, 2.        ,\n",
       "       2.23606798, 2.44948974, 2.64575131, 2.82842712, 3.        ])"
      ]
     },
     "execution_count": 12,
     "metadata": {},
     "output_type": "execute_result"
    }
   ],
   "source": [
    "np.sqrt(arr)"
   ]
  },
  {
   "cell_type": "code",
   "execution_count": 13,
   "id": "ef542745",
   "metadata": {
    "execution": {
     "iopub.execute_input": "2023-08-17T03:57:27.375550Z",
     "iopub.status.busy": "2023-08-17T03:57:27.375184Z",
     "iopub.status.idle": "2023-08-17T03:57:27.382840Z",
     "shell.execute_reply": "2023-08-17T03:57:27.381636Z"
    },
    "papermill": {
     "duration": 0.020834,
     "end_time": "2023-08-17T03:57:27.385207",
     "exception": false,
     "start_time": "2023-08-17T03:57:27.364373",
     "status": "completed"
    },
    "tags": []
   },
   "outputs": [
    {
     "name": "stderr",
     "output_type": "stream",
     "text": [
      "/tmp/ipykernel_20/3120950136.py:1: RuntimeWarning: divide by zero encountered in log\n",
      "  np.log(arr)\n"
     ]
    },
    {
     "data": {
      "text/plain": [
       "array([      -inf, 0.        , 0.69314718, 1.09861229, 1.38629436,\n",
       "       1.60943791, 1.79175947, 1.94591015, 2.07944154, 2.19722458])"
      ]
     },
     "execution_count": 13,
     "metadata": {},
     "output_type": "execute_result"
    }
   ],
   "source": [
    "np.log(arr)"
   ]
  },
  {
   "cell_type": "code",
   "execution_count": 14,
   "id": "46ad47b8",
   "metadata": {
    "execution": {
     "iopub.execute_input": "2023-08-17T03:57:27.406567Z",
     "iopub.status.busy": "2023-08-17T03:57:27.406148Z",
     "iopub.status.idle": "2023-08-17T03:57:27.415843Z",
     "shell.execute_reply": "2023-08-17T03:57:27.414940Z"
    },
    "papermill": {
     "duration": 0.023222,
     "end_time": "2023-08-17T03:57:27.418239",
     "exception": false,
     "start_time": "2023-08-17T03:57:27.395017",
     "status": "completed"
    },
    "tags": []
   },
   "outputs": [
    {
     "data": {
      "text/plain": [
       "array([ 0.        ,  0.84147098,  0.90929743,  0.14112001, -0.7568025 ,\n",
       "       -0.95892427, -0.2794155 ,  0.6569866 ,  0.98935825,  0.41211849])"
      ]
     },
     "execution_count": 14,
     "metadata": {},
     "output_type": "execute_result"
    }
   ],
   "source": [
    "np.sin(arr)"
   ]
  },
  {
   "cell_type": "code",
   "execution_count": 15,
   "id": "120e1724",
   "metadata": {
    "execution": {
     "iopub.execute_input": "2023-08-17T03:57:27.440284Z",
     "iopub.status.busy": "2023-08-17T03:57:27.439896Z",
     "iopub.status.idle": "2023-08-17T03:57:27.446023Z",
     "shell.execute_reply": "2023-08-17T03:57:27.445222Z"
    },
    "papermill": {
     "duration": 0.019632,
     "end_time": "2023-08-17T03:57:27.448052",
     "exception": false,
     "start_time": "2023-08-17T03:57:27.428420",
     "status": "completed"
    },
    "tags": []
   },
   "outputs": [
    {
     "data": {
      "text/plain": [
       "45"
      ]
     },
     "execution_count": 15,
     "metadata": {},
     "output_type": "execute_result"
    }
   ],
   "source": [
    "arr.sum()"
   ]
  },
  {
   "cell_type": "code",
   "execution_count": 16,
   "id": "425ba692",
   "metadata": {
    "execution": {
     "iopub.execute_input": "2023-08-17T03:57:27.470159Z",
     "iopub.status.busy": "2023-08-17T03:57:27.469722Z",
     "iopub.status.idle": "2023-08-17T03:57:27.477188Z",
     "shell.execute_reply": "2023-08-17T03:57:27.476062Z"
    },
    "papermill": {
     "duration": 0.021145,
     "end_time": "2023-08-17T03:57:27.479378",
     "exception": false,
     "start_time": "2023-08-17T03:57:27.458233",
     "status": "completed"
    },
    "tags": []
   },
   "outputs": [
    {
     "data": {
      "text/plain": [
       "4.5"
      ]
     },
     "execution_count": 16,
     "metadata": {},
     "output_type": "execute_result"
    }
   ],
   "source": [
    "arr.mean()"
   ]
  },
  {
   "cell_type": "code",
   "execution_count": 17,
   "id": "17a8fa48",
   "metadata": {
    "execution": {
     "iopub.execute_input": "2023-08-17T03:57:27.501904Z",
     "iopub.status.busy": "2023-08-17T03:57:27.501464Z",
     "iopub.status.idle": "2023-08-17T03:57:27.508757Z",
     "shell.execute_reply": "2023-08-17T03:57:27.507668Z"
    },
    "papermill": {
     "duration": 0.021331,
     "end_time": "2023-08-17T03:57:27.511032",
     "exception": false,
     "start_time": "2023-08-17T03:57:27.489701",
     "status": "completed"
    },
    "tags": []
   },
   "outputs": [
    {
     "data": {
      "text/plain": [
       "9"
      ]
     },
     "execution_count": 17,
     "metadata": {},
     "output_type": "execute_result"
    }
   ],
   "source": [
    "arr.max()"
   ]
  },
  {
   "cell_type": "code",
   "execution_count": 18,
   "id": "2593357c",
   "metadata": {
    "execution": {
     "iopub.execute_input": "2023-08-17T03:57:27.534003Z",
     "iopub.status.busy": "2023-08-17T03:57:27.533543Z",
     "iopub.status.idle": "2023-08-17T03:57:27.541080Z",
     "shell.execute_reply": "2023-08-17T03:57:27.539987Z"
    },
    "papermill": {
     "duration": 0.021624,
     "end_time": "2023-08-17T03:57:27.543336",
     "exception": false,
     "start_time": "2023-08-17T03:57:27.521712",
     "status": "completed"
    },
    "tags": []
   },
   "outputs": [
    {
     "data": {
      "text/plain": [
       "0"
      ]
     },
     "execution_count": 18,
     "metadata": {},
     "output_type": "execute_result"
    }
   ],
   "source": [
    "arr.min()"
   ]
  },
  {
   "cell_type": "code",
   "execution_count": 19,
   "id": "60577ee5",
   "metadata": {
    "execution": {
     "iopub.execute_input": "2023-08-17T03:57:27.566292Z",
     "iopub.status.busy": "2023-08-17T03:57:27.565898Z",
     "iopub.status.idle": "2023-08-17T03:57:27.571502Z",
     "shell.execute_reply": "2023-08-17T03:57:27.570423Z"
    },
    "papermill": {
     "duration": 0.019709,
     "end_time": "2023-08-17T03:57:27.573536",
     "exception": false,
     "start_time": "2023-08-17T03:57:27.553827",
     "status": "completed"
    },
    "tags": []
   },
   "outputs": [],
   "source": [
    "arr_2d = np.array([[1, 2, 3, 4], [5, 6, 7, 8], [9, 10, 11, 12]])"
   ]
  },
  {
   "cell_type": "code",
   "execution_count": 20,
   "id": "b5945fa6",
   "metadata": {
    "execution": {
     "iopub.execute_input": "2023-08-17T03:57:27.596426Z",
     "iopub.status.busy": "2023-08-17T03:57:27.596045Z",
     "iopub.status.idle": "2023-08-17T03:57:27.602733Z",
     "shell.execute_reply": "2023-08-17T03:57:27.601713Z"
    },
    "papermill": {
     "duration": 0.021035,
     "end_time": "2023-08-17T03:57:27.605119",
     "exception": false,
     "start_time": "2023-08-17T03:57:27.584084",
     "status": "completed"
    },
    "tags": []
   },
   "outputs": [
    {
     "data": {
      "text/plain": [
       "array([[ 1,  2,  3,  4],\n",
       "       [ 5,  6,  7,  8],\n",
       "       [ 9, 10, 11, 12]])"
      ]
     },
     "execution_count": 20,
     "metadata": {},
     "output_type": "execute_result"
    }
   ],
   "source": [
    "arr_2d"
   ]
  },
  {
   "cell_type": "code",
   "execution_count": 21,
   "id": "6927c10a",
   "metadata": {
    "execution": {
     "iopub.execute_input": "2023-08-17T03:57:27.629224Z",
     "iopub.status.busy": "2023-08-17T03:57:27.628767Z",
     "iopub.status.idle": "2023-08-17T03:57:27.636441Z",
     "shell.execute_reply": "2023-08-17T03:57:27.634874Z"
    },
    "papermill": {
     "duration": 0.022405,
     "end_time": "2023-08-17T03:57:27.638686",
     "exception": false,
     "start_time": "2023-08-17T03:57:27.616281",
     "status": "completed"
    },
    "tags": []
   },
   "outputs": [
    {
     "data": {
      "text/plain": [
       "(3, 4)"
      ]
     },
     "execution_count": 21,
     "metadata": {},
     "output_type": "execute_result"
    }
   ],
   "source": [
    "arr_2d.shape"
   ]
  },
  {
   "cell_type": "code",
   "execution_count": 22,
   "id": "d2cebc05",
   "metadata": {
    "execution": {
     "iopub.execute_input": "2023-08-17T03:57:27.662530Z",
     "iopub.status.busy": "2023-08-17T03:57:27.662158Z",
     "iopub.status.idle": "2023-08-17T03:57:27.667736Z",
     "shell.execute_reply": "2023-08-17T03:57:27.667002Z"
    },
    "papermill": {
     "duration": 0.020295,
     "end_time": "2023-08-17T03:57:27.669968",
     "exception": false,
     "start_time": "2023-08-17T03:57:27.649673",
     "status": "completed"
    },
    "tags": []
   },
   "outputs": [
    {
     "data": {
      "text/plain": [
       "78"
      ]
     },
     "execution_count": 22,
     "metadata": {},
     "output_type": "execute_result"
    }
   ],
   "source": [
    "arr_2d.sum()"
   ]
  },
  {
   "cell_type": "code",
   "execution_count": 23,
   "id": "05e8e4d8",
   "metadata": {
    "execution": {
     "iopub.execute_input": "2023-08-17T03:57:27.693549Z",
     "iopub.status.busy": "2023-08-17T03:57:27.693189Z",
     "iopub.status.idle": "2023-08-17T03:57:27.698694Z",
     "shell.execute_reply": "2023-08-17T03:57:27.697978Z"
    },
    "papermill": {
     "duration": 0.019955,
     "end_time": "2023-08-17T03:57:27.700933",
     "exception": false,
     "start_time": "2023-08-17T03:57:27.680978",
     "status": "completed"
    },
    "tags": []
   },
   "outputs": [
    {
     "data": {
      "text/plain": [
       "array([15, 18, 21, 24])"
      ]
     },
     "execution_count": 23,
     "metadata": {},
     "output_type": "execute_result"
    }
   ],
   "source": [
    "# Give me the sum, across the rows\n",
    "arr_2d.sum(axis=0)\n",
    "# Sum of the value in columns"
   ]
  },
  {
   "cell_type": "code",
   "execution_count": 24,
   "id": "86abddbf",
   "metadata": {
    "execution": {
     "iopub.execute_input": "2023-08-17T03:57:27.725608Z",
     "iopub.status.busy": "2023-08-17T03:57:27.724928Z",
     "iopub.status.idle": "2023-08-17T03:57:27.731647Z",
     "shell.execute_reply": "2023-08-17T03:57:27.730484Z"
    },
    "papermill": {
     "duration": 0.021843,
     "end_time": "2023-08-17T03:57:27.733941",
     "exception": false,
     "start_time": "2023-08-17T03:57:27.712098",
     "status": "completed"
    },
    "tags": []
   },
   "outputs": [
    {
     "data": {
      "text/plain": [
       "array([10, 26, 42])"
      ]
     },
     "execution_count": 24,
     "metadata": {},
     "output_type": "execute_result"
    }
   ],
   "source": [
    "arr_2d.sum(axis=1)"
   ]
  }
 ],
 "metadata": {
  "kernelspec": {
   "display_name": "Python 3",
   "language": "python",
   "name": "python3"
  },
  "language_info": {
   "codemirror_mode": {
    "name": "ipython",
    "version": 3
   },
   "file_extension": ".py",
   "mimetype": "text/x-python",
   "name": "python",
   "nbconvert_exporter": "python",
   "pygments_lexer": "ipython3",
   "version": "3.10.12"
  },
  "papermill": {
   "default_parameters": {},
   "duration": 14.045028,
   "end_time": "2023-08-17T03:57:28.566745",
   "environment_variables": {},
   "exception": null,
   "input_path": "__notebook__.ipynb",
   "output_path": "__notebook__.ipynb",
   "parameters": {},
   "start_time": "2023-08-17T03:57:14.521717",
   "version": "2.4.0"
  }
 },
 "nbformat": 4,
 "nbformat_minor": 5
}
