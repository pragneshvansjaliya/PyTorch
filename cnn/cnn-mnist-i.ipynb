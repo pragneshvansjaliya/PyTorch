{
 "cells": [
  {
   "cell_type": "code",
   "execution_count": 1,
   "id": "e1a48514",
   "metadata": {
    "_cell_guid": "b1076dfc-b9ad-4769-8c92-a6c4dae69d19",
    "_uuid": "8f2839f25d086af736a60e9eeb907d3b93b6e0e5",
    "execution": {
     "iopub.execute_input": "2023-08-18T05:48:44.363334Z",
     "iopub.status.busy": "2023-08-18T05:48:44.362529Z",
     "iopub.status.idle": "2023-08-18T05:48:48.833102Z",
     "shell.execute_reply": "2023-08-18T05:48:48.831520Z"
    },
    "papermill": {
     "duration": 4.489366,
     "end_time": "2023-08-18T05:48:48.836261",
     "exception": false,
     "start_time": "2023-08-18T05:48:44.346895",
     "status": "completed"
    },
    "tags": []
   },
   "outputs": [],
   "source": [
    "import torch\n",
    "import torch.nn as nn\n",
    "import torch.nn.functional as F\n",
    "from torch.utils.data import DataLoader\n",
    "from torchvision import datasets, transforms\n",
    "from torchvision.utils import make_grid"
   ]
  },
  {
   "cell_type": "code",
   "execution_count": 2,
   "id": "26f1bf0e",
   "metadata": {
    "execution": {
     "iopub.execute_input": "2023-08-18T05:48:48.865646Z",
     "iopub.status.busy": "2023-08-18T05:48:48.864841Z",
     "iopub.status.idle": "2023-08-18T05:48:50.114371Z",
     "shell.execute_reply": "2023-08-18T05:48:50.112708Z"
    },
    "papermill": {
     "duration": 1.267845,
     "end_time": "2023-08-18T05:48:50.117762",
     "exception": false,
     "start_time": "2023-08-18T05:48:48.849917",
     "status": "completed"
    },
    "tags": []
   },
   "outputs": [
    {
     "name": "stderr",
     "output_type": "stream",
     "text": [
      "/opt/conda/lib/python3.10/site-packages/scipy/__init__.py:146: UserWarning: A NumPy version >=1.16.5 and <1.23.0 is required for this version of SciPy (detected version 1.23.5\n",
      "  warnings.warn(f\"A NumPy version >={np_minversion} and <{np_maxversion}\"\n"
     ]
    }
   ],
   "source": [
    "import numpy as np\n",
    "import pandas as pd\n",
    "from sklearn.metrics import confusion_matrix\n",
    "import matplotlib.pyplot as plt\n",
    "%matplotlib inline"
   ]
  },
  {
   "cell_type": "code",
   "execution_count": 3,
   "id": "291cd6e1",
   "metadata": {
    "execution": {
     "iopub.execute_input": "2023-08-18T05:48:50.146768Z",
     "iopub.status.busy": "2023-08-18T05:48:50.146265Z",
     "iopub.status.idle": "2023-08-18T05:48:50.152485Z",
     "shell.execute_reply": "2023-08-18T05:48:50.150880Z"
    },
    "papermill": {
     "duration": 0.02327,
     "end_time": "2023-08-18T05:48:50.154838",
     "exception": false,
     "start_time": "2023-08-18T05:48:50.131568",
     "status": "completed"
    },
    "tags": []
   },
   "outputs": [],
   "source": [
    "transform = transforms.ToTensor()"
   ]
  },
  {
   "cell_type": "code",
   "execution_count": 4,
   "id": "ddb8e09d",
   "metadata": {
    "execution": {
     "iopub.execute_input": "2023-08-18T05:48:50.182693Z",
     "iopub.status.busy": "2023-08-18T05:48:50.182187Z",
     "iopub.status.idle": "2023-08-18T05:48:51.259180Z",
     "shell.execute_reply": "2023-08-18T05:48:51.257907Z"
    },
    "papermill": {
     "duration": 1.094357,
     "end_time": "2023-08-18T05:48:51.262058",
     "exception": false,
     "start_time": "2023-08-18T05:48:50.167701",
     "status": "completed"
    },
    "tags": []
   },
   "outputs": [
    {
     "name": "stdout",
     "output_type": "stream",
     "text": [
      "Downloading http://yann.lecun.com/exdb/mnist/train-images-idx3-ubyte.gz\n",
      "Downloading http://yann.lecun.com/exdb/mnist/train-images-idx3-ubyte.gz to ../Data/MNIST/raw/train-images-idx3-ubyte.gz\n"
     ]
    },
    {
     "name": "stderr",
     "output_type": "stream",
     "text": [
      "100%|██████████| 9912422/9912422 [00:00<00:00, 166080297.38it/s]"
     ]
    },
    {
     "name": "stdout",
     "output_type": "stream",
     "text": [
      "Extracting ../Data/MNIST/raw/train-images-idx3-ubyte.gz to ../Data/MNIST/raw\n"
     ]
    },
    {
     "name": "stderr",
     "output_type": "stream",
     "text": [
      "\n"
     ]
    },
    {
     "name": "stdout",
     "output_type": "stream",
     "text": [
      "\n",
      "Downloading http://yann.lecun.com/exdb/mnist/train-labels-idx1-ubyte.gz\n",
      "Downloading http://yann.lecun.com/exdb/mnist/train-labels-idx1-ubyte.gz to ../Data/MNIST/raw/train-labels-idx1-ubyte.gz\n"
     ]
    },
    {
     "name": "stderr",
     "output_type": "stream",
     "text": [
      "100%|██████████| 28881/28881 [00:00<00:00, 71847979.73it/s]\n"
     ]
    },
    {
     "name": "stdout",
     "output_type": "stream",
     "text": [
      "Extracting ../Data/MNIST/raw/train-labels-idx1-ubyte.gz to ../Data/MNIST/raw\n",
      "\n",
      "Downloading http://yann.lecun.com/exdb/mnist/t10k-images-idx3-ubyte.gz\n",
      "Downloading http://yann.lecun.com/exdb/mnist/t10k-images-idx3-ubyte.gz to ../Data/MNIST/raw/t10k-images-idx3-ubyte.gz\n"
     ]
    },
    {
     "name": "stderr",
     "output_type": "stream",
     "text": [
      "100%|██████████| 1648877/1648877 [00:00<00:00, 39151135.02it/s]\n"
     ]
    },
    {
     "name": "stdout",
     "output_type": "stream",
     "text": [
      "Extracting ../Data/MNIST/raw/t10k-images-idx3-ubyte.gz to ../Data/MNIST/raw\n",
      "\n",
      "Downloading http://yann.lecun.com/exdb/mnist/t10k-labels-idx1-ubyte.gz\n",
      "Downloading http://yann.lecun.com/exdb/mnist/t10k-labels-idx1-ubyte.gz to ../Data/MNIST/raw/t10k-labels-idx1-ubyte.gz\n"
     ]
    },
    {
     "name": "stderr",
     "output_type": "stream",
     "text": [
      "100%|██████████| 4542/4542 [00:00<00:00, 14929881.48it/s]\n"
     ]
    },
    {
     "name": "stdout",
     "output_type": "stream",
     "text": [
      "Extracting ../Data/MNIST/raw/t10k-labels-idx1-ubyte.gz to ../Data/MNIST/raw\n",
      "\n"
     ]
    }
   ],
   "source": [
    "train_data = datasets.MNIST(root='../Data', train=True, download=True, transform=transform)"
   ]
  },
  {
   "cell_type": "code",
   "execution_count": 5,
   "id": "4da103d2",
   "metadata": {
    "execution": {
     "iopub.execute_input": "2023-08-18T05:48:51.294474Z",
     "iopub.status.busy": "2023-08-18T05:48:51.294056Z",
     "iopub.status.idle": "2023-08-18T05:48:51.303020Z",
     "shell.execute_reply": "2023-08-18T05:48:51.301853Z"
    },
    "papermill": {
     "duration": 0.027874,
     "end_time": "2023-08-18T05:48:51.305964",
     "exception": false,
     "start_time": "2023-08-18T05:48:51.278090",
     "status": "completed"
    },
    "tags": []
   },
   "outputs": [
    {
     "data": {
      "text/plain": [
       "Dataset MNIST\n",
       "    Number of datapoints: 60000\n",
       "    Root location: ../Data\n",
       "    Split: Train\n",
       "    StandardTransform\n",
       "Transform: ToTensor()"
      ]
     },
     "execution_count": 5,
     "metadata": {},
     "output_type": "execute_result"
    }
   ],
   "source": [
    "train_data"
   ]
  },
  {
   "cell_type": "code",
   "execution_count": 6,
   "id": "fa1ac8be",
   "metadata": {
    "execution": {
     "iopub.execute_input": "2023-08-18T05:48:51.337075Z",
     "iopub.status.busy": "2023-08-18T05:48:51.336671Z",
     "iopub.status.idle": "2023-08-18T05:48:51.354099Z",
     "shell.execute_reply": "2023-08-18T05:48:51.352854Z"
    },
    "papermill": {
     "duration": 0.036227,
     "end_time": "2023-08-18T05:48:51.356787",
     "exception": false,
     "start_time": "2023-08-18T05:48:51.320560",
     "status": "completed"
    },
    "tags": []
   },
   "outputs": [],
   "source": [
    "test_data = datasets.MNIST(root='../Data', train=False, download=True, transform=transform)"
   ]
  },
  {
   "cell_type": "code",
   "execution_count": 7,
   "id": "1c0b592b",
   "metadata": {
    "execution": {
     "iopub.execute_input": "2023-08-18T05:48:51.389794Z",
     "iopub.status.busy": "2023-08-18T05:48:51.389119Z",
     "iopub.status.idle": "2023-08-18T05:48:51.397010Z",
     "shell.execute_reply": "2023-08-18T05:48:51.395834Z"
    },
    "papermill": {
     "duration": 0.02597,
     "end_time": "2023-08-18T05:48:51.399350",
     "exception": false,
     "start_time": "2023-08-18T05:48:51.373380",
     "status": "completed"
    },
    "tags": []
   },
   "outputs": [
    {
     "data": {
      "text/plain": [
       "Dataset MNIST\n",
       "    Number of datapoints: 10000\n",
       "    Root location: ../Data\n",
       "    Split: Test\n",
       "    StandardTransform\n",
       "Transform: ToTensor()"
      ]
     },
     "execution_count": 7,
     "metadata": {},
     "output_type": "execute_result"
    }
   ],
   "source": [
    "test_data"
   ]
  },
  {
   "cell_type": "code",
   "execution_count": 8,
   "id": "8fefbbf5",
   "metadata": {
    "execution": {
     "iopub.execute_input": "2023-08-18T05:48:51.431543Z",
     "iopub.status.busy": "2023-08-18T05:48:51.430262Z",
     "iopub.status.idle": "2023-08-18T05:48:51.436823Z",
     "shell.execute_reply": "2023-08-18T05:48:51.435754Z"
    },
    "papermill": {
     "duration": 0.025037,
     "end_time": "2023-08-18T05:48:51.439517",
     "exception": false,
     "start_time": "2023-08-18T05:48:51.414480",
     "status": "completed"
    },
    "tags": []
   },
   "outputs": [],
   "source": [
    "train_loader = DataLoader(train_data, batch_size=10, shuffle=True)\n",
    "test_loader = DataLoader(test_data, batch_size=10, shuffle=False)"
   ]
  },
  {
   "cell_type": "code",
   "execution_count": 9,
   "id": "c60b0238",
   "metadata": {
    "execution": {
     "iopub.execute_input": "2023-08-18T05:48:51.470389Z",
     "iopub.status.busy": "2023-08-18T05:48:51.469985Z",
     "iopub.status.idle": "2023-08-18T05:48:51.487178Z",
     "shell.execute_reply": "2023-08-18T05:48:51.485970Z"
    },
    "papermill": {
     "duration": 0.035667,
     "end_time": "2023-08-18T05:48:51.489951",
     "exception": false,
     "start_time": "2023-08-18T05:48:51.454284",
     "status": "completed"
    },
    "tags": []
   },
   "outputs": [],
   "source": [
    "# 1 Color channel\n",
    "# 6 Filters (output channels)\n",
    "# 3by3 Kernel\n",
    "# Stride = 1\n",
    "conv1 = nn.Conv2d(1, 6, 3, 1) # --> 6 filters --> pooling --> conv2\n",
    "\n",
    "# 6 Input filters conv1\n",
    "# 16 filters (arbitrary choice)\n",
    "# 3by3\n",
    "# Stride = 1\n",
    "conv2 = nn.Conv2d(6, 16, 3, 1)"
   ]
  },
  {
   "cell_type": "code",
   "execution_count": 10,
   "id": "2c55e52d",
   "metadata": {
    "execution": {
     "iopub.execute_input": "2023-08-18T05:48:51.521248Z",
     "iopub.status.busy": "2023-08-18T05:48:51.520596Z",
     "iopub.status.idle": "2023-08-18T05:48:51.551539Z",
     "shell.execute_reply": "2023-08-18T05:48:51.550622Z"
    },
    "papermill": {
     "duration": 0.049705,
     "end_time": "2023-08-18T05:48:51.554301",
     "exception": false,
     "start_time": "2023-08-18T05:48:51.504596",
     "status": "completed"
    },
    "tags": []
   },
   "outputs": [],
   "source": [
    "for i, (X_train, y_train) in enumerate(train_data):\n",
    "    break"
   ]
  },
  {
   "cell_type": "code",
   "execution_count": 11,
   "id": "57ebcfc2",
   "metadata": {
    "execution": {
     "iopub.execute_input": "2023-08-18T05:48:51.585508Z",
     "iopub.status.busy": "2023-08-18T05:48:51.584845Z",
     "iopub.status.idle": "2023-08-18T05:48:51.591461Z",
     "shell.execute_reply": "2023-08-18T05:48:51.590488Z"
    },
    "papermill": {
     "duration": 0.024732,
     "end_time": "2023-08-18T05:48:51.593604",
     "exception": false,
     "start_time": "2023-08-18T05:48:51.568872",
     "status": "completed"
    },
    "tags": []
   },
   "outputs": [
    {
     "data": {
      "text/plain": [
       "torch.Size([1, 28, 28])"
      ]
     },
     "execution_count": 11,
     "metadata": {},
     "output_type": "execute_result"
    }
   ],
   "source": [
    "X_train.shape"
   ]
  },
  {
   "cell_type": "code",
   "execution_count": 12,
   "id": "af4cdfdd",
   "metadata": {
    "execution": {
     "iopub.execute_input": "2023-08-18T05:48:51.627440Z",
     "iopub.status.busy": "2023-08-18T05:48:51.626656Z",
     "iopub.status.idle": "2023-08-18T05:48:51.674149Z",
     "shell.execute_reply": "2023-08-18T05:48:51.672520Z"
    },
    "papermill": {
     "duration": 0.067715,
     "end_time": "2023-08-18T05:48:51.676974",
     "exception": false,
     "start_time": "2023-08-18T05:48:51.609259",
     "status": "completed"
    },
    "tags": []
   },
   "outputs": [
    {
     "data": {
      "text/plain": [
       "tensor([[[[0.0000, 0.0000, 0.0000, 0.0000, 0.0000, 0.0000, 0.0000, 0.0000,\n",
       "           0.0000, 0.0000, 0.0000, 0.0000, 0.0000, 0.0000, 0.0000, 0.0000,\n",
       "           0.0000, 0.0000, 0.0000, 0.0000, 0.0000, 0.0000, 0.0000, 0.0000,\n",
       "           0.0000, 0.0000, 0.0000, 0.0000],\n",
       "          [0.0000, 0.0000, 0.0000, 0.0000, 0.0000, 0.0000, 0.0000, 0.0000,\n",
       "           0.0000, 0.0000, 0.0000, 0.0000, 0.0000, 0.0000, 0.0000, 0.0000,\n",
       "           0.0000, 0.0000, 0.0000, 0.0000, 0.0000, 0.0000, 0.0000, 0.0000,\n",
       "           0.0000, 0.0000, 0.0000, 0.0000],\n",
       "          [0.0000, 0.0000, 0.0000, 0.0000, 0.0000, 0.0000, 0.0000, 0.0000,\n",
       "           0.0000, 0.0000, 0.0000, 0.0000, 0.0000, 0.0000, 0.0000, 0.0000,\n",
       "           0.0000, 0.0000, 0.0000, 0.0000, 0.0000, 0.0000, 0.0000, 0.0000,\n",
       "           0.0000, 0.0000, 0.0000, 0.0000],\n",
       "          [0.0000, 0.0000, 0.0000, 0.0000, 0.0000, 0.0000, 0.0000, 0.0000,\n",
       "           0.0000, 0.0000, 0.0000, 0.0000, 0.0000, 0.0000, 0.0000, 0.0000,\n",
       "           0.0000, 0.0000, 0.0000, 0.0000, 0.0000, 0.0000, 0.0000, 0.0000,\n",
       "           0.0000, 0.0000, 0.0000, 0.0000],\n",
       "          [0.0000, 0.0000, 0.0000, 0.0000, 0.0000, 0.0000, 0.0000, 0.0000,\n",
       "           0.0000, 0.0000, 0.0000, 0.0000, 0.0000, 0.0000, 0.0000, 0.0000,\n",
       "           0.0000, 0.0000, 0.0000, 0.0000, 0.0000, 0.0000, 0.0000, 0.0000,\n",
       "           0.0000, 0.0000, 0.0000, 0.0000],\n",
       "          [0.0000, 0.0000, 0.0000, 0.0000, 0.0000, 0.0000, 0.0000, 0.0000,\n",
       "           0.0000, 0.0000, 0.0000, 0.0000, 0.0118, 0.0706, 0.0706, 0.0706,\n",
       "           0.4941, 0.5333, 0.6863, 0.1020, 0.6510, 1.0000, 0.9686, 0.4980,\n",
       "           0.0000, 0.0000, 0.0000, 0.0000],\n",
       "          [0.0000, 0.0000, 0.0000, 0.0000, 0.0000, 0.0000, 0.0000, 0.0000,\n",
       "           0.1176, 0.1412, 0.3686, 0.6039, 0.6667, 0.9922, 0.9922, 0.9922,\n",
       "           0.9922, 0.9922, 0.8824, 0.6745, 0.9922, 0.9490, 0.7647, 0.2510,\n",
       "           0.0000, 0.0000, 0.0000, 0.0000],\n",
       "          [0.0000, 0.0000, 0.0000, 0.0000, 0.0000, 0.0000, 0.0000, 0.1922,\n",
       "           0.9333, 0.9922, 0.9922, 0.9922, 0.9922, 0.9922, 0.9922, 0.9922,\n",
       "           0.9922, 0.9843, 0.3647, 0.3216, 0.3216, 0.2196, 0.1529, 0.0000,\n",
       "           0.0000, 0.0000, 0.0000, 0.0000],\n",
       "          [0.0000, 0.0000, 0.0000, 0.0000, 0.0000, 0.0000, 0.0000, 0.0706,\n",
       "           0.8588, 0.9922, 0.9922, 0.9922, 0.9922, 0.9922, 0.7765, 0.7137,\n",
       "           0.9686, 0.9451, 0.0000, 0.0000, 0.0000, 0.0000, 0.0000, 0.0000,\n",
       "           0.0000, 0.0000, 0.0000, 0.0000],\n",
       "          [0.0000, 0.0000, 0.0000, 0.0000, 0.0000, 0.0000, 0.0000, 0.0000,\n",
       "           0.3137, 0.6118, 0.4196, 0.9922, 0.9922, 0.8039, 0.0431, 0.0000,\n",
       "           0.1686, 0.6039, 0.0000, 0.0000, 0.0000, 0.0000, 0.0000, 0.0000,\n",
       "           0.0000, 0.0000, 0.0000, 0.0000],\n",
       "          [0.0000, 0.0000, 0.0000, 0.0000, 0.0000, 0.0000, 0.0000, 0.0000,\n",
       "           0.0000, 0.0549, 0.0039, 0.6039, 0.9922, 0.3529, 0.0000, 0.0000,\n",
       "           0.0000, 0.0000, 0.0000, 0.0000, 0.0000, 0.0000, 0.0000, 0.0000,\n",
       "           0.0000, 0.0000, 0.0000, 0.0000],\n",
       "          [0.0000, 0.0000, 0.0000, 0.0000, 0.0000, 0.0000, 0.0000, 0.0000,\n",
       "           0.0000, 0.0000, 0.0000, 0.5451, 0.9922, 0.7451, 0.0078, 0.0000,\n",
       "           0.0000, 0.0000, 0.0000, 0.0000, 0.0000, 0.0000, 0.0000, 0.0000,\n",
       "           0.0000, 0.0000, 0.0000, 0.0000],\n",
       "          [0.0000, 0.0000, 0.0000, 0.0000, 0.0000, 0.0000, 0.0000, 0.0000,\n",
       "           0.0000, 0.0000, 0.0000, 0.0431, 0.7451, 0.9922, 0.2745, 0.0000,\n",
       "           0.0000, 0.0000, 0.0000, 0.0000, 0.0000, 0.0000, 0.0000, 0.0000,\n",
       "           0.0000, 0.0000, 0.0000, 0.0000],\n",
       "          [0.0000, 0.0000, 0.0000, 0.0000, 0.0000, 0.0000, 0.0000, 0.0000,\n",
       "           0.0000, 0.0000, 0.0000, 0.0000, 0.1373, 0.9451, 0.8824, 0.6275,\n",
       "           0.4235, 0.0039, 0.0000, 0.0000, 0.0000, 0.0000, 0.0000, 0.0000,\n",
       "           0.0000, 0.0000, 0.0000, 0.0000],\n",
       "          [0.0000, 0.0000, 0.0000, 0.0000, 0.0000, 0.0000, 0.0000, 0.0000,\n",
       "           0.0000, 0.0000, 0.0000, 0.0000, 0.0000, 0.3176, 0.9412, 0.9922,\n",
       "           0.9922, 0.4667, 0.0980, 0.0000, 0.0000, 0.0000, 0.0000, 0.0000,\n",
       "           0.0000, 0.0000, 0.0000, 0.0000],\n",
       "          [0.0000, 0.0000, 0.0000, 0.0000, 0.0000, 0.0000, 0.0000, 0.0000,\n",
       "           0.0000, 0.0000, 0.0000, 0.0000, 0.0000, 0.0000, 0.1765, 0.7294,\n",
       "           0.9922, 0.9922, 0.5882, 0.1059, 0.0000, 0.0000, 0.0000, 0.0000,\n",
       "           0.0000, 0.0000, 0.0000, 0.0000],\n",
       "          [0.0000, 0.0000, 0.0000, 0.0000, 0.0000, 0.0000, 0.0000, 0.0000,\n",
       "           0.0000, 0.0000, 0.0000, 0.0000, 0.0000, 0.0000, 0.0000, 0.0627,\n",
       "           0.3647, 0.9882, 0.9922, 0.7333, 0.0000, 0.0000, 0.0000, 0.0000,\n",
       "           0.0000, 0.0000, 0.0000, 0.0000],\n",
       "          [0.0000, 0.0000, 0.0000, 0.0000, 0.0000, 0.0000, 0.0000, 0.0000,\n",
       "           0.0000, 0.0000, 0.0000, 0.0000, 0.0000, 0.0000, 0.0000, 0.0000,\n",
       "           0.0000, 0.9765, 0.9922, 0.9765, 0.2510, 0.0000, 0.0000, 0.0000,\n",
       "           0.0000, 0.0000, 0.0000, 0.0000],\n",
       "          [0.0000, 0.0000, 0.0000, 0.0000, 0.0000, 0.0000, 0.0000, 0.0000,\n",
       "           0.0000, 0.0000, 0.0000, 0.0000, 0.0000, 0.0000, 0.1804, 0.5098,\n",
       "           0.7176, 0.9922, 0.9922, 0.8118, 0.0078, 0.0000, 0.0000, 0.0000,\n",
       "           0.0000, 0.0000, 0.0000, 0.0000],\n",
       "          [0.0000, 0.0000, 0.0000, 0.0000, 0.0000, 0.0000, 0.0000, 0.0000,\n",
       "           0.0000, 0.0000, 0.0000, 0.0000, 0.1529, 0.5804, 0.8980, 0.9922,\n",
       "           0.9922, 0.9922, 0.9804, 0.7137, 0.0000, 0.0000, 0.0000, 0.0000,\n",
       "           0.0000, 0.0000, 0.0000, 0.0000],\n",
       "          [0.0000, 0.0000, 0.0000, 0.0000, 0.0000, 0.0000, 0.0000, 0.0000,\n",
       "           0.0000, 0.0000, 0.0941, 0.4471, 0.8667, 0.9922, 0.9922, 0.9922,\n",
       "           0.9922, 0.7882, 0.3059, 0.0000, 0.0000, 0.0000, 0.0000, 0.0000,\n",
       "           0.0000, 0.0000, 0.0000, 0.0000],\n",
       "          [0.0000, 0.0000, 0.0000, 0.0000, 0.0000, 0.0000, 0.0000, 0.0000,\n",
       "           0.0902, 0.2588, 0.8353, 0.9922, 0.9922, 0.9922, 0.9922, 0.7765,\n",
       "           0.3176, 0.0078, 0.0000, 0.0000, 0.0000, 0.0000, 0.0000, 0.0000,\n",
       "           0.0000, 0.0000, 0.0000, 0.0000],\n",
       "          [0.0000, 0.0000, 0.0000, 0.0000, 0.0000, 0.0000, 0.0706, 0.6706,\n",
       "           0.8588, 0.9922, 0.9922, 0.9922, 0.9922, 0.7647, 0.3137, 0.0353,\n",
       "           0.0000, 0.0000, 0.0000, 0.0000, 0.0000, 0.0000, 0.0000, 0.0000,\n",
       "           0.0000, 0.0000, 0.0000, 0.0000],\n",
       "          [0.0000, 0.0000, 0.0000, 0.0000, 0.2157, 0.6745, 0.8863, 0.9922,\n",
       "           0.9922, 0.9922, 0.9922, 0.9569, 0.5216, 0.0431, 0.0000, 0.0000,\n",
       "           0.0000, 0.0000, 0.0000, 0.0000, 0.0000, 0.0000, 0.0000, 0.0000,\n",
       "           0.0000, 0.0000, 0.0000, 0.0000],\n",
       "          [0.0000, 0.0000, 0.0000, 0.0000, 0.5333, 0.9922, 0.9922, 0.9922,\n",
       "           0.8314, 0.5294, 0.5176, 0.0627, 0.0000, 0.0000, 0.0000, 0.0000,\n",
       "           0.0000, 0.0000, 0.0000, 0.0000, 0.0000, 0.0000, 0.0000, 0.0000,\n",
       "           0.0000, 0.0000, 0.0000, 0.0000],\n",
       "          [0.0000, 0.0000, 0.0000, 0.0000, 0.0000, 0.0000, 0.0000, 0.0000,\n",
       "           0.0000, 0.0000, 0.0000, 0.0000, 0.0000, 0.0000, 0.0000, 0.0000,\n",
       "           0.0000, 0.0000, 0.0000, 0.0000, 0.0000, 0.0000, 0.0000, 0.0000,\n",
       "           0.0000, 0.0000, 0.0000, 0.0000],\n",
       "          [0.0000, 0.0000, 0.0000, 0.0000, 0.0000, 0.0000, 0.0000, 0.0000,\n",
       "           0.0000, 0.0000, 0.0000, 0.0000, 0.0000, 0.0000, 0.0000, 0.0000,\n",
       "           0.0000, 0.0000, 0.0000, 0.0000, 0.0000, 0.0000, 0.0000, 0.0000,\n",
       "           0.0000, 0.0000, 0.0000, 0.0000],\n",
       "          [0.0000, 0.0000, 0.0000, 0.0000, 0.0000, 0.0000, 0.0000, 0.0000,\n",
       "           0.0000, 0.0000, 0.0000, 0.0000, 0.0000, 0.0000, 0.0000, 0.0000,\n",
       "           0.0000, 0.0000, 0.0000, 0.0000, 0.0000, 0.0000, 0.0000, 0.0000,\n",
       "           0.0000, 0.0000, 0.0000, 0.0000]]]])"
      ]
     },
     "execution_count": 12,
     "metadata": {},
     "output_type": "execute_result"
    }
   ],
   "source": [
    "X_train.view(1, 1, 28, 28) # ------> 4D batch (batch of 1 image)"
   ]
  },
  {
   "cell_type": "code",
   "execution_count": 13,
   "id": "c6859f7e",
   "metadata": {
    "execution": {
     "iopub.execute_input": "2023-08-18T05:48:51.710018Z",
     "iopub.status.busy": "2023-08-18T05:48:51.709554Z",
     "iopub.status.idle": "2023-08-18T05:48:51.715829Z",
     "shell.execute_reply": "2023-08-18T05:48:51.714565Z"
    },
    "papermill": {
     "duration": 0.026309,
     "end_time": "2023-08-18T05:48:51.718769",
     "exception": false,
     "start_time": "2023-08-18T05:48:51.692460",
     "status": "completed"
    },
    "tags": []
   },
   "outputs": [],
   "source": [
    "x = X_train.view(1, 1, 28, 28) # ------> 4D batch (batch of 1 image)"
   ]
  },
  {
   "cell_type": "code",
   "execution_count": 14,
   "id": "d75d26ed",
   "metadata": {
    "execution": {
     "iopub.execute_input": "2023-08-18T05:48:51.751773Z",
     "iopub.status.busy": "2023-08-18T05:48:51.751028Z",
     "iopub.status.idle": "2023-08-18T05:48:51.779838Z",
     "shell.execute_reply": "2023-08-18T05:48:51.778826Z"
    },
    "papermill": {
     "duration": 0.048742,
     "end_time": "2023-08-18T05:48:51.782632",
     "exception": false,
     "start_time": "2023-08-18T05:48:51.733890",
     "status": "completed"
    },
    "tags": []
   },
   "outputs": [],
   "source": [
    "x = F.relu(conv1(x))"
   ]
  },
  {
   "cell_type": "code",
   "execution_count": 15,
   "id": "6f1278d0",
   "metadata": {
    "execution": {
     "iopub.execute_input": "2023-08-18T05:48:51.815300Z",
     "iopub.status.busy": "2023-08-18T05:48:51.814510Z",
     "iopub.status.idle": "2023-08-18T05:48:51.820811Z",
     "shell.execute_reply": "2023-08-18T05:48:51.819884Z"
    },
    "papermill": {
     "duration": 0.025458,
     "end_time": "2023-08-18T05:48:51.823056",
     "exception": false,
     "start_time": "2023-08-18T05:48:51.797598",
     "status": "completed"
    },
    "tags": []
   },
   "outputs": [
    {
     "data": {
      "text/plain": [
       "torch.Size([1, 6, 26, 26])"
      ]
     },
     "execution_count": 15,
     "metadata": {},
     "output_type": "execute_result"
    }
   ],
   "source": [
    "x.shape"
   ]
  },
  {
   "cell_type": "code",
   "execution_count": 16,
   "id": "d023eef0",
   "metadata": {
    "execution": {
     "iopub.execute_input": "2023-08-18T05:48:51.856068Z",
     "iopub.status.busy": "2023-08-18T05:48:51.855308Z",
     "iopub.status.idle": "2023-08-18T05:48:51.863919Z",
     "shell.execute_reply": "2023-08-18T05:48:51.862892Z"
    },
    "papermill": {
     "duration": 0.027745,
     "end_time": "2023-08-18T05:48:51.866247",
     "exception": false,
     "start_time": "2023-08-18T05:48:51.838502",
     "status": "completed"
    },
    "tags": []
   },
   "outputs": [],
   "source": [
    "x = F.max_pool2d(x, 2, 2)"
   ]
  },
  {
   "cell_type": "code",
   "execution_count": 17,
   "id": "9e6ed439",
   "metadata": {
    "execution": {
     "iopub.execute_input": "2023-08-18T05:48:51.901275Z",
     "iopub.status.busy": "2023-08-18T05:48:51.900817Z",
     "iopub.status.idle": "2023-08-18T05:48:51.908297Z",
     "shell.execute_reply": "2023-08-18T05:48:51.907330Z"
    },
    "papermill": {
     "duration": 0.026514,
     "end_time": "2023-08-18T05:48:51.910379",
     "exception": false,
     "start_time": "2023-08-18T05:48:51.883865",
     "status": "completed"
    },
    "tags": []
   },
   "outputs": [
    {
     "data": {
      "text/plain": [
       "torch.Size([1, 6, 13, 13])"
      ]
     },
     "execution_count": 17,
     "metadata": {},
     "output_type": "execute_result"
    }
   ],
   "source": [
    "x.shape"
   ]
  },
  {
   "cell_type": "code",
   "execution_count": 18,
   "id": "62c4eee9",
   "metadata": {
    "execution": {
     "iopub.execute_input": "2023-08-18T05:48:51.944251Z",
     "iopub.status.busy": "2023-08-18T05:48:51.943257Z",
     "iopub.status.idle": "2023-08-18T05:48:51.949171Z",
     "shell.execute_reply": "2023-08-18T05:48:51.948213Z"
    },
    "papermill": {
     "duration": 0.025197,
     "end_time": "2023-08-18T05:48:51.951487",
     "exception": false,
     "start_time": "2023-08-18T05:48:51.926290",
     "status": "completed"
    },
    "tags": []
   },
   "outputs": [],
   "source": [
    "x = F.relu(conv2(x))"
   ]
  },
  {
   "cell_type": "code",
   "execution_count": 19,
   "id": "ce75ca49",
   "metadata": {
    "execution": {
     "iopub.execute_input": "2023-08-18T05:48:51.988569Z",
     "iopub.status.busy": "2023-08-18T05:48:51.986896Z",
     "iopub.status.idle": "2023-08-18T05:48:51.994735Z",
     "shell.execute_reply": "2023-08-18T05:48:51.993708Z"
    },
    "papermill": {
     "duration": 0.028236,
     "end_time": "2023-08-18T05:48:51.997101",
     "exception": false,
     "start_time": "2023-08-18T05:48:51.968865",
     "status": "completed"
    },
    "tags": []
   },
   "outputs": [
    {
     "data": {
      "text/plain": [
       "torch.Size([1, 16, 11, 11])"
      ]
     },
     "execution_count": 19,
     "metadata": {},
     "output_type": "execute_result"
    }
   ],
   "source": [
    "x.shape"
   ]
  },
  {
   "cell_type": "code",
   "execution_count": 20,
   "id": "1fb77b73",
   "metadata": {
    "execution": {
     "iopub.execute_input": "2023-08-18T05:48:52.032848Z",
     "iopub.status.busy": "2023-08-18T05:48:52.031933Z",
     "iopub.status.idle": "2023-08-18T05:48:52.041563Z",
     "shell.execute_reply": "2023-08-18T05:48:52.040449Z"
    },
    "papermill": {
     "duration": 0.030823,
     "end_time": "2023-08-18T05:48:52.044313",
     "exception": false,
     "start_time": "2023-08-18T05:48:52.013490",
     "status": "completed"
    },
    "tags": []
   },
   "outputs": [],
   "source": [
    "x = F.max_pool2d(x, 2, 2)"
   ]
  },
  {
   "cell_type": "code",
   "execution_count": 21,
   "id": "aad9134c",
   "metadata": {
    "execution": {
     "iopub.execute_input": "2023-08-18T05:48:52.077926Z",
     "iopub.status.busy": "2023-08-18T05:48:52.076815Z",
     "iopub.status.idle": "2023-08-18T05:48:52.084301Z",
     "shell.execute_reply": "2023-08-18T05:48:52.082869Z"
    },
    "papermill": {
     "duration": 0.027042,
     "end_time": "2023-08-18T05:48:52.086858",
     "exception": false,
     "start_time": "2023-08-18T05:48:52.059816",
     "status": "completed"
    },
    "tags": []
   },
   "outputs": [
    {
     "data": {
      "text/plain": [
       "torch.Size([1, 16, 5, 5])"
      ]
     },
     "execution_count": 21,
     "metadata": {},
     "output_type": "execute_result"
    }
   ],
   "source": [
    "x.shape"
   ]
  },
  {
   "cell_type": "code",
   "execution_count": 22,
   "id": "95bb5f09",
   "metadata": {
    "execution": {
     "iopub.execute_input": "2023-08-18T05:48:52.120692Z",
     "iopub.status.busy": "2023-08-18T05:48:52.120180Z",
     "iopub.status.idle": "2023-08-18T05:48:52.127980Z",
     "shell.execute_reply": "2023-08-18T05:48:52.126772Z"
    },
    "papermill": {
     "duration": 0.027917,
     "end_time": "2023-08-18T05:48:52.130487",
     "exception": false,
     "start_time": "2023-08-18T05:48:52.102570",
     "status": "completed"
    },
    "tags": []
   },
   "outputs": [
    {
     "data": {
      "text/plain": [
       "5.5"
      ]
     },
     "execution_count": 22,
     "metadata": {},
     "output_type": "execute_result"
    }
   ],
   "source": [
    "11 / 2"
   ]
  },
  {
   "cell_type": "code",
   "execution_count": 23,
   "id": "05fe3ed3",
   "metadata": {
    "execution": {
     "iopub.execute_input": "2023-08-18T05:48:52.165430Z",
     "iopub.status.busy": "2023-08-18T05:48:52.164929Z",
     "iopub.status.idle": "2023-08-18T05:48:52.174193Z",
     "shell.execute_reply": "2023-08-18T05:48:52.173248Z"
    },
    "papermill": {
     "duration": 0.029845,
     "end_time": "2023-08-18T05:48:52.176422",
     "exception": false,
     "start_time": "2023-08-18T05:48:52.146577",
     "status": "completed"
    },
    "tags": []
   },
   "outputs": [
    {
     "data": {
      "text/plain": [
       "5.5"
      ]
     },
     "execution_count": 23,
     "metadata": {},
     "output_type": "execute_result"
    }
   ],
   "source": [
    "(((28-2) / 2) - 2) / 2"
   ]
  },
  {
   "cell_type": "code",
   "execution_count": 24,
   "id": "1ea1fd4d",
   "metadata": {
    "execution": {
     "iopub.execute_input": "2023-08-18T05:48:52.210958Z",
     "iopub.status.busy": "2023-08-18T05:48:52.210377Z",
     "iopub.status.idle": "2023-08-18T05:48:52.218201Z",
     "shell.execute_reply": "2023-08-18T05:48:52.217012Z"
    },
    "papermill": {
     "duration": 0.027868,
     "end_time": "2023-08-18T05:48:52.220766",
     "exception": false,
     "start_time": "2023-08-18T05:48:52.192898",
     "status": "completed"
    },
    "tags": []
   },
   "outputs": [
    {
     "data": {
      "text/plain": [
       "torch.Size([1, 16, 5, 5])"
      ]
     },
     "execution_count": 24,
     "metadata": {},
     "output_type": "execute_result"
    }
   ],
   "source": [
    "x.shape # 10"
   ]
  },
  {
   "cell_type": "code",
   "execution_count": 25,
   "id": "486920bb",
   "metadata": {
    "execution": {
     "iopub.execute_input": "2023-08-18T05:48:52.255219Z",
     "iopub.status.busy": "2023-08-18T05:48:52.254750Z",
     "iopub.status.idle": "2023-08-18T05:48:52.263475Z",
     "shell.execute_reply": "2023-08-18T05:48:52.262224Z"
    },
    "papermill": {
     "duration": 0.029686,
     "end_time": "2023-08-18T05:48:52.266641",
     "exception": false,
     "start_time": "2023-08-18T05:48:52.236955",
     "status": "completed"
    },
    "tags": []
   },
   "outputs": [
    {
     "data": {
      "text/plain": [
       "torch.Size([1, 400])"
      ]
     },
     "execution_count": 25,
     "metadata": {},
     "output_type": "execute_result"
    }
   ],
   "source": [
    "x.view(-1, 16*5*5).shape"
   ]
  },
  {
   "cell_type": "code",
   "execution_count": 26,
   "id": "620c509b",
   "metadata": {
    "execution": {
     "iopub.execute_input": "2023-08-18T05:48:52.302296Z",
     "iopub.status.busy": "2023-08-18T05:48:52.301808Z",
     "iopub.status.idle": "2023-08-18T05:48:52.312152Z",
     "shell.execute_reply": "2023-08-18T05:48:52.311179Z"
    },
    "papermill": {
     "duration": 0.031639,
     "end_time": "2023-08-18T05:48:52.314777",
     "exception": false,
     "start_time": "2023-08-18T05:48:52.283138",
     "status": "completed"
    },
    "tags": []
   },
   "outputs": [],
   "source": [
    "class ConvolutionalNetwork(nn.Module):\n",
    "    def __init__(self):\n",
    "        super().__init__()\n",
    "        self.conv1 = nn.Conv2d(1, 6, 3, 1)\n",
    "        self.conv2 = nn.Conv2d(6, 16, 3, 1)\n",
    "        self.fc1 = nn.Linear(5*5*16, 120)\n",
    "        self.fc2 = nn.Linear(120, 84)\n",
    "        self.fc3 = nn.Linear(84, 10)\n",
    "\n",
    "    def forward(self, X):\n",
    "        X = F.relu(self.conv1(X))\n",
    "        X = F.max_pool2d(X, 2, 2)\n",
    "        X = F.relu(self.conv2(X))\n",
    "        X = F.max_pool2d(X, 2, 2)\n",
    "        X = X.view(-1, 16*5*5)\n",
    "        X = F.relu(self.fc1(X))\n",
    "        X = F.relu(self.fc2(X))\n",
    "        X = self.fc3(X)\n",
    "        return F.log_softmax(X, dim=1)"
   ]
  },
  {
   "cell_type": "code",
   "execution_count": 27,
   "id": "c9bb24e7",
   "metadata": {
    "execution": {
     "iopub.execute_input": "2023-08-18T05:48:52.350898Z",
     "iopub.status.busy": "2023-08-18T05:48:52.350432Z",
     "iopub.status.idle": "2023-08-18T05:48:52.366293Z",
     "shell.execute_reply": "2023-08-18T05:48:52.364993Z"
    },
    "papermill": {
     "duration": 0.037408,
     "end_time": "2023-08-18T05:48:52.368967",
     "exception": false,
     "start_time": "2023-08-18T05:48:52.331559",
     "status": "completed"
    },
    "tags": []
   },
   "outputs": [
    {
     "data": {
      "text/plain": [
       "ConvolutionalNetwork(\n",
       "  (conv1): Conv2d(1, 6, kernel_size=(3, 3), stride=(1, 1))\n",
       "  (conv2): Conv2d(6, 16, kernel_size=(3, 3), stride=(1, 1))\n",
       "  (fc1): Linear(in_features=400, out_features=120, bias=True)\n",
       "  (fc2): Linear(in_features=120, out_features=84, bias=True)\n",
       "  (fc3): Linear(in_features=84, out_features=10, bias=True)\n",
       ")"
      ]
     },
     "execution_count": 27,
     "metadata": {},
     "output_type": "execute_result"
    }
   ],
   "source": [
    "torch.manual_seed(42)\n",
    "model = ConvolutionalNetwork()\n",
    "model"
   ]
  },
  {
   "cell_type": "code",
   "execution_count": 28,
   "id": "8536f5dd",
   "metadata": {
    "execution": {
     "iopub.execute_input": "2023-08-18T05:48:52.407747Z",
     "iopub.status.busy": "2023-08-18T05:48:52.407081Z",
     "iopub.status.idle": "2023-08-18T05:48:52.412978Z",
     "shell.execute_reply": "2023-08-18T05:48:52.411663Z"
    },
    "papermill": {
     "duration": 0.027497,
     "end_time": "2023-08-18T05:48:52.415512",
     "exception": false,
     "start_time": "2023-08-18T05:48:52.388015",
     "status": "completed"
    },
    "tags": []
   },
   "outputs": [
    {
     "name": "stdout",
     "output_type": "stream",
     "text": [
      "54\n",
      "6\n",
      "864\n",
      "16\n",
      "48000\n",
      "120\n",
      "10080\n",
      "84\n",
      "840\n",
      "10\n"
     ]
    }
   ],
   "source": [
    "for param in model.parameters():\n",
    "    print(param.numel())"
   ]
  },
  {
   "cell_type": "code",
   "execution_count": 29,
   "id": "2cd3c0b8",
   "metadata": {
    "execution": {
     "iopub.execute_input": "2023-08-18T05:48:52.452628Z",
     "iopub.status.busy": "2023-08-18T05:48:52.452154Z",
     "iopub.status.idle": "2023-08-18T05:48:52.458309Z",
     "shell.execute_reply": "2023-08-18T05:48:52.456962Z"
    },
    "papermill": {
     "duration": 0.027806,
     "end_time": "2023-08-18T05:48:52.460705",
     "exception": false,
     "start_time": "2023-08-18T05:48:52.432899",
     "status": "completed"
    },
    "tags": []
   },
   "outputs": [],
   "source": [
    "criterion = nn.CrossEntropyLoss()\n",
    "optimizer = torch.optim.Adam(model.parameters(), lr=0.001)"
   ]
  },
  {
   "cell_type": "code",
   "execution_count": 30,
   "id": "1d245eab",
   "metadata": {
    "execution": {
     "iopub.execute_input": "2023-08-18T05:48:52.497757Z",
     "iopub.status.busy": "2023-08-18T05:48:52.496249Z",
     "iopub.status.idle": "2023-08-18T05:51:50.095464Z",
     "shell.execute_reply": "2023-08-18T05:51:50.093776Z"
    },
    "papermill": {
     "duration": 177.62075,
     "end_time": "2023-08-18T05:51:50.098440",
     "exception": false,
     "start_time": "2023-08-18T05:48:52.477690",
     "status": "completed"
    },
    "tags": []
   },
   "outputs": [
    {
     "name": "stdout",
     "output_type": "stream",
     "text": [
      "Epoch: 0 - Batch: 600 - Loss: 0.04055631905794144\n",
      "Epoch: 0 - Batch: 1200 - Loss: 0.08253464102745056\n",
      "Epoch: 0 - Batch: 1800 - Loss: 0.36470240354537964\n",
      "Epoch: 0 - Batch: 2400 - Loss: 0.01992771588265896\n",
      "Epoch: 0 - Batch: 3000 - Loss: 0.0077196648344397545\n",
      "Epoch: 0 - Batch: 3600 - Loss: 0.0012819472467526793\n",
      "Epoch: 0 - Batch: 4200 - Loss: 0.5857292413711548\n",
      "Epoch: 0 - Batch: 4800 - Loss: 0.015272838994860649\n",
      "Epoch: 0 - Batch: 5400 - Loss: 0.00601040618494153\n",
      "Epoch: 0 - Batch: 6000 - Loss: 0.03885171189904213\n",
      "Epoch: 1 - Batch: 600 - Loss: 0.009582718834280968\n",
      "Epoch: 1 - Batch: 1200 - Loss: 0.05723100155591965\n",
      "Epoch: 1 - Batch: 1800 - Loss: 0.000783827155828476\n",
      "Epoch: 1 - Batch: 2400 - Loss: 0.04042986035346985\n",
      "Epoch: 1 - Batch: 3000 - Loss: 0.3133960962295532\n",
      "Epoch: 1 - Batch: 3600 - Loss: 0.0001315607805736363\n",
      "Epoch: 1 - Batch: 4200 - Loss: 0.00019000910106115043\n",
      "Epoch: 1 - Batch: 4800 - Loss: 0.0009420821443200111\n",
      "Epoch: 1 - Batch: 5400 - Loss: 0.001644509262405336\n",
      "Epoch: 1 - Batch: 6000 - Loss: 0.05286030098795891\n",
      "Epoch: 2 - Batch: 600 - Loss: 0.0008287798846140504\n",
      "Epoch: 2 - Batch: 1200 - Loss: 0.004823466297239065\n",
      "Epoch: 2 - Batch: 1800 - Loss: 0.014645355753600597\n",
      "Epoch: 2 - Batch: 2400 - Loss: 0.0021878748666495085\n",
      "Epoch: 2 - Batch: 3000 - Loss: 0.24618598818778992\n",
      "Epoch: 2 - Batch: 3600 - Loss: 0.10017748177051544\n",
      "Epoch: 2 - Batch: 4200 - Loss: 0.05996900051832199\n",
      "Epoch: 2 - Batch: 4800 - Loss: 0.0018480730941519141\n",
      "Epoch: 2 - Batch: 5400 - Loss: 0.0005340026109479368\n",
      "Epoch: 2 - Batch: 6000 - Loss: 0.00031088077230378985\n",
      "Epoch: 3 - Batch: 600 - Loss: 0.0003092390252277255\n",
      "Epoch: 3 - Batch: 1200 - Loss: 0.000559573236387223\n",
      "Epoch: 3 - Batch: 1800 - Loss: 0.0010141551028937101\n",
      "Epoch: 3 - Batch: 2400 - Loss: 0.0008260992472060025\n",
      "Epoch: 3 - Batch: 3000 - Loss: 0.003759071696549654\n",
      "Epoch: 3 - Batch: 3600 - Loss: 0.0012223480734974146\n",
      "Epoch: 3 - Batch: 4200 - Loss: 7.513117452617735e-05\n",
      "Epoch: 3 - Batch: 4800 - Loss: 0.02130131423473358\n",
      "Epoch: 3 - Batch: 5400 - Loss: 0.01786491833627224\n",
      "Epoch: 3 - Batch: 6000 - Loss: 0.026486050337553024\n",
      "Epoch: 4 - Batch: 600 - Loss: 0.0011513300705701113\n",
      "Epoch: 4 - Batch: 1200 - Loss: 0.03769359365105629\n",
      "Epoch: 4 - Batch: 1800 - Loss: 8.925261499825865e-05\n",
      "Epoch: 4 - Batch: 2400 - Loss: 4.443767829798162e-05\n",
      "Epoch: 4 - Batch: 3000 - Loss: 0.000586775888223201\n",
      "Epoch: 4 - Batch: 3600 - Loss: 6.341269181575626e-05\n",
      "Epoch: 4 - Batch: 4200 - Loss: 4.044198431074619e-05\n",
      "Epoch: 4 - Batch: 4800 - Loss: 0.0007864056969992816\n",
      "Epoch: 4 - Batch: 5400 - Loss: 0.0002666410291567445\n",
      "Epoch: 4 - Batch: 6000 - Loss: 0.0017466951394453645\n",
      "Training took: 2.9597382307052613 minutes\n"
     ]
    }
   ],
   "source": [
    "import time\n",
    "start_time = time.time()\n",
    "\n",
    "# Variables (trackers)\n",
    "epochs = 5\n",
    "train_losses = []\n",
    "test_losses = []\n",
    "train_correct = []\n",
    "test_correct = []\n",
    "\n",
    "# For loop for epochs\n",
    "for i in range(epochs):\n",
    "    trn_corr = 0\n",
    "    tst_corr = 0\n",
    "    # Train\n",
    "    for b, (X_train, y_train) in enumerate(train_loader):\n",
    "        b+=1\n",
    "\n",
    "        y_pred = model(X_train) # Not flatten!\n",
    "        loss = criterion(y_pred, y_train)\n",
    "\n",
    "        predicted = torch.max(y_pred.data, 1)[1]\n",
    "        batch_corr = (predicted == y_train).sum() # True / False sum()\n",
    "        trn_corr += batch_corr\n",
    "\n",
    "        optimizer.zero_grad()\n",
    "        loss.backward()\n",
    "        optimizer.step()\n",
    "\n",
    "        if b%600 == 0:\n",
    "            print(f\"Epoch: {i} - Batch: {b} - Loss: {loss.item()}\")\n",
    "\n",
    "    train_losses.append(loss.item())\n",
    "    train_correct.append(trn_corr.item())\n",
    "\n",
    "    # Test\n",
    "    with torch.no_grad():\n",
    "        for b, (X_test, y_test) in enumerate(test_loader):\n",
    "\n",
    "            y_val = model(X_test)\n",
    "\n",
    "            predicted = torch.max(y_val.data, 1)[1]\n",
    "            tst_corr += (predicted == y_test).sum()\n",
    "    loss = criterion(y_val, y_test)\n",
    "    test_losses.append(loss)\n",
    "    test_correct.append(tst_corr)\n",
    "\n",
    "current_time = time.time()\n",
    "total = current_time - start_time\n",
    "print(f'Training took: {total/60} minutes')"
   ]
  },
  {
   "cell_type": "code",
   "execution_count": 31,
   "id": "52d2f8f6",
   "metadata": {
    "execution": {
     "iopub.execute_input": "2023-08-18T05:51:50.144287Z",
     "iopub.status.busy": "2023-08-18T05:51:50.143503Z",
     "iopub.status.idle": "2023-08-18T05:51:50.600004Z",
     "shell.execute_reply": "2023-08-18T05:51:50.599087Z"
    },
    "papermill": {
     "duration": 0.482252,
     "end_time": "2023-08-18T05:51:50.603057",
     "exception": false,
     "start_time": "2023-08-18T05:51:50.120805",
     "status": "completed"
    },
    "tags": []
   },
   "outputs": [
    {
     "data": {
      "text/plain": [
       "<matplotlib.legend.Legend at 0x7e532ed12080>"
      ]
     },
     "execution_count": 31,
     "metadata": {},
     "output_type": "execute_result"
    },
    {
     "data": {
      "image/png": "[encoded data removed]",
      "text/plain": [
       "<Figure size 640x480 with 1 Axes>"
      ]
     },
     "metadata": {},
     "output_type": "display_data"
    }
   ],
   "source": [
    "plt.plot(train_losses, label='Train loss')\n",
    "plt.plot(test_losses, label='Validation loss')\n",
    "plt.title('Loss at epoch')\n",
    "plt.legend()"
   ]
  },
  {
   "cell_type": "code",
   "execution_count": 32,
   "id": "f4d8aaf1",
   "metadata": {
    "execution": {
     "iopub.execute_input": "2023-08-18T05:51:50.671231Z",
     "iopub.status.busy": "2023-08-18T05:51:50.670209Z",
     "iopub.status.idle": "2023-08-18T05:51:51.079428Z",
     "shell.execute_reply": "2023-08-18T05:51:51.078143Z"
    },
    "papermill": {
     "duration": 0.445663,
     "end_time": "2023-08-18T05:51:51.082874",
     "exception": false,
     "start_time": "2023-08-18T05:51:50.637211",
     "status": "completed"
    },
    "tags": []
   },
   "outputs": [
    {
     "data": {
      "text/plain": [
       "<matplotlib.legend.Legend at 0x7e532e2fd0c0>"
      ]
     },
     "execution_count": 32,
     "metadata": {},
     "output_type": "execute_result"
    },
    {
     "data": {
      "image/png": "[encoded data removed]",
      "text/plain": [
       "<Figure size 640x480 with 1 Axes>"
      ]
     },
     "metadata": {},
     "output_type": "display_data"
    }
   ],
   "source": [
    "plt.plot([t/600 for t in train_correct], label='Train acc')\n",
    "plt.plot([t/100 for t in test_correct], label='Validation acc')\n",
    "plt.title('Accuracy at the end of each epoch')\n",
    "plt.legend()"
   ]
  },
  {
   "cell_type": "code",
   "execution_count": 33,
   "id": "019a195a",
   "metadata": {
    "execution": {
     "iopub.execute_input": "2023-08-18T05:51:51.130760Z",
     "iopub.status.busy": "2023-08-18T05:51:51.130321Z",
     "iopub.status.idle": "2023-08-18T05:51:51.135823Z",
     "shell.execute_reply": "2023-08-18T05:51:51.134456Z"
    },
    "papermill": {
     "duration": 0.032867,
     "end_time": "2023-08-18T05:51:51.138969",
     "exception": false,
     "start_time": "2023-08-18T05:51:51.106102",
     "status": "completed"
    },
    "tags": []
   },
   "outputs": [],
   "source": [
    "test_load_all = DataLoader(test_data, batch_size=10000, shuffle=False)"
   ]
  },
  {
   "cell_type": "code",
   "execution_count": 34,
   "id": "6084e25c",
   "metadata": {
    "execution": {
     "iopub.execute_input": "2023-08-18T05:51:51.188108Z",
     "iopub.status.busy": "2023-08-18T05:51:51.187707Z",
     "iopub.status.idle": "2023-08-18T05:51:53.600781Z",
     "shell.execute_reply": "2023-08-18T05:51:53.599483Z"
    },
    "papermill": {
     "duration": 2.442141,
     "end_time": "2023-08-18T05:51:53.604374",
     "exception": false,
     "start_time": "2023-08-18T05:51:51.162233",
     "status": "completed"
    },
    "tags": []
   },
   "outputs": [],
   "source": [
    "with torch.no_grad():\n",
    "    correct = 0\n",
    "    for X_test, y_test in test_load_all:\n",
    "        y_val = model(X_test)\n",
    "        predicted = torch.max(y_val, 1)[1]\n",
    "        correct += (predicted == y_test).sum()"
   ]
  },
  {
   "cell_type": "code",
   "execution_count": 35,
   "id": "47576848",
   "metadata": {
    "execution": {
     "iopub.execute_input": "2023-08-18T05:51:53.651284Z",
     "iopub.status.busy": "2023-08-18T05:51:53.650846Z",
     "iopub.status.idle": "2023-08-18T05:51:53.659028Z",
     "shell.execute_reply": "2023-08-18T05:51:53.657846Z"
    },
    "papermill": {
     "duration": 0.034566,
     "end_time": "2023-08-18T05:51:53.661371",
     "exception": false,
     "start_time": "2023-08-18T05:51:53.626805",
     "status": "completed"
    },
    "tags": []
   },
   "outputs": [
    {
     "data": {
      "text/plain": [
       "0.9861"
      ]
     },
     "execution_count": 35,
     "metadata": {},
     "output_type": "execute_result"
    }
   ],
   "source": [
    "correct.item()/len(test_data)"
   ]
  },
  {
   "cell_type": "code",
   "execution_count": 36,
   "id": "c5a6a482",
   "metadata": {
    "execution": {
     "iopub.execute_input": "2023-08-18T05:51:53.709540Z",
     "iopub.status.busy": "2023-08-18T05:51:53.708736Z",
     "iopub.status.idle": "2023-08-18T05:51:53.725316Z",
     "shell.execute_reply": "2023-08-18T05:51:53.723935Z"
    },
    "papermill": {
     "duration": 0.043826,
     "end_time": "2023-08-18T05:51:53.727845",
     "exception": false,
     "start_time": "2023-08-18T05:51:53.684019",
     "status": "completed"
    },
    "tags": []
   },
   "outputs": [
    {
     "name": "stdout",
     "output_type": "stream",
     "text": [
      "[[   0    1    2    3    4    5    6    7    8    9]]\n",
      "\n"
     ]
    },
    {
     "data": {
      "text/plain": [
       "array([[ 973,    0,    1,    0,    0,    2,    1,    0,    5,    0],\n",
       "       [   0, 1133,    6,    1,    0,    0,    3,    7,    0,    3],\n",
       "       [   2,    0, 1013,    2,    0,    0,    1,    6,    3,    1],\n",
       "       [   0,    1,    0,  999,    0,    8,    0,    1,    1,    2],\n",
       "       [   0,    0,    2,    0,  978,    0,    1,    1,    3,   14],\n",
       "       [   0,    0,    0,    3,    0,  874,    3,    0,    0,    4],\n",
       "       [   4,    1,    1,    0,    2,    3,  948,    0,    0,    0],\n",
       "       [   1,    0,    8,    2,    0,    1,    0, 1008,    0,    5],\n",
       "       [   0,    0,    1,    3,    0,    1,    1,    1,  961,    6],\n",
       "       [   0,    0,    0,    0,    2,    3,    0,    4,    1,  974]])"
      ]
     },
     "execution_count": 36,
     "metadata": {},
     "output_type": "execute_result"
    }
   ],
   "source": [
    "# print a row of values for reference\n",
    "np.set_printoptions(formatter=dict(int=lambda x: f'{x:4}'))\n",
    "print(np.arange(10).reshape(1, 10))\n",
    "print()\n",
    "\n",
    "# print the confusion matrix\n",
    "confusion_matrix(predicted.view(-1), y_test.view(-1))"
   ]
  },
  {
   "cell_type": "code",
   "execution_count": 37,
   "id": "8d65cf2a",
   "metadata": {
    "execution": {
     "iopub.execute_input": "2023-08-18T05:51:53.778110Z",
     "iopub.status.busy": "2023-08-18T05:51:53.777034Z",
     "iopub.status.idle": "2023-08-18T05:51:54.018081Z",
     "shell.execute_reply": "2023-08-18T05:51:54.016919Z"
    },
    "papermill": {
     "duration": 0.269159,
     "end_time": "2023-08-18T05:51:54.020973",
     "exception": false,
     "start_time": "2023-08-18T05:51:53.751814",
     "status": "completed"
    },
    "tags": []
   },
   "outputs": [
    {
     "data": {
      "text/plain": [
       "<matplotlib.image.AxesImage at 0x7e532fa27fa0>"
      ]
     },
     "execution_count": 37,
     "metadata": {},
     "output_type": "execute_result"
    },
    {
     "data": {
      "image/png": "[encoded data removed]",
      "text/plain": [
       "<Figure size 640x480 with 1 Axes>"
      ]
     },
     "metadata": {},
     "output_type": "display_data"
    }
   ],
   "source": [
    "plt.imshow(test_data[2029][0].reshape(28, 28))"
   ]
  },
  {
   "cell_type": "code",
   "execution_count": 38,
   "id": "533ece70",
   "metadata": {
    "execution": {
     "iopub.execute_input": "2023-08-18T05:51:54.072583Z",
     "iopub.status.busy": "2023-08-18T05:51:54.072097Z",
     "iopub.status.idle": "2023-08-18T05:51:54.081165Z",
     "shell.execute_reply": "2023-08-18T05:51:54.080211Z"
    },
    "papermill": {
     "duration": 0.037956,
     "end_time": "2023-08-18T05:51:54.083833",
     "exception": false,
     "start_time": "2023-08-18T05:51:54.045877",
     "status": "completed"
    },
    "tags": []
   },
   "outputs": [],
   "source": [
    "model.eval()\n",
    "with torch.no_grad():\n",
    "    new_prediction = model(test_data[2019][0].view(1, 1, 28, 28))"
   ]
  },
  {
   "cell_type": "code",
   "execution_count": 39,
   "id": "19aa4c40",
   "metadata": {
    "execution": {
     "iopub.execute_input": "2023-08-18T05:51:54.133886Z",
     "iopub.status.busy": "2023-08-18T05:51:54.133499Z",
     "iopub.status.idle": "2023-08-18T05:51:54.145067Z",
     "shell.execute_reply": "2023-08-18T05:51:54.143479Z"
    },
    "papermill": {
     "duration": 0.040173,
     "end_time": "2023-08-18T05:51:54.148130",
     "exception": false,
     "start_time": "2023-08-18T05:51:54.107957",
     "status": "completed"
    },
    "tags": []
   },
   "outputs": [
    {
     "data": {
      "text/plain": [
       "tensor(9)"
      ]
     },
     "execution_count": 39,
     "metadata": {},
     "output_type": "execute_result"
    }
   ],
   "source": [
    "new_prediction.argmax()"
   ]
  }
 ],
 "metadata": {
  "kernelspec": {
   "display_name": "Python 3",
   "language": "python",
   "name": "python3"
  },
  "language_info": {
   "codemirror_mode": {
    "name": "ipython",
    "version": 3
   },
   "file_extension": ".py",
   "mimetype": "text/x-python",
   "name": "python",
   "nbconvert_exporter": "python",
   "pygments_lexer": "ipython3",
   "version": "3.10.12"
  },
  "papermill": {
   "default_parameters": {},
   "duration": 205.025613,
   "end_time": "2023-08-18T05:51:56.956232",
   "environment_variables": {},
   "exception": null,
   "input_path": "__notebook__.ipynb",
   "output_path": "__notebook__.ipynb",
   "parameters": {},
   "start_time": "2023-08-18T05:48:31.930619",
   "version": "2.4.0"
  }
 },
 "nbformat": 4,
 "nbformat_minor": 5
}
