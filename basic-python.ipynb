{
 "cells": [
  {
   "cell_type": "code",
   "execution_count": 1,
   "id": "67266b70",
   "metadata": {
    "execution": {
     "iopub.execute_input": "2023-07-28T11:05:51.671489Z",
     "iopub.status.busy": "2023-07-28T11:05:51.671082Z",
     "iopub.status.idle": "2023-07-28T11:05:51.684857Z",
     "shell.execute_reply": "2023-07-28T11:05:51.683348Z"
    },
    "papermill": {
     "duration": 0.020165,
     "end_time": "2023-07-28T11:05:51.687259",
     "exception": false,
     "start_time": "2023-07-28T11:05:51.667094",
     "status": "completed"
    },
    "tags": []
   },
   "outputs": [
    {
     "name": "stdout",
     "output_type": "stream",
     "text": [
      "Hello World\n"
     ]
    }
   ],
   "source": [
    "print(\"Hello World\")"
   ]
  },
  {
   "cell_type": "code",
   "execution_count": null,
   "id": "9b6e5098",
   "metadata": {
    "papermill": {
     "duration": 0.00161,
     "end_time": "2023-07-28T11:05:51.691061",
     "exception": false,
     "start_time": "2023-07-28T11:05:51.689451",
     "status": "completed"
    },
    "tags": []
   },
   "outputs": [],
   "source": []
  }
 ],
 "metadata": {
  "kernelspec": {
   "display_name": "Python 3",
   "language": "python",
   "name": "python3"
  },
  "language_info": {
   "codemirror_mode": {
    "name": "ipython",
    "version": 3
   },
   "file_extension": ".py",
   "mimetype": "text/x-python",
   "name": "python",
   "nbconvert_exporter": "python",
   "pygments_lexer": "ipython3",
   "version": "3.10.12"
  },
  "papermill": {
   "default_parameters": {},
   "duration": 13.097923,
   "end_time": "2023-07-28T11:05:52.615213",
   "environment_variables": {},
   "exception": null,
   "input_path": "__notebook__.ipynb",
   "output_path": "__notebook__.ipynb",
   "parameters": {},
   "start_time": "2023-07-28T11:05:39.517290",
   "version": "2.4.0"
  }
 },
 "nbformat": 4,
 "nbformat_minor": 5
}
