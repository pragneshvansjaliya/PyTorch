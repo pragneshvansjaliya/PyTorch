{
 "cells": [
  {
   "cell_type": "code",
   "execution_count": 1,
   "id": "0cf4dad7",
   "metadata": {
    "_cell_guid": "b1076dfc-b9ad-4769-8c92-a6c4dae69d19",
    "_uuid": "8f2839f25d086af736a60e9eeb907d3b93b6e0e5",
    "execution": {
     "iopub.execute_input": "2023-08-17T11:41:20.257465Z",
     "iopub.status.busy": "2023-08-17T11:41:20.257011Z",
     "iopub.status.idle": "2023-08-17T11:41:23.940452Z",
     "shell.execute_reply": "2023-08-17T11:41:23.939132Z"
    },
    "papermill": {
     "duration": 3.697077,
     "end_time": "2023-08-17T11:41:23.943260",
     "exception": false,
     "start_time": "2023-08-17T11:41:20.246183",
     "status": "completed"
    },
    "tags": []
   },
   "outputs": [],
   "source": [
    "import torch\n",
    "import torch.nn as nn\n",
    "import torch.nn.functional as F"
   ]
  },
  {
   "cell_type": "code",
   "execution_count": 2,
   "id": "d0f14986",
   "metadata": {
    "execution": {
     "iopub.execute_input": "2023-08-17T11:41:23.963667Z",
     "iopub.status.busy": "2023-08-17T11:41:23.963001Z",
     "iopub.status.idle": "2023-08-17T11:41:24.276325Z",
     "shell.execute_reply": "2023-08-17T11:41:24.275206Z"
    },
    "papermill": {
     "duration": 0.326113,
     "end_time": "2023-08-17T11:41:24.278915",
     "exception": false,
     "start_time": "2023-08-17T11:41:23.952802",
     "status": "completed"
    },
    "tags": []
   },
   "outputs": [],
   "source": [
    "from torch.utils.data import DataLoader\n",
    "from torchvision import datasets, transforms"
   ]
  },
  {
   "cell_type": "code",
   "execution_count": 3,
   "id": "b90f7c96",
   "metadata": {
    "execution": {
     "iopub.execute_input": "2023-08-17T11:41:24.301063Z",
     "iopub.status.busy": "2023-08-17T11:41:24.300671Z",
     "iopub.status.idle": "2023-08-17T11:41:25.476669Z",
     "shell.execute_reply": "2023-08-17T11:41:25.475434Z"
    },
    "papermill": {
     "duration": 1.190993,
     "end_time": "2023-08-17T11:41:25.479905",
     "exception": false,
     "start_time": "2023-08-17T11:41:24.288912",
     "status": "completed"
    },
    "tags": []
   },
   "outputs": [
    {
     "name": "stderr",
     "output_type": "stream",
     "text": [
      "/opt/conda/lib/python3.10/site-packages/scipy/__init__.py:146: UserWarning: A NumPy version >=1.16.5 and <1.23.0 is required for this version of SciPy (detected version 1.23.5\n",
      "  warnings.warn(f\"A NumPy version >={np_minversion} and <{np_maxversion}\"\n"
     ]
    }
   ],
   "source": [
    "import numpy as np\n",
    "import pandas as pd\n",
    "from sklearn.metrics import confusion_matrix\n",
    "import matplotlib.pyplot as plt\n",
    "%matplotlib inline"
   ]
  },
  {
   "cell_type": "code",
   "execution_count": 4,
   "id": "833e450d",
   "metadata": {
    "execution": {
     "iopub.execute_input": "2023-08-17T11:41:25.500244Z",
     "iopub.status.busy": "2023-08-17T11:41:25.499272Z",
     "iopub.status.idle": "2023-08-17T11:41:25.504384Z",
     "shell.execute_reply": "2023-08-17T11:41:25.503204Z"
    },
    "papermill": {
     "duration": 0.017581,
     "end_time": "2023-08-17T11:41:25.506630",
     "exception": false,
     "start_time": "2023-08-17T11:41:25.489049",
     "status": "completed"
    },
    "tags": []
   },
   "outputs": [],
   "source": [
    "transform = transforms.ToTensor()"
   ]
  },
  {
   "cell_type": "code",
   "execution_count": 5,
   "id": "3f2ef5cd",
   "metadata": {
    "execution": {
     "iopub.execute_input": "2023-08-17T11:41:25.527017Z",
     "iopub.status.busy": "2023-08-17T11:41:25.526343Z",
     "iopub.status.idle": "2023-08-17T11:41:27.353228Z",
     "shell.execute_reply": "2023-08-17T11:41:27.352133Z"
    },
    "papermill": {
     "duration": 1.841169,
     "end_time": "2023-08-17T11:41:27.356797",
     "exception": false,
     "start_time": "2023-08-17T11:41:25.515628",
     "status": "completed"
    },
    "tags": []
   },
   "outputs": [
    {
     "name": "stdout",
     "output_type": "stream",
     "text": [
      "Downloading http://yann.lecun.com/exdb/mnist/train-images-idx3-ubyte.gz\n",
      "Downloading http://yann.lecun.com/exdb/mnist/train-images-idx3-ubyte.gz to ../Data/MNIST/raw/train-images-idx3-ubyte.gz\n"
     ]
    },
    {
     "name": "stderr",
     "output_type": "stream",
     "text": [
      "100%|██████████| 9912422/9912422 [00:00<00:00, 73189716.55it/s]\n"
     ]
    },
    {
     "name": "stdout",
     "output_type": "stream",
     "text": [
      "Extracting ../Data/MNIST/raw/train-images-idx3-ubyte.gz to ../Data/MNIST/raw\n",
      "\n",
      "Downloading http://yann.lecun.com/exdb/mnist/train-labels-idx1-ubyte.gz\n",
      "Downloading http://yann.lecun.com/exdb/mnist/train-labels-idx1-ubyte.gz to ../Data/MNIST/raw/train-labels-idx1-ubyte.gz\n"
     ]
    },
    {
     "name": "stderr",
     "output_type": "stream",
     "text": [
      "100%|██████████| 28881/28881 [00:00<00:00, 50284638.37it/s]\n"
     ]
    },
    {
     "name": "stdout",
     "output_type": "stream",
     "text": [
      "Extracting ../Data/MNIST/raw/train-labels-idx1-ubyte.gz to ../Data/MNIST/raw\n",
      "\n",
      "Downloading http://yann.lecun.com/exdb/mnist/t10k-images-idx3-ubyte.gz\n",
      "Downloading http://yann.lecun.com/exdb/mnist/t10k-images-idx3-ubyte.gz to ../Data/MNIST/raw/t10k-images-idx3-ubyte.gz\n"
     ]
    },
    {
     "name": "stderr",
     "output_type": "stream",
     "text": [
      "100%|██████████| 1648877/1648877 [00:00<00:00, 21674950.24it/s]\n"
     ]
    },
    {
     "name": "stdout",
     "output_type": "stream",
     "text": [
      "Extracting ../Data/MNIST/raw/t10k-images-idx3-ubyte.gz to ../Data/MNIST/raw\n",
      "\n",
      "Downloading http://yann.lecun.com/exdb/mnist/t10k-labels-idx1-ubyte.gz\n",
      "Downloading http://yann.lecun.com/exdb/mnist/t10k-labels-idx1-ubyte.gz to ../Data/MNIST/raw/t10k-labels-idx1-ubyte.gz\n"
     ]
    },
    {
     "name": "stderr",
     "output_type": "stream",
     "text": [
      "100%|██████████| 4542/4542 [00:00<00:00, 12172861.83it/s]\n"
     ]
    },
    {
     "name": "stdout",
     "output_type": "stream",
     "text": [
      "Extracting ../Data/MNIST/raw/t10k-labels-idx1-ubyte.gz to ../Data/MNIST/raw\n",
      "\n"
     ]
    }
   ],
   "source": [
    "train_data = datasets.MNIST(root='../Data', train=True, download=True, transform=transform)"
   ]
  },
  {
   "cell_type": "code",
   "execution_count": 6,
   "id": "050f4d59",
   "metadata": {
    "execution": {
     "iopub.execute_input": "2023-08-17T11:41:27.382205Z",
     "iopub.status.busy": "2023-08-17T11:41:27.381252Z",
     "iopub.status.idle": "2023-08-17T11:41:27.389732Z",
     "shell.execute_reply": "2023-08-17T11:41:27.388559Z"
    },
    "papermill": {
     "duration": 0.023538,
     "end_time": "2023-08-17T11:41:27.392678",
     "exception": false,
     "start_time": "2023-08-17T11:41:27.369140",
     "status": "completed"
    },
    "tags": []
   },
   "outputs": [
    {
     "data": {
      "text/plain": [
       "Dataset MNIST\n",
       "    Number of datapoints: 60000\n",
       "    Root location: ../Data\n",
       "    Split: Train\n",
       "    StandardTransform\n",
       "Transform: ToTensor()"
      ]
     },
     "execution_count": 6,
     "metadata": {},
     "output_type": "execute_result"
    }
   ],
   "source": [
    "train_data"
   ]
  },
  {
   "cell_type": "code",
   "execution_count": 7,
   "id": "ffa39297",
   "metadata": {
    "execution": {
     "iopub.execute_input": "2023-08-17T11:41:27.416705Z",
     "iopub.status.busy": "2023-08-17T11:41:27.415385Z",
     "iopub.status.idle": "2023-08-17T11:41:27.434001Z",
     "shell.execute_reply": "2023-08-17T11:41:27.432178Z"
    },
    "papermill": {
     "duration": 0.033671,
     "end_time": "2023-08-17T11:41:27.436957",
     "exception": false,
     "start_time": "2023-08-17T11:41:27.403286",
     "status": "completed"
    },
    "tags": []
   },
   "outputs": [],
   "source": [
    "test_data = datasets.MNIST(root='../Data', train=False, download=True, transform=transform)"
   ]
  },
  {
   "cell_type": "code",
   "execution_count": 8,
   "id": "fd2f02cc",
   "metadata": {
    "execution": {
     "iopub.execute_input": "2023-08-17T11:41:27.460721Z",
     "iopub.status.busy": "2023-08-17T11:41:27.460290Z",
     "iopub.status.idle": "2023-08-17T11:41:27.468065Z",
     "shell.execute_reply": "2023-08-17T11:41:27.466613Z"
    },
    "papermill": {
     "duration": 0.023106,
     "end_time": "2023-08-17T11:41:27.470487",
     "exception": false,
     "start_time": "2023-08-17T11:41:27.447381",
     "status": "completed"
    },
    "tags": []
   },
   "outputs": [
    {
     "data": {
      "text/plain": [
       "Dataset MNIST\n",
       "    Number of datapoints: 10000\n",
       "    Root location: ../Data\n",
       "    Split: Test\n",
       "    StandardTransform\n",
       "Transform: ToTensor()"
      ]
     },
     "execution_count": 8,
     "metadata": {},
     "output_type": "execute_result"
    }
   ],
   "source": [
    "test_data"
   ]
  },
  {
   "cell_type": "code",
   "execution_count": 9,
   "id": "16015840",
   "metadata": {
    "execution": {
     "iopub.execute_input": "2023-08-17T11:41:27.492989Z",
     "iopub.status.busy": "2023-08-17T11:41:27.492619Z",
     "iopub.status.idle": "2023-08-17T11:41:27.500609Z",
     "shell.execute_reply": "2023-08-17T11:41:27.499121Z"
    },
    "papermill": {
     "duration": 0.022161,
     "end_time": "2023-08-17T11:41:27.503060",
     "exception": false,
     "start_time": "2023-08-17T11:41:27.480899",
     "status": "completed"
    },
    "tags": []
   },
   "outputs": [
    {
     "data": {
      "text/plain": [
       "torchvision.datasets.mnist.MNIST"
      ]
     },
     "execution_count": 9,
     "metadata": {},
     "output_type": "execute_result"
    }
   ],
   "source": [
    "type(train_data)"
   ]
  },
  {
   "cell_type": "code",
   "execution_count": 10,
   "id": "47845291",
   "metadata": {
    "execution": {
     "iopub.execute_input": "2023-08-17T11:41:27.527190Z",
     "iopub.status.busy": "2023-08-17T11:41:27.526698Z",
     "iopub.status.idle": "2023-08-17T11:41:27.606620Z",
     "shell.execute_reply": "2023-08-17T11:41:27.605433Z"
    },
    "papermill": {
     "duration": 0.095992,
     "end_time": "2023-08-17T11:41:27.609653",
     "exception": false,
     "start_time": "2023-08-17T11:41:27.513661",
     "status": "completed"
    },
    "tags": []
   },
   "outputs": [
    {
     "data": {
      "text/plain": [
       "(tensor([[[0.0000, 0.0000, 0.0000, 0.0000, 0.0000, 0.0000, 0.0000, 0.0000,\n",
       "           0.0000, 0.0000, 0.0000, 0.0000, 0.0000, 0.0000, 0.0000, 0.0000,\n",
       "           0.0000, 0.0000, 0.0000, 0.0000, 0.0000, 0.0000, 0.0000, 0.0000,\n",
       "           0.0000, 0.0000, 0.0000, 0.0000],\n",
       "          [0.0000, 0.0000, 0.0000, 0.0000, 0.0000, 0.0000, 0.0000, 0.0000,\n",
       "           0.0000, 0.0000, 0.0000, 0.0000, 0.0000, 0.0000, 0.0000, 0.0000,\n",
       "           0.0000, 0.0000, 0.0000, 0.0000, 0.0000, 0.0000, 0.0000, 0.0000,\n",
       "           0.0000, 0.0000, 0.0000, 0.0000],\n",
       "          [0.0000, 0.0000, 0.0000, 0.0000, 0.0000, 0.0000, 0.0000, 0.0000,\n",
       "           0.0000, 0.0000, 0.0000, 0.0000, 0.0000, 0.0000, 0.0000, 0.0000,\n",
       "           0.0000, 0.0000, 0.0000, 0.0000, 0.0000, 0.0000, 0.0000, 0.0000,\n",
       "           0.0000, 0.0000, 0.0000, 0.0000],\n",
       "          [0.0000, 0.0000, 0.0000, 0.0000, 0.0000, 0.0000, 0.0000, 0.0000,\n",
       "           0.0000, 0.0000, 0.0000, 0.0000, 0.0000, 0.0000, 0.0000, 0.0000,\n",
       "           0.0000, 0.0000, 0.0000, 0.0000, 0.0000, 0.0000, 0.0000, 0.0000,\n",
       "           0.0000, 0.0000, 0.0000, 0.0000],\n",
       "          [0.0000, 0.0000, 0.0000, 0.0000, 0.0000, 0.0000, 0.0000, 0.0000,\n",
       "           0.0000, 0.0000, 0.0000, 0.0000, 0.0000, 0.0000, 0.0000, 0.0000,\n",
       "           0.0000, 0.0000, 0.0000, 0.0000, 0.0000, 0.0000, 0.0000, 0.0000,\n",
       "           0.0000, 0.0000, 0.0000, 0.0000],\n",
       "          [0.0000, 0.0000, 0.0000, 0.0000, 0.0000, 0.0000, 0.0000, 0.0000,\n",
       "           0.0000, 0.0000, 0.0000, 0.0000, 0.0118, 0.0706, 0.0706, 0.0706,\n",
       "           0.4941, 0.5333, 0.6863, 0.1020, 0.6510, 1.0000, 0.9686, 0.4980,\n",
       "           0.0000, 0.0000, 0.0000, 0.0000],\n",
       "          [0.0000, 0.0000, 0.0000, 0.0000, 0.0000, 0.0000, 0.0000, 0.0000,\n",
       "           0.1176, 0.1412, 0.3686, 0.6039, 0.6667, 0.9922, 0.9922, 0.9922,\n",
       "           0.9922, 0.9922, 0.8824, 0.6745, 0.9922, 0.9490, 0.7647, 0.2510,\n",
       "           0.0000, 0.0000, 0.0000, 0.0000],\n",
       "          [0.0000, 0.0000, 0.0000, 0.0000, 0.0000, 0.0000, 0.0000, 0.1922,\n",
       "           0.9333, 0.9922, 0.9922, 0.9922, 0.9922, 0.9922, 0.9922, 0.9922,\n",
       "           0.9922, 0.9843, 0.3647, 0.3216, 0.3216, 0.2196, 0.1529, 0.0000,\n",
       "           0.0000, 0.0000, 0.0000, 0.0000],\n",
       "          [0.0000, 0.0000, 0.0000, 0.0000, 0.0000, 0.0000, 0.0000, 0.0706,\n",
       "           0.8588, 0.9922, 0.9922, 0.9922, 0.9922, 0.9922, 0.7765, 0.7137,\n",
       "           0.9686, 0.9451, 0.0000, 0.0000, 0.0000, 0.0000, 0.0000, 0.0000,\n",
       "           0.0000, 0.0000, 0.0000, 0.0000],\n",
       "          [0.0000, 0.0000, 0.0000, 0.0000, 0.0000, 0.0000, 0.0000, 0.0000,\n",
       "           0.3137, 0.6118, 0.4196, 0.9922, 0.9922, 0.8039, 0.0431, 0.0000,\n",
       "           0.1686, 0.6039, 0.0000, 0.0000, 0.0000, 0.0000, 0.0000, 0.0000,\n",
       "           0.0000, 0.0000, 0.0000, 0.0000],\n",
       "          [0.0000, 0.0000, 0.0000, 0.0000, 0.0000, 0.0000, 0.0000, 0.0000,\n",
       "           0.0000, 0.0549, 0.0039, 0.6039, 0.9922, 0.3529, 0.0000, 0.0000,\n",
       "           0.0000, 0.0000, 0.0000, 0.0000, 0.0000, 0.0000, 0.0000, 0.0000,\n",
       "           0.0000, 0.0000, 0.0000, 0.0000],\n",
       "          [0.0000, 0.0000, 0.0000, 0.0000, 0.0000, 0.0000, 0.0000, 0.0000,\n",
       "           0.0000, 0.0000, 0.0000, 0.5451, 0.9922, 0.7451, 0.0078, 0.0000,\n",
       "           0.0000, 0.0000, 0.0000, 0.0000, 0.0000, 0.0000, 0.0000, 0.0000,\n",
       "           0.0000, 0.0000, 0.0000, 0.0000],\n",
       "          [0.0000, 0.0000, 0.0000, 0.0000, 0.0000, 0.0000, 0.0000, 0.0000,\n",
       "           0.0000, 0.0000, 0.0000, 0.0431, 0.7451, 0.9922, 0.2745, 0.0000,\n",
       "           0.0000, 0.0000, 0.0000, 0.0000, 0.0000, 0.0000, 0.0000, 0.0000,\n",
       "           0.0000, 0.0000, 0.0000, 0.0000],\n",
       "          [0.0000, 0.0000, 0.0000, 0.0000, 0.0000, 0.0000, 0.0000, 0.0000,\n",
       "           0.0000, 0.0000, 0.0000, 0.0000, 0.1373, 0.9451, 0.8824, 0.6275,\n",
       "           0.4235, 0.0039, 0.0000, 0.0000, 0.0000, 0.0000, 0.0000, 0.0000,\n",
       "           0.0000, 0.0000, 0.0000, 0.0000],\n",
       "          [0.0000, 0.0000, 0.0000, 0.0000, 0.0000, 0.0000, 0.0000, 0.0000,\n",
       "           0.0000, 0.0000, 0.0000, 0.0000, 0.0000, 0.3176, 0.9412, 0.9922,\n",
       "           0.9922, 0.4667, 0.0980, 0.0000, 0.0000, 0.0000, 0.0000, 0.0000,\n",
       "           0.0000, 0.0000, 0.0000, 0.0000],\n",
       "          [0.0000, 0.0000, 0.0000, 0.0000, 0.0000, 0.0000, 0.0000, 0.0000,\n",
       "           0.0000, 0.0000, 0.0000, 0.0000, 0.0000, 0.0000, 0.1765, 0.7294,\n",
       "           0.9922, 0.9922, 0.5882, 0.1059, 0.0000, 0.0000, 0.0000, 0.0000,\n",
       "           0.0000, 0.0000, 0.0000, 0.0000],\n",
       "          [0.0000, 0.0000, 0.0000, 0.0000, 0.0000, 0.0000, 0.0000, 0.0000,\n",
       "           0.0000, 0.0000, 0.0000, 0.0000, 0.0000, 0.0000, 0.0000, 0.0627,\n",
       "           0.3647, 0.9882, 0.9922, 0.7333, 0.0000, 0.0000, 0.0000, 0.0000,\n",
       "           0.0000, 0.0000, 0.0000, 0.0000],\n",
       "          [0.0000, 0.0000, 0.0000, 0.0000, 0.0000, 0.0000, 0.0000, 0.0000,\n",
       "           0.0000, 0.0000, 0.0000, 0.0000, 0.0000, 0.0000, 0.0000, 0.0000,\n",
       "           0.0000, 0.9765, 0.9922, 0.9765, 0.2510, 0.0000, 0.0000, 0.0000,\n",
       "           0.0000, 0.0000, 0.0000, 0.0000],\n",
       "          [0.0000, 0.0000, 0.0000, 0.0000, 0.0000, 0.0000, 0.0000, 0.0000,\n",
       "           0.0000, 0.0000, 0.0000, 0.0000, 0.0000, 0.0000, 0.1804, 0.5098,\n",
       "           0.7176, 0.9922, 0.9922, 0.8118, 0.0078, 0.0000, 0.0000, 0.0000,\n",
       "           0.0000, 0.0000, 0.0000, 0.0000],\n",
       "          [0.0000, 0.0000, 0.0000, 0.0000, 0.0000, 0.0000, 0.0000, 0.0000,\n",
       "           0.0000, 0.0000, 0.0000, 0.0000, 0.1529, 0.5804, 0.8980, 0.9922,\n",
       "           0.9922, 0.9922, 0.9804, 0.7137, 0.0000, 0.0000, 0.0000, 0.0000,\n",
       "           0.0000, 0.0000, 0.0000, 0.0000],\n",
       "          [0.0000, 0.0000, 0.0000, 0.0000, 0.0000, 0.0000, 0.0000, 0.0000,\n",
       "           0.0000, 0.0000, 0.0941, 0.4471, 0.8667, 0.9922, 0.9922, 0.9922,\n",
       "           0.9922, 0.7882, 0.3059, 0.0000, 0.0000, 0.0000, 0.0000, 0.0000,\n",
       "           0.0000, 0.0000, 0.0000, 0.0000],\n",
       "          [0.0000, 0.0000, 0.0000, 0.0000, 0.0000, 0.0000, 0.0000, 0.0000,\n",
       "           0.0902, 0.2588, 0.8353, 0.9922, 0.9922, 0.9922, 0.9922, 0.7765,\n",
       "           0.3176, 0.0078, 0.0000, 0.0000, 0.0000, 0.0000, 0.0000, 0.0000,\n",
       "           0.0000, 0.0000, 0.0000, 0.0000],\n",
       "          [0.0000, 0.0000, 0.0000, 0.0000, 0.0000, 0.0000, 0.0706, 0.6706,\n",
       "           0.8588, 0.9922, 0.9922, 0.9922, 0.9922, 0.7647, 0.3137, 0.0353,\n",
       "           0.0000, 0.0000, 0.0000, 0.0000, 0.0000, 0.0000, 0.0000, 0.0000,\n",
       "           0.0000, 0.0000, 0.0000, 0.0000],\n",
       "          [0.0000, 0.0000, 0.0000, 0.0000, 0.2157, 0.6745, 0.8863, 0.9922,\n",
       "           0.9922, 0.9922, 0.9922, 0.9569, 0.5216, 0.0431, 0.0000, 0.0000,\n",
       "           0.0000, 0.0000, 0.0000, 0.0000, 0.0000, 0.0000, 0.0000, 0.0000,\n",
       "           0.0000, 0.0000, 0.0000, 0.0000],\n",
       "          [0.0000, 0.0000, 0.0000, 0.0000, 0.5333, 0.9922, 0.9922, 0.9922,\n",
       "           0.8314, 0.5294, 0.5176, 0.0627, 0.0000, 0.0000, 0.0000, 0.0000,\n",
       "           0.0000, 0.0000, 0.0000, 0.0000, 0.0000, 0.0000, 0.0000, 0.0000,\n",
       "           0.0000, 0.0000, 0.0000, 0.0000],\n",
       "          [0.0000, 0.0000, 0.0000, 0.0000, 0.0000, 0.0000, 0.0000, 0.0000,\n",
       "           0.0000, 0.0000, 0.0000, 0.0000, 0.0000, 0.0000, 0.0000, 0.0000,\n",
       "           0.0000, 0.0000, 0.0000, 0.0000, 0.0000, 0.0000, 0.0000, 0.0000,\n",
       "           0.0000, 0.0000, 0.0000, 0.0000],\n",
       "          [0.0000, 0.0000, 0.0000, 0.0000, 0.0000, 0.0000, 0.0000, 0.0000,\n",
       "           0.0000, 0.0000, 0.0000, 0.0000, 0.0000, 0.0000, 0.0000, 0.0000,\n",
       "           0.0000, 0.0000, 0.0000, 0.0000, 0.0000, 0.0000, 0.0000, 0.0000,\n",
       "           0.0000, 0.0000, 0.0000, 0.0000],\n",
       "          [0.0000, 0.0000, 0.0000, 0.0000, 0.0000, 0.0000, 0.0000, 0.0000,\n",
       "           0.0000, 0.0000, 0.0000, 0.0000, 0.0000, 0.0000, 0.0000, 0.0000,\n",
       "           0.0000, 0.0000, 0.0000, 0.0000, 0.0000, 0.0000, 0.0000, 0.0000,\n",
       "           0.0000, 0.0000, 0.0000, 0.0000]]]),\n",
       " 5)"
      ]
     },
     "execution_count": 10,
     "metadata": {},
     "output_type": "execute_result"
    }
   ],
   "source": [
    "train_data[0]"
   ]
  },
  {
   "cell_type": "code",
   "execution_count": 11,
   "id": "511da8a7",
   "metadata": {
    "execution": {
     "iopub.execute_input": "2023-08-17T11:41:27.634067Z",
     "iopub.status.busy": "2023-08-17T11:41:27.633473Z",
     "iopub.status.idle": "2023-08-17T11:41:27.638450Z",
     "shell.execute_reply": "2023-08-17T11:41:27.637717Z"
    },
    "papermill": {
     "duration": 0.0197,
     "end_time": "2023-08-17T11:41:27.640519",
     "exception": false,
     "start_time": "2023-08-17T11:41:27.620819",
     "status": "completed"
    },
    "tags": []
   },
   "outputs": [],
   "source": [
    "image, label = train_data[0]"
   ]
  },
  {
   "cell_type": "code",
   "execution_count": 12,
   "id": "b35421ee",
   "metadata": {
    "execution": {
     "iopub.execute_input": "2023-08-17T11:41:27.664250Z",
     "iopub.status.busy": "2023-08-17T11:41:27.663639Z",
     "iopub.status.idle": "2023-08-17T11:41:27.669976Z",
     "shell.execute_reply": "2023-08-17T11:41:27.668907Z"
    },
    "papermill": {
     "duration": 0.020683,
     "end_time": "2023-08-17T11:41:27.672035",
     "exception": false,
     "start_time": "2023-08-17T11:41:27.651352",
     "status": "completed"
    },
    "tags": []
   },
   "outputs": [
    {
     "data": {
      "text/plain": [
       "torch.Size([1, 28, 28])"
      ]
     },
     "execution_count": 12,
     "metadata": {},
     "output_type": "execute_result"
    }
   ],
   "source": [
    "image.shape"
   ]
  },
  {
   "cell_type": "code",
   "execution_count": 13,
   "id": "2d2ba025",
   "metadata": {
    "execution": {
     "iopub.execute_input": "2023-08-17T11:41:27.695923Z",
     "iopub.status.busy": "2023-08-17T11:41:27.695311Z",
     "iopub.status.idle": "2023-08-17T11:41:27.701591Z",
     "shell.execute_reply": "2023-08-17T11:41:27.700548Z"
    },
    "papermill": {
     "duration": 0.02083,
     "end_time": "2023-08-17T11:41:27.703706",
     "exception": false,
     "start_time": "2023-08-17T11:41:27.682876",
     "status": "completed"
    },
    "tags": []
   },
   "outputs": [
    {
     "data": {
      "text/plain": [
       "5"
      ]
     },
     "execution_count": 13,
     "metadata": {},
     "output_type": "execute_result"
    }
   ],
   "source": [
    "label"
   ]
  },
  {
   "cell_type": "code",
   "execution_count": 14,
   "id": "9dfd71f8",
   "metadata": {
    "execution": {
     "iopub.execute_input": "2023-08-17T11:41:27.727844Z",
     "iopub.status.busy": "2023-08-17T11:41:27.727214Z",
     "iopub.status.idle": "2023-08-17T11:41:28.014681Z",
     "shell.execute_reply": "2023-08-17T11:41:28.013257Z"
    },
    "papermill": {
     "duration": 0.302555,
     "end_time": "2023-08-17T11:41:28.017219",
     "exception": false,
     "start_time": "2023-08-17T11:41:27.714664",
     "status": "completed"
    },
    "tags": []
   },
   "outputs": [
    {
     "data": {
      "text/plain": [
       "<matplotlib.image.AxesImage at 0x784d519b9360>"
      ]
     },
     "execution_count": 14,
     "metadata": {},
     "output_type": "execute_result"
    },
    {
     "data": {
      "image/png": "[encoded data removed]",
      "text/plain": [
       "<Figure size 640x480 with 1 Axes>"
      ]
     },
     "metadata": {},
     "output_type": "display_data"
    }
   ],
   "source": [
    "plt.imshow(image.reshape((28, 28)), cmap='gist_yarg') #viridis"
   ]
  },
  {
   "cell_type": "code",
   "execution_count": 15,
   "id": "e2f9d6e7",
   "metadata": {
    "execution": {
     "iopub.execute_input": "2023-08-17T11:41:28.041594Z",
     "iopub.status.busy": "2023-08-17T11:41:28.041183Z",
     "iopub.status.idle": "2023-08-17T11:41:28.052052Z",
     "shell.execute_reply": "2023-08-17T11:41:28.051053Z"
    },
    "papermill": {
     "duration": 0.025939,
     "end_time": "2023-08-17T11:41:28.054644",
     "exception": false,
     "start_time": "2023-08-17T11:41:28.028705",
     "status": "completed"
    },
    "tags": []
   },
   "outputs": [],
   "source": [
    "torch.manual_seed(101)\n",
    "\n",
    "# 0 images, 1 images, ...\n",
    "train_loader = DataLoader(train_data, batch_size=100, shuffle=True)\n",
    "\n",
    "test_loader = DataLoader(test_data, batch_size=500, shuffle=False)"
   ]
  },
  {
   "cell_type": "code",
   "execution_count": 16,
   "id": "483ed7cf",
   "metadata": {
    "execution": {
     "iopub.execute_input": "2023-08-17T11:41:28.079356Z",
     "iopub.status.busy": "2023-08-17T11:41:28.078933Z",
     "iopub.status.idle": "2023-08-17T11:41:28.084238Z",
     "shell.execute_reply": "2023-08-17T11:41:28.083067Z"
    },
    "papermill": {
     "duration": 0.020257,
     "end_time": "2023-08-17T11:41:28.086470",
     "exception": false,
     "start_time": "2023-08-17T11:41:28.066213",
     "status": "completed"
    },
    "tags": []
   },
   "outputs": [],
   "source": [
    "from torchvision.utils import make_grid\n",
    "np.set_printoptions(formatter=dict(int=lambda x: f'{x:4}')) # Formatting"
   ]
  },
  {
   "cell_type": "code",
   "execution_count": 17,
   "id": "62b3403b",
   "metadata": {
    "execution": {
     "iopub.execute_input": "2023-08-17T11:41:28.111329Z",
     "iopub.status.busy": "2023-08-17T11:41:28.110933Z",
     "iopub.status.idle": "2023-08-17T11:41:28.147892Z",
     "shell.execute_reply": "2023-08-17T11:41:28.146700Z"
    },
    "papermill": {
     "duration": 0.052605,
     "end_time": "2023-08-17T11:41:28.150538",
     "exception": false,
     "start_time": "2023-08-17T11:41:28.097933",
     "status": "completed"
    },
    "tags": []
   },
   "outputs": [],
   "source": [
    "# First batch\n",
    "for images, labels in train_loader:\n",
    "    # 60,000 / 100    60 times\n",
    "    break"
   ]
  },
  {
   "cell_type": "code",
   "execution_count": 18,
   "id": "9cc587a6",
   "metadata": {
    "execution": {
     "iopub.execute_input": "2023-08-17T11:41:28.176019Z",
     "iopub.status.busy": "2023-08-17T11:41:28.174968Z",
     "iopub.status.idle": "2023-08-17T11:41:28.189333Z",
     "shell.execute_reply": "2023-08-17T11:41:28.188113Z"
    },
    "papermill": {
     "duration": 0.029592,
     "end_time": "2023-08-17T11:41:28.191664",
     "exception": false,
     "start_time": "2023-08-17T11:41:28.162072",
     "status": "completed"
    },
    "tags": []
   },
   "outputs": [
    {
     "data": {
      "text/plain": [
       "tensor([[[[0., 0., 0.,  ..., 0., 0., 0.],\n",
       "          [0., 0., 0.,  ..., 0., 0., 0.],\n",
       "          [0., 0., 0.,  ..., 0., 0., 0.],\n",
       "          ...,\n",
       "          [0., 0., 0.,  ..., 0., 0., 0.],\n",
       "          [0., 0., 0.,  ..., 0., 0., 0.],\n",
       "          [0., 0., 0.,  ..., 0., 0., 0.]]],\n",
       "\n",
       "\n",
       "        [[[0., 0., 0.,  ..., 0., 0., 0.],\n",
       "          [0., 0., 0.,  ..., 0., 0., 0.],\n",
       "          [0., 0., 0.,  ..., 0., 0., 0.],\n",
       "          ...,\n",
       "          [0., 0., 0.,  ..., 0., 0., 0.],\n",
       "          [0., 0., 0.,  ..., 0., 0., 0.],\n",
       "          [0., 0., 0.,  ..., 0., 0., 0.]]],\n",
       "\n",
       "\n",
       "        [[[0., 0., 0.,  ..., 0., 0., 0.],\n",
       "          [0., 0., 0.,  ..., 0., 0., 0.],\n",
       "          [0., 0., 0.,  ..., 0., 0., 0.],\n",
       "          ...,\n",
       "          [0., 0., 0.,  ..., 0., 0., 0.],\n",
       "          [0., 0., 0.,  ..., 0., 0., 0.],\n",
       "          [0., 0., 0.,  ..., 0., 0., 0.]]],\n",
       "\n",
       "\n",
       "        ...,\n",
       "\n",
       "\n",
       "        [[[0., 0., 0.,  ..., 0., 0., 0.],\n",
       "          [0., 0., 0.,  ..., 0., 0., 0.],\n",
       "          [0., 0., 0.,  ..., 0., 0., 0.],\n",
       "          ...,\n",
       "          [0., 0., 0.,  ..., 0., 0., 0.],\n",
       "          [0., 0., 0.,  ..., 0., 0., 0.],\n",
       "          [0., 0., 0.,  ..., 0., 0., 0.]]],\n",
       "\n",
       "\n",
       "        [[[0., 0., 0.,  ..., 0., 0., 0.],\n",
       "          [0., 0., 0.,  ..., 0., 0., 0.],\n",
       "          [0., 0., 0.,  ..., 0., 0., 0.],\n",
       "          ...,\n",
       "          [0., 0., 0.,  ..., 0., 0., 0.],\n",
       "          [0., 0., 0.,  ..., 0., 0., 0.],\n",
       "          [0., 0., 0.,  ..., 0., 0., 0.]]],\n",
       "\n",
       "\n",
       "        [[[0., 0., 0.,  ..., 0., 0., 0.],\n",
       "          [0., 0., 0.,  ..., 0., 0., 0.],\n",
       "          [0., 0., 0.,  ..., 0., 0., 0.],\n",
       "          ...,\n",
       "          [0., 0., 0.,  ..., 0., 0., 0.],\n",
       "          [0., 0., 0.,  ..., 0., 0., 0.],\n",
       "          [0., 0., 0.,  ..., 0., 0., 0.]]]])"
      ]
     },
     "execution_count": 18,
     "metadata": {},
     "output_type": "execute_result"
    }
   ],
   "source": [
    "images"
   ]
  },
  {
   "cell_type": "code",
   "execution_count": 19,
   "id": "fdcc4c05",
   "metadata": {
    "execution": {
     "iopub.execute_input": "2023-08-17T11:41:28.217148Z",
     "iopub.status.busy": "2023-08-17T11:41:28.216782Z",
     "iopub.status.idle": "2023-08-17T11:41:28.222993Z",
     "shell.execute_reply": "2023-08-17T11:41:28.221941Z"
    },
    "papermill": {
     "duration": 0.021839,
     "end_time": "2023-08-17T11:41:28.224986",
     "exception": false,
     "start_time": "2023-08-17T11:41:28.203147",
     "status": "completed"
    },
    "tags": []
   },
   "outputs": [
    {
     "data": {
      "text/plain": [
       "torch.Size([100, 1, 28, 28])"
      ]
     },
     "execution_count": 19,
     "metadata": {},
     "output_type": "execute_result"
    }
   ],
   "source": [
    "images.shape"
   ]
  },
  {
   "cell_type": "code",
   "execution_count": 20,
   "id": "c910a8a8",
   "metadata": {
    "execution": {
     "iopub.execute_input": "2023-08-17T11:41:28.249972Z",
     "iopub.status.busy": "2023-08-17T11:41:28.249526Z",
     "iopub.status.idle": "2023-08-17T11:41:28.256442Z",
     "shell.execute_reply": "2023-08-17T11:41:28.255516Z"
    },
    "papermill": {
     "duration": 0.021953,
     "end_time": "2023-08-17T11:41:28.258658",
     "exception": false,
     "start_time": "2023-08-17T11:41:28.236705",
     "status": "completed"
    },
    "tags": []
   },
   "outputs": [
    {
     "data": {
      "text/plain": [
       "torch.Size([100])"
      ]
     },
     "execution_count": 20,
     "metadata": {},
     "output_type": "execute_result"
    }
   ],
   "source": [
    "labels.shape"
   ]
  },
  {
   "cell_type": "code",
   "execution_count": 21,
   "id": "110812eb",
   "metadata": {
    "execution": {
     "iopub.execute_input": "2023-08-17T11:41:28.284242Z",
     "iopub.status.busy": "2023-08-17T11:41:28.283225Z",
     "iopub.status.idle": "2023-08-17T11:41:28.515782Z",
     "shell.execute_reply": "2023-08-17T11:41:28.514635Z"
    },
    "papermill": {
     "duration": 0.247994,
     "end_time": "2023-08-17T11:41:28.518231",
     "exception": false,
     "start_time": "2023-08-17T11:41:28.270237",
     "status": "completed"
    },
    "tags": []
   },
   "outputs": [
    {
     "name": "stdout",
     "output_type": "stream",
     "text": [
      "Labels:  [   7    2    3    5    8    5    3    6    9    9    1    3]\n"
     ]
    },
    {
     "data": {
      "text/plain": [
       "<matplotlib.image.AxesImage at 0x784d518e0550>"
      ]
     },
     "execution_count": 21,
     "metadata": {},
     "output_type": "execute_result"
    },
    {
     "data": {
      "image/png": "[encoded data removed]",
      "text/plain": [
       "<Figure size 1000x400 with 1 Axes>"
      ]
     },
     "metadata": {},
     "output_type": "display_data"
    }
   ],
   "source": [
    "# Print the first 12 labels\n",
    "print('Labels: ', labels[:12].numpy())\n",
    "\n",
    "# Print the first 12 images\n",
    "im = make_grid(images[:12], nrow=12) # the default nrow is 8\n",
    "plt.figure(figsize=(10, 4))\n",
    "# We need to transpose the images from CWH to WHC\n",
    "plt.imshow(np.transpose(im.numpy(), (1, 2, 0)))"
   ]
  },
  {
   "cell_type": "code",
   "execution_count": 22,
   "id": "f8987b82",
   "metadata": {
    "execution": {
     "iopub.execute_input": "2023-08-17T11:41:28.545422Z",
     "iopub.status.busy": "2023-08-17T11:41:28.544430Z",
     "iopub.status.idle": "2023-08-17T11:41:28.552744Z",
     "shell.execute_reply": "2023-08-17T11:41:28.551477Z"
    },
    "papermill": {
     "duration": 0.024636,
     "end_time": "2023-08-17T11:41:28.555245",
     "exception": false,
     "start_time": "2023-08-17T11:41:28.530609",
     "status": "completed"
    },
    "tags": []
   },
   "outputs": [],
   "source": [
    "class MultilayerPerceptron(nn.Module):\n",
    "    def __init__(self, in_sz=784, out_sz=10, layers=[120, 84]):\n",
    "        super().__init__()\n",
    "        self.fc1 = nn.Linear(in_sz, layers[0])\n",
    "        self.fc2 = nn.Linear(layers[0], layers[1])\n",
    "        self.fc3 = nn.Linear(layers[1], out_sz)\n",
    "\n",
    "    def forward(self, X):\n",
    "        X = F.relu(self.fc1(X))\n",
    "        X = F.relu(self.fc2(X))\n",
    "        X = self.fc3(X)\n",
    "\n",
    "        return F.log_softmax(X, dim=1) # Multi Class Classification"
   ]
  },
  {
   "cell_type": "code",
   "execution_count": 23,
   "id": "336185c2",
   "metadata": {
    "execution": {
     "iopub.execute_input": "2023-08-17T11:41:28.581856Z",
     "iopub.status.busy": "2023-08-17T11:41:28.581481Z",
     "iopub.status.idle": "2023-08-17T11:41:28.591306Z",
     "shell.execute_reply": "2023-08-17T11:41:28.590141Z"
    },
    "papermill": {
     "duration": 0.025921,
     "end_time": "2023-08-17T11:41:28.593705",
     "exception": false,
     "start_time": "2023-08-17T11:41:28.567784",
     "status": "completed"
    },
    "tags": []
   },
   "outputs": [
    {
     "data": {
      "text/plain": [
       "MultilayerPerceptron(\n",
       "  (fc1): Linear(in_features=784, out_features=120, bias=True)\n",
       "  (fc2): Linear(in_features=120, out_features=84, bias=True)\n",
       "  (fc3): Linear(in_features=84, out_features=10, bias=True)\n",
       ")"
      ]
     },
     "execution_count": 23,
     "metadata": {},
     "output_type": "execute_result"
    }
   ],
   "source": [
    "torch.manual_seed(101)\n",
    "model = MultilayerPerceptron()\n",
    "model"
   ]
  },
  {
   "cell_type": "code",
   "execution_count": 24,
   "id": "d9a08a2d",
   "metadata": {
    "execution": {
     "iopub.execute_input": "2023-08-17T11:41:28.620832Z",
     "iopub.status.busy": "2023-08-17T11:41:28.620463Z",
     "iopub.status.idle": "2023-08-17T11:41:28.626099Z",
     "shell.execute_reply": "2023-08-17T11:41:28.625085Z"
    },
    "papermill": {
     "duration": 0.022227,
     "end_time": "2023-08-17T11:41:28.628760",
     "exception": false,
     "start_time": "2023-08-17T11:41:28.606533",
     "status": "completed"
    },
    "tags": []
   },
   "outputs": [
    {
     "name": "stdout",
     "output_type": "stream",
     "text": [
      "94080\n",
      "120\n",
      "10080\n",
      "84\n",
      "840\n",
      "10\n"
     ]
    }
   ],
   "source": [
    "# ANN ---> CNN\n",
    "for param in model.parameters():\n",
    "   print(param.numel())"
   ]
  },
  {
   "cell_type": "code",
   "execution_count": 25,
   "id": "e2d1016d",
   "metadata": {
    "execution": {
     "iopub.execute_input": "2023-08-17T11:41:28.656365Z",
     "iopub.status.busy": "2023-08-17T11:41:28.656004Z",
     "iopub.status.idle": "2023-08-17T11:41:28.660586Z",
     "shell.execute_reply": "2023-08-17T11:41:28.659548Z"
    },
    "papermill": {
     "duration": 0.021225,
     "end_time": "2023-08-17T11:41:28.662713",
     "exception": false,
     "start_time": "2023-08-17T11:41:28.641488",
     "status": "completed"
    },
    "tags": []
   },
   "outputs": [],
   "source": [
    "# 105,214 total parameters"
   ]
  },
  {
   "cell_type": "code",
   "execution_count": 26,
   "id": "c631859f",
   "metadata": {
    "execution": {
     "iopub.execute_input": "2023-08-17T11:41:28.690125Z",
     "iopub.status.busy": "2023-08-17T11:41:28.689433Z",
     "iopub.status.idle": "2023-08-17T11:41:28.694127Z",
     "shell.execute_reply": "2023-08-17T11:41:28.693380Z"
    },
    "papermill": {
     "duration": 0.020663,
     "end_time": "2023-08-17T11:41:28.696116",
     "exception": false,
     "start_time": "2023-08-17T11:41:28.675453",
     "status": "completed"
    },
    "tags": []
   },
   "outputs": [],
   "source": [
    "criterion = nn.CrossEntropyLoss()\n",
    "optimizer = torch.optim.Adam(model.parameters(), lr=0.001)"
   ]
  },
  {
   "cell_type": "code",
   "execution_count": 27,
   "id": "13a67794",
   "metadata": {
    "execution": {
     "iopub.execute_input": "2023-08-17T11:41:28.724481Z",
     "iopub.status.busy": "2023-08-17T11:41:28.723290Z",
     "iopub.status.idle": "2023-08-17T11:41:28.729724Z",
     "shell.execute_reply": "2023-08-17T11:41:28.728819Z"
    },
    "papermill": {
     "duration": 0.022862,
     "end_time": "2023-08-17T11:41:28.731969",
     "exception": false,
     "start_time": "2023-08-17T11:41:28.709107",
     "status": "completed"
    },
    "tags": []
   },
   "outputs": [
    {
     "data": {
      "text/plain": [
       "torch.Size([100, 1, 28, 28])"
      ]
     },
     "execution_count": 27,
     "metadata": {},
     "output_type": "execute_result"
    }
   ],
   "source": [
    "images.shape # -----> [100, 784]"
   ]
  },
  {
   "cell_type": "code",
   "execution_count": 28,
   "id": "d81974a8",
   "metadata": {
    "execution": {
     "iopub.execute_input": "2023-08-17T11:41:28.759934Z",
     "iopub.status.busy": "2023-08-17T11:41:28.759198Z",
     "iopub.status.idle": "2023-08-17T11:41:28.765637Z",
     "shell.execute_reply": "2023-08-17T11:41:28.764684Z"
    },
    "papermill": {
     "duration": 0.022708,
     "end_time": "2023-08-17T11:41:28.767872",
     "exception": false,
     "start_time": "2023-08-17T11:41:28.745164",
     "status": "completed"
    },
    "tags": []
   },
   "outputs": [
    {
     "data": {
      "text/plain": [
       "torch.Size([100, 784])"
      ]
     },
     "execution_count": 28,
     "metadata": {},
     "output_type": "execute_result"
    }
   ],
   "source": [
    "images.view(100, -1).shape"
   ]
  },
  {
   "cell_type": "code",
   "execution_count": 29,
   "id": "58c7ccab",
   "metadata": {
    "execution": {
     "iopub.execute_input": "2023-08-17T11:41:28.795724Z",
     "iopub.status.busy": "2023-08-17T11:41:28.795324Z",
     "iopub.status.idle": "2023-08-17T11:43:00.892924Z",
     "shell.execute_reply": "2023-08-17T11:43:00.891637Z"
    },
    "papermill": {
     "duration": 92.114243,
     "end_time": "2023-08-17T11:43:00.895610",
     "exception": false,
     "start_time": "2023-08-17T11:41:28.781367",
     "status": "completed"
    },
    "tags": []
   },
   "outputs": [
    {
     "name": "stdout",
     "output_type": "stream",
     "text": [
      "Epoch 0 - Batch 200 - Loss 0.23541302978992462 - Accuracy: 83.25\n",
      "Epoch 0 - Batch 400 - Loss 0.3537280559539795 - Accuracy: 87.5275\n",
      "Epoch 0 - Batch 600 - Loss 0.13648736476898193 - Accuracy: 89.57333333333334\n",
      "Epoch 1 - Batch 200 - Loss 0.2446790337562561 - Accuracy: 94.805\n",
      "Epoch 1 - Batch 400 - Loss 0.14542996883392334 - Accuracy: 95.0625\n",
      "Epoch 1 - Batch 600 - Loss 0.07299502193927765 - Accuracy: 95.35666666666667\n",
      "Epoch 2 - Batch 200 - Loss 0.08716949820518494 - Accuracy: 96.5\n",
      "Epoch 2 - Batch 400 - Loss 0.06698200106620789 - Accuracy: 96.595\n",
      "Epoch 2 - Batch 600 - Loss 0.06888753175735474 - Accuracy: 96.67833333333333\n",
      "Epoch 3 - Batch 200 - Loss 0.11644275486469269 - Accuracy: 97.665\n",
      "Epoch 3 - Batch 400 - Loss 0.05814240872859955 - Accuracy: 97.485\n",
      "Epoch 3 - Batch 600 - Loss 0.03187057375907898 - Accuracy: 97.49666666666667\n",
      "Epoch 4 - Batch 200 - Loss 0.11700139939785004 - Accuracy: 98.12\n",
      "Epoch 4 - Batch 400 - Loss 0.046672023832798004 - Accuracy: 97.9775\n",
      "Epoch 4 - Batch 600 - Loss 0.050957899540662766 - Accuracy: 97.99666666666667\n",
      "Epoch 5 - Batch 200 - Loss 0.008672161027789116 - Accuracy: 98.395\n",
      "Epoch 5 - Batch 400 - Loss 0.039143264293670654 - Accuracy: 98.51\n",
      "Epoch 5 - Batch 600 - Loss 0.05279548466205597 - Accuracy: 98.43166666666667\n",
      "Epoch 6 - Batch 200 - Loss 0.033484846353530884 - Accuracy: 98.885\n",
      "Epoch 6 - Batch 400 - Loss 0.07239795476198196 - Accuracy: 98.74\n",
      "Epoch 6 - Batch 600 - Loss 0.08402722328901291 - Accuracy: 98.71\n",
      "Epoch 7 - Batch 200 - Loss 0.08326956629753113 - Accuracy: 99.205\n",
      "Epoch 7 - Batch 400 - Loss 0.08401648700237274 - Accuracy: 99.0525\n",
      "Epoch 7 - Batch 600 - Loss 0.03918059170246124 - Accuracy: 98.975\n",
      "Epoch 8 - Batch 200 - Loss 0.006944218650460243 - Accuracy: 99.205\n",
      "Epoch 8 - Batch 400 - Loss 0.006072184070944786 - Accuracy: 99.1375\n",
      "Epoch 8 - Batch 600 - Loss 0.09056913107633591 - Accuracy: 99.12666666666667\n",
      "Epoch 9 - Batch 200 - Loss 0.004811933729797602 - Accuracy: 99.435\n",
      "Epoch 9 - Batch 400 - Loss 0.010086005553603172 - Accuracy: 99.325\n",
      "Epoch 9 - Batch 600 - Loss 0.015215044841170311 - Accuracy: 99.29666666666667\n",
      "Duration: 1.5347914973894754 mins\n"
     ]
    }
   ],
   "source": [
    "import time\n",
    "start_time = time.time()\n",
    "epochs = 10\n",
    "\n",
    "# Trackers\n",
    "train_losses = []\n",
    "test_losses = []\n",
    "train_correct = []\n",
    "test_correct = []\n",
    "\n",
    "for i in range(epochs):\n",
    "    trn_corr = 0\n",
    "    tst_corr = 0\n",
    "\n",
    "    for b, (X_train, y_train) in enumerate(train_loader):\n",
    "        b+=1\n",
    "\n",
    "        y_pred = model(X_train.view(100, -1))\n",
    "        loss = criterion(y_pred, y_train)\n",
    "\n",
    "        predicted = torch.max(y_pred.data, 1)[1] #print(y_pred.data)\n",
    "        batch_corr = (predicted == y_train).sum()\n",
    "        trn_corr += batch_corr\n",
    "\n",
    "        optimizer.zero_grad()\n",
    "        loss.backward()\n",
    "        optimizer.step()\n",
    "\n",
    "        if b%200 == 0:\n",
    "            acc = trn_corr.item()*100/(100*b)\n",
    "            print(f'Epoch {i} - Batch {b} - Loss {loss.item()} - Accuracy: {acc}')\n",
    "\n",
    "    train_losses.append(loss.item())\n",
    "    train_correct.append(trn_corr.item())\n",
    "\n",
    "    with torch.no_grad():\n",
    "        for b, (X_test, y_test) in enumerate(test_loader):\n",
    "            y_val = model(X_test.view(500, -1))\n",
    "\n",
    "            predicted = torch.max(y_val.data, 1)[1]\n",
    "            tst_corr += (predicted==y_test).sum()\n",
    "\n",
    "    loss = criterion(y_val, y_test)\n",
    "    test_losses.append(loss)\n",
    "    test_correct.append(tst_corr)\n",
    "\n",
    "total_time = time.time() - start_time\n",
    "print(f'Duration: {total_time/60} mins')"
   ]
  },
  {
   "cell_type": "code",
   "execution_count": 30,
   "id": "a11bc59c",
   "metadata": {
    "execution": {
     "iopub.execute_input": "2023-08-17T11:43:00.926887Z",
     "iopub.status.busy": "2023-08-17T11:43:00.926494Z",
     "iopub.status.idle": "2023-08-17T11:43:01.192823Z",
     "shell.execute_reply": "2023-08-17T11:43:01.191717Z"
    },
    "papermill": {
     "duration": 0.284803,
     "end_time": "2023-08-17T11:43:01.195278",
     "exception": false,
     "start_time": "2023-08-17T11:43:00.910475",
     "status": "completed"
    },
    "tags": []
   },
   "outputs": [
    {
     "data": {
      "text/plain": [
       "<matplotlib.legend.Legend at 0x784d5196b490>"
      ]
     },
     "execution_count": 30,
     "metadata": {},
     "output_type": "execute_result"
    },
    {
     "data": {
      "image/png": "[encoded data removed]",
      "text/plain": [
       "<Figure size 640x480 with 1 Axes>"
      ]
     },
     "metadata": {},
     "output_type": "display_data"
    }
   ],
   "source": [
    "plt.plot(train_losses, label='Training loss')\n",
    "plt.legend()"
   ]
  },
  {
   "cell_type": "code",
   "execution_count": 31,
   "id": "ab4437a5",
   "metadata": {
    "execution": {
     "iopub.execute_input": "2023-08-17T11:43:01.229117Z",
     "iopub.status.busy": "2023-08-17T11:43:01.228455Z",
     "iopub.status.idle": "2023-08-17T11:43:01.492803Z",
     "shell.execute_reply": "2023-08-17T11:43:01.491844Z"
    },
    "papermill": {
     "duration": 0.283215,
     "end_time": "2023-08-17T11:43:01.495005",
     "exception": false,
     "start_time": "2023-08-17T11:43:01.211790",
     "status": "completed"
    },
    "tags": []
   },
   "outputs": [
    {
     "data": {
      "text/plain": [
       "<matplotlib.legend.Legend at 0x784d516dac50>"
      ]
     },
     "execution_count": 31,
     "metadata": {},
     "output_type": "execute_result"
    },
    {
     "data": {
      "image/png": "[encoded data removed]",
      "text/plain": [
       "<Figure size 640x480 with 1 Axes>"
      ]
     },
     "metadata": {},
     "output_type": "display_data"
    }
   ],
   "source": [
    "plt.plot(train_losses, label='Training loss')\n",
    "plt.plot(test_losses, label='Test / Validation loss')\n",
    "plt.legend()"
   ]
  },
  {
   "cell_type": "code",
   "execution_count": 32,
   "id": "3de449bb",
   "metadata": {
    "execution": {
     "iopub.execute_input": "2023-08-17T11:43:01.530575Z",
     "iopub.status.busy": "2023-08-17T11:43:01.529697Z",
     "iopub.status.idle": "2023-08-17T11:43:01.534412Z",
     "shell.execute_reply": "2023-08-17T11:43:01.533487Z"
    },
    "papermill": {
     "duration": 0.024901,
     "end_time": "2023-08-17T11:43:01.536817",
     "exception": false,
     "start_time": "2023-08-17T11:43:01.511916",
     "status": "completed"
    },
    "tags": []
   },
   "outputs": [],
   "source": [
    "train_acc = [t/600 for t in train_correct]"
   ]
  },
  {
   "cell_type": "code",
   "execution_count": 33,
   "id": "b785fed8",
   "metadata": {
    "execution": {
     "iopub.execute_input": "2023-08-17T11:43:01.572680Z",
     "iopub.status.busy": "2023-08-17T11:43:01.571561Z",
     "iopub.status.idle": "2023-08-17T11:43:01.578887Z",
     "shell.execute_reply": "2023-08-17T11:43:01.577760Z"
    },
    "papermill": {
     "duration": 0.0274,
     "end_time": "2023-08-17T11:43:01.581154",
     "exception": false,
     "start_time": "2023-08-17T11:43:01.553754",
     "status": "completed"
    },
    "tags": []
   },
   "outputs": [
    {
     "data": {
      "text/plain": [
       "[89.57333333333334,\n",
       " 95.35666666666667,\n",
       " 96.67833333333333,\n",
       " 97.49666666666667,\n",
       " 97.99666666666667,\n",
       " 98.43166666666667,\n",
       " 98.71,\n",
       " 98.975,\n",
       " 99.12666666666667,\n",
       " 99.29666666666667]"
      ]
     },
     "execution_count": 33,
     "metadata": {},
     "output_type": "execute_result"
    }
   ],
   "source": [
    "train_acc"
   ]
  },
  {
   "cell_type": "code",
   "execution_count": 34,
   "id": "e640f494",
   "metadata": {
    "execution": {
     "iopub.execute_input": "2023-08-17T11:43:01.615516Z",
     "iopub.status.busy": "2023-08-17T11:43:01.615071Z",
     "iopub.status.idle": "2023-08-17T11:43:01.620808Z",
     "shell.execute_reply": "2023-08-17T11:43:01.619811Z"
    },
    "papermill": {
     "duration": 0.025578,
     "end_time": "2023-08-17T11:43:01.623067",
     "exception": false,
     "start_time": "2023-08-17T11:43:01.597489",
     "status": "completed"
    },
    "tags": []
   },
   "outputs": [],
   "source": [
    "test_acc = [t/100 for t in test_correct]"
   ]
  },
  {
   "cell_type": "code",
   "execution_count": 35,
   "id": "9ff97912",
   "metadata": {
    "execution": {
     "iopub.execute_input": "2023-08-17T11:43:01.658851Z",
     "iopub.status.busy": "2023-08-17T11:43:01.657935Z",
     "iopub.status.idle": "2023-08-17T11:43:01.668551Z",
     "shell.execute_reply": "2023-08-17T11:43:01.667442Z"
    },
    "papermill": {
     "duration": 0.030826,
     "end_time": "2023-08-17T11:43:01.671088",
     "exception": false,
     "start_time": "2023-08-17T11:43:01.640262",
     "status": "completed"
    },
    "tags": []
   },
   "outputs": [
    {
     "data": {
      "text/plain": [
       "[tensor(94.3600),\n",
       " tensor(95.9400),\n",
       " tensor(96.9400),\n",
       " tensor(97.0800),\n",
       " tensor(97.6000),\n",
       " tensor(97.5600),\n",
       " tensor(97.7200),\n",
       " tensor(97.7700),\n",
       " tensor(97.3000),\n",
       " tensor(97.6800)]"
      ]
     },
     "execution_count": 35,
     "metadata": {},
     "output_type": "execute_result"
    }
   ],
   "source": [
    "test_acc"
   ]
  },
  {
   "cell_type": "code",
   "execution_count": 36,
   "id": "d743ff4d",
   "metadata": {
    "execution": {
     "iopub.execute_input": "2023-08-17T11:43:01.706144Z",
     "iopub.status.busy": "2023-08-17T11:43:01.705750Z",
     "iopub.status.idle": "2023-08-17T11:43:01.972115Z",
     "shell.execute_reply": "2023-08-17T11:43:01.970878Z"
    },
    "papermill": {
     "duration": 0.286676,
     "end_time": "2023-08-17T11:43:01.974554",
     "exception": false,
     "start_time": "2023-08-17T11:43:01.687878",
     "status": "completed"
    },
    "tags": []
   },
   "outputs": [
    {
     "data": {
      "text/plain": [
       "<matplotlib.legend.Legend at 0x784d517774c0>"
      ]
     },
     "execution_count": 36,
     "metadata": {},
     "output_type": "execute_result"
    },
    {
     "data": {
      "image/png": "[encoded data removed]",
      "text/plain": [
       "<Figure size 640x480 with 1 Axes>"
      ]
     },
     "metadata": {},
     "output_type": "display_data"
    }
   ],
   "source": [
    "plt.plot(train_acc, label='train acc')\n",
    "plt.plot(test_acc, label='test acc')\n",
    "plt.legend()"
   ]
  },
  {
   "cell_type": "code",
   "execution_count": 37,
   "id": "571f5699",
   "metadata": {
    "execution": {
     "iopub.execute_input": "2023-08-17T11:43:02.011628Z",
     "iopub.status.busy": "2023-08-17T11:43:02.010341Z",
     "iopub.status.idle": "2023-08-17T11:43:02.015818Z",
     "shell.execute_reply": "2023-08-17T11:43:02.014685Z"
    },
    "papermill": {
     "duration": 0.026271,
     "end_time": "2023-08-17T11:43:02.018149",
     "exception": false,
     "start_time": "2023-08-17T11:43:01.991878",
     "status": "completed"
    },
    "tags": []
   },
   "outputs": [],
   "source": [
    "# New unseen data\n",
    "\n",
    "test_load_all = DataLoader(test_data, batch_size=10000, shuffle=False)"
   ]
  },
  {
   "cell_type": "code",
   "execution_count": 38,
   "id": "9e1acd37",
   "metadata": {
    "execution": {
     "iopub.execute_input": "2023-08-17T11:43:02.054612Z",
     "iopub.status.busy": "2023-08-17T11:43:02.053865Z",
     "iopub.status.idle": "2023-08-17T11:43:03.230711Z",
     "shell.execute_reply": "2023-08-17T11:43:03.229569Z"
    },
    "papermill": {
     "duration": 1.197836,
     "end_time": "2023-08-17T11:43:03.233353",
     "exception": false,
     "start_time": "2023-08-17T11:43:02.035517",
     "status": "completed"
    },
    "tags": []
   },
   "outputs": [],
   "source": [
    "with torch.no_grad():\n",
    "    correct = 0\n",
    "\n",
    "    for X_test, y_test in test_load_all:\n",
    "        y_val = model(X_test.view(len(X_test), -1))\n",
    "        predicted = torch.max(y_val, 1)[1]\n",
    "        correct += (predicted==y_test).sum()"
   ]
  },
  {
   "cell_type": "code",
   "execution_count": 39,
   "id": "31784565",
   "metadata": {
    "execution": {
     "iopub.execute_input": "2023-08-17T11:43:03.269335Z",
     "iopub.status.busy": "2023-08-17T11:43:03.268937Z",
     "iopub.status.idle": "2023-08-17T11:43:03.275784Z",
     "shell.execute_reply": "2023-08-17T11:43:03.274723Z"
    },
    "papermill": {
     "duration": 0.027265,
     "end_time": "2023-08-17T11:43:03.278008",
     "exception": false,
     "start_time": "2023-08-17T11:43:03.250743",
     "status": "completed"
    },
    "tags": []
   },
   "outputs": [
    {
     "data": {
      "text/plain": [
       "97.68"
      ]
     },
     "execution_count": 39,
     "metadata": {},
     "output_type": "execute_result"
    }
   ],
   "source": [
    "100 * correct.item()/len(test_data)"
   ]
  },
  {
   "cell_type": "code",
   "execution_count": 40,
   "id": "d55dd6ca",
   "metadata": {
    "execution": {
     "iopub.execute_input": "2023-08-17T11:43:03.313866Z",
     "iopub.status.busy": "2023-08-17T11:43:03.313470Z",
     "iopub.status.idle": "2023-08-17T11:43:03.327487Z",
     "shell.execute_reply": "2023-08-17T11:43:03.326623Z"
    },
    "papermill": {
     "duration": 0.034438,
     "end_time": "2023-08-17T11:43:03.329677",
     "exception": false,
     "start_time": "2023-08-17T11:43:03.295239",
     "status": "completed"
    },
    "tags": []
   },
   "outputs": [
    {
     "data": {
      "text/plain": [
       "array([[ 971,    0,    5,    0,    1,    2,    5,    2,    4,    2],\n",
       "       [   0, 1121,    3,    0,    0,    0,    3,    6,    0,    2],\n",
       "       [   0,    3, 1001,    2,    2,    0,    2,   10,    3,    0],\n",
       "       [   2,    2,    7,  991,    0,   10,    1,    2,    4,    3],\n",
       "       [   1,    0,    2,    0,  960,    2,    3,    3,    1,    6],\n",
       "       [   0,    0,    0,    5,    0,  864,    3,    0,    2,    2],\n",
       "       [   1,    2,    1,    0,    6,    4,  940,    0,    1,    0],\n",
       "       [   1,    0,    3,    4,    1,    1,    0,  977,    2,    0],\n",
       "       [   3,    7,   10,    2,    1,    7,    1,    4,  952,    3],\n",
       "       [   1,    0,    0,    6,   11,    2,    0,   24,    5,  991]])"
      ]
     },
     "execution_count": 40,
     "metadata": {},
     "output_type": "execute_result"
    }
   ],
   "source": [
    "confusion_matrix(predicted.view(-1), y_test.view(-1))"
   ]
  }
 ],
 "metadata": {
  "kernelspec": {
   "display_name": "Python 3",
   "language": "python",
   "name": "python3"
  },
  "language_info": {
   "codemirror_mode": {
    "name": "ipython",
    "version": 3
   },
   "file_extension": ".py",
   "mimetype": "text/x-python",
   "name": "python",
   "nbconvert_exporter": "python",
   "pygments_lexer": "ipython3",
   "version": "3.10.12"
  },
  "papermill": {
   "default_parameters": {},
   "duration": 114.325672,
   "end_time": "2023-08-17T11:43:04.873860",
   "environment_variables": {},
   "exception": null,
   "input_path": "__notebook__.ipynb",
   "output_path": "__notebook__.ipynb",
   "parameters": {},
   "start_time": "2023-08-17T11:41:10.548188",
   "version": "2.4.0"
  }
 },
 "nbformat": 4,
 "nbformat_minor": 5
}
