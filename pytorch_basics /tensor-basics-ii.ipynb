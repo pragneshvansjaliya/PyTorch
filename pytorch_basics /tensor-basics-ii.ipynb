{
 "cells": [
  {
   "cell_type": "code",
   "execution_count": 1,
   "id": "b06b82b9",
   "metadata": {
    "_cell_guid": "b1076dfc-b9ad-4769-8c92-a6c4dae69d19",
    "_uuid": "8f2839f25d086af736a60e9eeb907d3b93b6e0e5",
    "execution": {
     "iopub.execute_input": "2023-08-17T05:07:24.802590Z",
     "iopub.status.busy": "2023-08-17T05:07:24.802126Z",
     "iopub.status.idle": "2023-08-17T05:07:24.814850Z",
     "shell.execute_reply": "2023-08-17T05:07:24.813624Z"
    },
    "papermill": {
     "duration": 0.020124,
     "end_time": "2023-08-17T05:07:24.817564",
     "exception": false,
     "start_time": "2023-08-17T05:07:24.797440",
     "status": "completed"
    },
    "tags": []
   },
   "outputs": [],
   "source": [
    "import numpy as np # linear algebra"
   ]
  },
  {
   "cell_type": "code",
   "execution_count": null,
   "id": "35cb14d3",
   "metadata": {
    "papermill": {
     "duration": 0.001598,
     "end_time": "2023-08-17T05:07:24.821531",
     "exception": false,
     "start_time": "2023-08-17T05:07:24.819933",
     "status": "completed"
    },
    "tags": []
   },
   "outputs": [],
   "source": []
  }
 ],
 "metadata": {
  "kernelspec": {
   "display_name": "Python 3",
   "language": "python",
   "name": "python3"
  },
  "language_info": {
   "codemirror_mode": {
    "name": "ipython",
    "version": 3
   },
   "file_extension": ".py",
   "mimetype": "text/x-python",
   "name": "python",
   "nbconvert_exporter": "python",
   "pygments_lexer": "ipython3",
   "version": "3.10.12"
  },
  "papermill": {
   "default_parameters": {},
   "duration": 13.817147,
   "end_time": "2023-08-17T05:07:26.047666",
   "environment_variables": {},
   "exception": null,
   "input_path": "__notebook__.ipynb",
   "output_path": "__notebook__.ipynb",
   "parameters": {},
   "start_time": "2023-08-17T05:07:12.230519",
   "version": "2.4.0"
  }
 },
 "nbformat": 4,
 "nbformat_minor": 5
}
