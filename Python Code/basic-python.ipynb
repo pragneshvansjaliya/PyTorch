{
 "cells": [
  {
   "cell_type": "code",
   "execution_count": 1,
   "id": "2382938d",
   "metadata": {
    "execution": {
     "iopub.execute_input": "2023-08-16T12:14:30.249481Z",
     "iopub.status.busy": "2023-08-16T12:14:30.248618Z",
     "iopub.status.idle": "2023-08-16T12:14:30.259116Z",
     "shell.execute_reply": "2023-08-16T12:14:30.257918Z"
    },
    "papermill": {
     "duration": 0.017037,
     "end_time": "2023-08-16T12:14:30.261413",
     "exception": false,
     "start_time": "2023-08-16T12:14:30.244376",
     "status": "completed"
    },
    "tags": []
   },
   "outputs": [
    {
     "name": "stdout",
     "output_type": "stream",
     "text": [
      "Hello World\n"
     ]
    }
   ],
   "source": [
    "print(\"Hello World\")"
   ]
  },
  {
   "cell_type": "code",
   "execution_count": 2,
   "id": "d94897fe",
   "metadata": {
    "execution": {
     "iopub.execute_input": "2023-08-16T12:14:30.267203Z",
     "iopub.status.busy": "2023-08-16T12:14:30.266490Z",
     "iopub.status.idle": "2023-08-16T12:14:33.907060Z",
     "shell.execute_reply": "2023-08-16T12:14:33.905613Z"
    },
    "papermill": {
     "duration": 3.646923,
     "end_time": "2023-08-16T12:14:33.910437",
     "exception": false,
     "start_time": "2023-08-16T12:14:30.263514",
     "status": "completed"
    },
    "tags": []
   },
   "outputs": [],
   "source": [
    "import torch\n",
    "import numpy as np"
   ]
  },
  {
   "cell_type": "code",
   "execution_count": 3,
   "id": "ea837dd4",
   "metadata": {
    "execution": {
     "iopub.execute_input": "2023-08-16T12:14:33.916678Z",
     "iopub.status.busy": "2023-08-16T12:14:33.916025Z",
     "iopub.status.idle": "2023-08-16T12:14:33.989922Z",
     "shell.execute_reply": "2023-08-16T12:14:33.988684Z"
    },
    "papermill": {
     "duration": 0.080061,
     "end_time": "2023-08-16T12:14:33.992672",
     "exception": false,
     "start_time": "2023-08-16T12:14:33.912611",
     "status": "completed"
    },
    "tags": []
   },
   "outputs": [
    {
     "data": {
      "text/plain": [
       "tensor([[0, 1, 2],\n",
       "        [3, 4, 5]])"
      ]
     },
     "execution_count": 3,
     "metadata": {},
     "output_type": "execute_result"
    }
   ],
   "source": [
    "x = torch.arange(6)\n",
    "x.reshape(2,3)"
   ]
  }
 ],
 "metadata": {
  "kernelspec": {
   "display_name": "Python 3",
   "language": "python",
   "name": "python3"
  },
  "language_info": {
   "codemirror_mode": {
    "name": "ipython",
    "version": 3
   },
   "file_extension": ".py",
   "mimetype": "text/x-python",
   "name": "python",
   "nbconvert_exporter": "python",
   "pygments_lexer": "ipython3",
   "version": "3.10.12"
  },
  "papermill": {
   "default_parameters": {},
   "duration": 16.086053,
   "end_time": "2023-08-16T12:14:35.319030",
   "environment_variables": {},
   "exception": null,
   "input_path": "__notebook__.ipynb",
   "output_path": "__notebook__.ipynb",
   "parameters": {},
   "start_time": "2023-08-16T12:14:19.232977",
   "version": "2.4.0"
  }
 },
 "nbformat": 4,
 "nbformat_minor": 5
}
