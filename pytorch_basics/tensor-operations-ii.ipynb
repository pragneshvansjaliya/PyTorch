{
 "cells": [
  {
   "cell_type": "code",
   "execution_count": 1,
   "id": "e005ece4",
   "metadata": {
    "_cell_guid": "b1076dfc-b9ad-4769-8c92-a6c4dae69d19",
    "_uuid": "8f2839f25d086af736a60e9eeb907d3b93b6e0e5",
    "execution": {
     "iopub.execute_input": "2023-08-17T07:09:06.870185Z",
     "iopub.status.busy": "2023-08-17T07:09:06.869740Z",
     "iopub.status.idle": "2023-08-17T07:09:10.826322Z",
     "shell.execute_reply": "2023-08-17T07:09:10.824821Z"
    },
    "papermill": {
     "duration": 3.98054,
     "end_time": "2023-08-17T07:09:10.829512",
     "exception": false,
     "start_time": "2023-08-17T07:09:06.848972",
     "status": "completed"
    },
    "tags": []
   },
   "outputs": [],
   "source": [
    "import torch\n",
    "import numpy as np # linear algebra"
   ]
  },
  {
   "cell_type": "code",
   "execution_count": 2,
   "id": "743429bb",
   "metadata": {
    "execution": {
     "iopub.execute_input": "2023-08-17T07:09:10.869369Z",
     "iopub.status.busy": "2023-08-17T07:09:10.868538Z",
     "iopub.status.idle": "2023-08-17T07:09:10.907942Z",
     "shell.execute_reply": "2023-08-17T07:09:10.906553Z"
    },
    "papermill": {
     "duration": 0.062288,
     "end_time": "2023-08-17T07:09:10.911151",
     "exception": false,
     "start_time": "2023-08-17T07:09:10.848863",
     "status": "completed"
    },
    "tags": []
   },
   "outputs": [],
   "source": [
    "x = torch.arange(6).reshape(3, 2)"
   ]
  },
  {
   "cell_type": "code",
   "execution_count": 3,
   "id": "a4be0bd1",
   "metadata": {
    "execution": {
     "iopub.execute_input": "2023-08-17T07:09:10.950995Z",
     "iopub.status.busy": "2023-08-17T07:09:10.950474Z",
     "iopub.status.idle": "2023-08-17T07:09:10.979984Z",
     "shell.execute_reply": "2023-08-17T07:09:10.978707Z"
    },
    "papermill": {
     "duration": 0.05154,
     "end_time": "2023-08-17T07:09:10.982414",
     "exception": false,
     "start_time": "2023-08-17T07:09:10.930874",
     "status": "completed"
    },
    "tags": []
   },
   "outputs": [
    {
     "data": {
      "text/plain": [
       "tensor([[0, 1],\n",
       "        [2, 3],\n",
       "        [4, 5]])"
      ]
     },
     "execution_count": 3,
     "metadata": {},
     "output_type": "execute_result"
    }
   ],
   "source": [
    "x"
   ]
  },
  {
   "cell_type": "code",
   "execution_count": 4,
   "id": "460f7c03",
   "metadata": {
    "execution": {
     "iopub.execute_input": "2023-08-17T07:09:11.022254Z",
     "iopub.status.busy": "2023-08-17T07:09:11.021755Z",
     "iopub.status.idle": "2023-08-17T07:09:11.030312Z",
     "shell.execute_reply": "2023-08-17T07:09:11.029054Z"
    },
    "papermill": {
     "duration": 0.031489,
     "end_time": "2023-08-17T07:09:11.032590",
     "exception": false,
     "start_time": "2023-08-17T07:09:11.001101",
     "status": "completed"
    },
    "tags": []
   },
   "outputs": [
    {
     "data": {
      "text/plain": [
       "tensor(3)"
      ]
     },
     "execution_count": 4,
     "metadata": {},
     "output_type": "execute_result"
    }
   ],
   "source": [
    "x[1, 1]"
   ]
  },
  {
   "cell_type": "code",
   "execution_count": 5,
   "id": "703f7a56",
   "metadata": {
    "execution": {
     "iopub.execute_input": "2023-08-17T07:09:11.071847Z",
     "iopub.status.busy": "2023-08-17T07:09:11.071339Z",
     "iopub.status.idle": "2023-08-17T07:09:11.079528Z",
     "shell.execute_reply": "2023-08-17T07:09:11.078086Z"
    },
    "papermill": {
     "duration": 0.031418,
     "end_time": "2023-08-17T07:09:11.082140",
     "exception": false,
     "start_time": "2023-08-17T07:09:11.050722",
     "status": "completed"
    },
    "tags": []
   },
   "outputs": [
    {
     "data": {
      "text/plain": [
       "torch.Tensor"
      ]
     },
     "execution_count": 5,
     "metadata": {},
     "output_type": "execute_result"
    }
   ],
   "source": [
    "type(x[1, 1])"
   ]
  },
  {
   "cell_type": "code",
   "execution_count": 6,
   "id": "10f596c6",
   "metadata": {
    "execution": {
     "iopub.execute_input": "2023-08-17T07:09:11.122013Z",
     "iopub.status.busy": "2023-08-17T07:09:11.121477Z",
     "iopub.status.idle": "2023-08-17T07:09:11.136657Z",
     "shell.execute_reply": "2023-08-17T07:09:11.135252Z"
    },
    "papermill": {
     "duration": 0.038528,
     "end_time": "2023-08-17T07:09:11.139352",
     "exception": false,
     "start_time": "2023-08-17T07:09:11.100824",
     "status": "completed"
    },
    "tags": []
   },
   "outputs": [
    {
     "data": {
      "text/plain": [
       "tensor([1, 3, 5])"
      ]
     },
     "execution_count": 6,
     "metadata": {},
     "output_type": "execute_result"
    }
   ],
   "source": [
    "x[:, 1]"
   ]
  },
  {
   "cell_type": "code",
   "execution_count": 7,
   "id": "9517cc26",
   "metadata": {
    "execution": {
     "iopub.execute_input": "2023-08-17T07:09:11.178630Z",
     "iopub.status.busy": "2023-08-17T07:09:11.178228Z",
     "iopub.status.idle": "2023-08-17T07:09:11.186428Z",
     "shell.execute_reply": "2023-08-17T07:09:11.185446Z"
    },
    "papermill": {
     "duration": 0.030837,
     "end_time": "2023-08-17T07:09:11.188907",
     "exception": false,
     "start_time": "2023-08-17T07:09:11.158070",
     "status": "completed"
    },
    "tags": []
   },
   "outputs": [
    {
     "data": {
      "text/plain": [
       "tensor([[1],\n",
       "        [3],\n",
       "        [5]])"
      ]
     },
     "execution_count": 7,
     "metadata": {},
     "output_type": "execute_result"
    }
   ],
   "source": [
    "x[:, 1:]"
   ]
  },
  {
   "cell_type": "code",
   "execution_count": 8,
   "id": "817360b6",
   "metadata": {
    "execution": {
     "iopub.execute_input": "2023-08-17T07:09:11.228938Z",
     "iopub.status.busy": "2023-08-17T07:09:11.228476Z",
     "iopub.status.idle": "2023-08-17T07:09:11.233882Z",
     "shell.execute_reply": "2023-08-17T07:09:11.232622Z"
    },
    "papermill": {
     "duration": 0.029173,
     "end_time": "2023-08-17T07:09:11.236761",
     "exception": false,
     "start_time": "2023-08-17T07:09:11.207588",
     "status": "completed"
    },
    "tags": []
   },
   "outputs": [],
   "source": [
    "x = torch.arange(10)"
   ]
  },
  {
   "cell_type": "code",
   "execution_count": 9,
   "id": "cd200c83",
   "metadata": {
    "execution": {
     "iopub.execute_input": "2023-08-17T07:09:11.278313Z",
     "iopub.status.busy": "2023-08-17T07:09:11.277543Z",
     "iopub.status.idle": "2023-08-17T07:09:11.285258Z",
     "shell.execute_reply": "2023-08-17T07:09:11.284163Z"
    },
    "papermill": {
     "duration": 0.031152,
     "end_time": "2023-08-17T07:09:11.287565",
     "exception": false,
     "start_time": "2023-08-17T07:09:11.256413",
     "status": "completed"
    },
    "tags": []
   },
   "outputs": [
    {
     "data": {
      "text/plain": [
       "tensor([0, 1, 2, 3, 4, 5, 6, 7, 8, 9])"
      ]
     },
     "execution_count": 9,
     "metadata": {},
     "output_type": "execute_result"
    }
   ],
   "source": [
    "x"
   ]
  },
  {
   "cell_type": "code",
   "execution_count": 10,
   "id": "90380b25",
   "metadata": {
    "execution": {
     "iopub.execute_input": "2023-08-17T07:09:11.328954Z",
     "iopub.status.busy": "2023-08-17T07:09:11.328194Z",
     "iopub.status.idle": "2023-08-17T07:09:11.336156Z",
     "shell.execute_reply": "2023-08-17T07:09:11.335053Z"
    },
    "papermill": {
     "duration": 0.031462,
     "end_time": "2023-08-17T07:09:11.338381",
     "exception": false,
     "start_time": "2023-08-17T07:09:11.306919",
     "status": "completed"
    },
    "tags": []
   },
   "outputs": [
    {
     "data": {
      "text/plain": [
       "tensor([[0, 1, 2, 3, 4],\n",
       "        [5, 6, 7, 8, 9]])"
      ]
     },
     "execution_count": 10,
     "metadata": {},
     "output_type": "execute_result"
    }
   ],
   "source": [
    "x.view(2, 5)"
   ]
  },
  {
   "cell_type": "code",
   "execution_count": 11,
   "id": "36485999",
   "metadata": {
    "execution": {
     "iopub.execute_input": "2023-08-17T07:09:11.379959Z",
     "iopub.status.busy": "2023-08-17T07:09:11.379202Z",
     "iopub.status.idle": "2023-08-17T07:09:11.386815Z",
     "shell.execute_reply": "2023-08-17T07:09:11.385735Z"
    },
    "papermill": {
     "duration": 0.031178,
     "end_time": "2023-08-17T07:09:11.389067",
     "exception": false,
     "start_time": "2023-08-17T07:09:11.357889",
     "status": "completed"
    },
    "tags": []
   },
   "outputs": [
    {
     "data": {
      "text/plain": [
       "tensor([0, 1, 2, 3, 4, 5, 6, 7, 8, 9])"
      ]
     },
     "execution_count": 11,
     "metadata": {},
     "output_type": "execute_result"
    }
   ],
   "source": [
    "x"
   ]
  },
  {
   "cell_type": "code",
   "execution_count": 12,
   "id": "2a17e95d",
   "metadata": {
    "execution": {
     "iopub.execute_input": "2023-08-17T07:09:11.430599Z",
     "iopub.status.busy": "2023-08-17T07:09:11.429818Z",
     "iopub.status.idle": "2023-08-17T07:09:11.437742Z",
     "shell.execute_reply": "2023-08-17T07:09:11.436631Z"
    },
    "papermill": {
     "duration": 0.031499,
     "end_time": "2023-08-17T07:09:11.439973",
     "exception": false,
     "start_time": "2023-08-17T07:09:11.408474",
     "status": "completed"
    },
    "tags": []
   },
   "outputs": [
    {
     "data": {
      "text/plain": [
       "tensor([[0, 1, 2, 3, 4],\n",
       "        [5, 6, 7, 8, 9]])"
      ]
     },
     "execution_count": 12,
     "metadata": {},
     "output_type": "execute_result"
    }
   ],
   "source": [
    "x.reshape(2, 5)"
   ]
  },
  {
   "cell_type": "code",
   "execution_count": 13,
   "id": "17562ede",
   "metadata": {
    "execution": {
     "iopub.execute_input": "2023-08-17T07:09:11.481925Z",
     "iopub.status.busy": "2023-08-17T07:09:11.481148Z",
     "iopub.status.idle": "2023-08-17T07:09:11.488682Z",
     "shell.execute_reply": "2023-08-17T07:09:11.487580Z"
    },
    "papermill": {
     "duration": 0.031343,
     "end_time": "2023-08-17T07:09:11.490938",
     "exception": false,
     "start_time": "2023-08-17T07:09:11.459595",
     "status": "completed"
    },
    "tags": []
   },
   "outputs": [
    {
     "data": {
      "text/plain": [
       "tensor([0, 1, 2, 3, 4, 5, 6, 7, 8, 9])"
      ]
     },
     "execution_count": 13,
     "metadata": {},
     "output_type": "execute_result"
    }
   ],
   "source": [
    "x"
   ]
  },
  {
   "cell_type": "code",
   "execution_count": 14,
   "id": "d7b83dd9",
   "metadata": {
    "execution": {
     "iopub.execute_input": "2023-08-17T07:09:11.532731Z",
     "iopub.status.busy": "2023-08-17T07:09:11.531984Z",
     "iopub.status.idle": "2023-08-17T07:09:11.537246Z",
     "shell.execute_reply": "2023-08-17T07:09:11.536375Z"
    },
    "papermill": {
     "duration": 0.028936,
     "end_time": "2023-08-17T07:09:11.539476",
     "exception": false,
     "start_time": "2023-08-17T07:09:11.510540",
     "status": "completed"
    },
    "tags": []
   },
   "outputs": [],
   "source": [
    "x = torch.arange(10)"
   ]
  },
  {
   "cell_type": "code",
   "execution_count": 15,
   "id": "4eaffeac",
   "metadata": {
    "execution": {
     "iopub.execute_input": "2023-08-17T07:09:11.581383Z",
     "iopub.status.busy": "2023-08-17T07:09:11.580580Z",
     "iopub.status.idle": "2023-08-17T07:09:11.588503Z",
     "shell.execute_reply": "2023-08-17T07:09:11.587122Z"
    },
    "papermill": {
     "duration": 0.031569,
     "end_time": "2023-08-17T07:09:11.590700",
     "exception": false,
     "start_time": "2023-08-17T07:09:11.559131",
     "status": "completed"
    },
    "tags": []
   },
   "outputs": [
    {
     "data": {
      "text/plain": [
       "tensor([0, 1, 2, 3, 4, 5, 6, 7, 8, 9])"
      ]
     },
     "execution_count": 15,
     "metadata": {},
     "output_type": "execute_result"
    }
   ],
   "source": [
    "x"
   ]
  },
  {
   "cell_type": "code",
   "execution_count": 16,
   "id": "a77183b5",
   "metadata": {
    "execution": {
     "iopub.execute_input": "2023-08-17T07:09:11.632353Z",
     "iopub.status.busy": "2023-08-17T07:09:11.631561Z",
     "iopub.status.idle": "2023-08-17T07:09:11.637637Z",
     "shell.execute_reply": "2023-08-17T07:09:11.636890Z"
    },
    "papermill": {
     "duration": 0.029545,
     "end_time": "2023-08-17T07:09:11.639863",
     "exception": false,
     "start_time": "2023-08-17T07:09:11.610318",
     "status": "completed"
    },
    "tags": []
   },
   "outputs": [
    {
     "data": {
      "text/plain": [
       "torch.Size([10])"
      ]
     },
     "execution_count": 16,
     "metadata": {},
     "output_type": "execute_result"
    }
   ],
   "source": [
    "x.shape"
   ]
  },
  {
   "cell_type": "code",
   "execution_count": 17,
   "id": "ab6314e9",
   "metadata": {
    "execution": {
     "iopub.execute_input": "2023-08-17T07:09:11.682708Z",
     "iopub.status.busy": "2023-08-17T07:09:11.682056Z",
     "iopub.status.idle": "2023-08-17T07:09:11.688767Z",
     "shell.execute_reply": "2023-08-17T07:09:11.687570Z"
    },
    "papermill": {
     "duration": 0.030675,
     "end_time": "2023-08-17T07:09:11.691138",
     "exception": false,
     "start_time": "2023-08-17T07:09:11.660463",
     "status": "completed"
    },
    "tags": []
   },
   "outputs": [
    {
     "data": {
      "text/plain": [
       "tensor([[0, 1, 2, 3, 4],\n",
       "        [5, 6, 7, 8, 9]])"
      ]
     },
     "execution_count": 17,
     "metadata": {},
     "output_type": "execute_result"
    }
   ],
   "source": [
    "x.view(2, 5)"
   ]
  },
  {
   "cell_type": "code",
   "execution_count": 18,
   "id": "8dd0c6db",
   "metadata": {
    "execution": {
     "iopub.execute_input": "2023-08-17T07:09:11.733583Z",
     "iopub.status.busy": "2023-08-17T07:09:11.733175Z",
     "iopub.status.idle": "2023-08-17T07:09:11.738584Z",
     "shell.execute_reply": "2023-08-17T07:09:11.737353Z"
    },
    "papermill": {
     "duration": 0.02966,
     "end_time": "2023-08-17T07:09:11.741106",
     "exception": false,
     "start_time": "2023-08-17T07:09:11.711446",
     "status": "completed"
    },
    "tags": []
   },
   "outputs": [],
   "source": [
    "z = x.view(2, 5)"
   ]
  },
  {
   "cell_type": "code",
   "execution_count": 19,
   "id": "638b5ab4",
   "metadata": {
    "execution": {
     "iopub.execute_input": "2023-08-17T07:09:11.784592Z",
     "iopub.status.busy": "2023-08-17T07:09:11.783472Z",
     "iopub.status.idle": "2023-08-17T07:09:11.790268Z",
     "shell.execute_reply": "2023-08-17T07:09:11.789470Z"
    },
    "papermill": {
     "duration": 0.030881,
     "end_time": "2023-08-17T07:09:11.792453",
     "exception": false,
     "start_time": "2023-08-17T07:09:11.761572",
     "status": "completed"
    },
    "tags": []
   },
   "outputs": [
    {
     "data": {
      "text/plain": [
       "tensor([[0, 1, 2, 3, 4],\n",
       "        [5, 6, 7, 8, 9]])"
      ]
     },
     "execution_count": 19,
     "metadata": {},
     "output_type": "execute_result"
    }
   ],
   "source": [
    "z"
   ]
  },
  {
   "cell_type": "code",
   "execution_count": 20,
   "id": "08655ed4",
   "metadata": {
    "execution": {
     "iopub.execute_input": "2023-08-17T07:09:11.836024Z",
     "iopub.status.busy": "2023-08-17T07:09:11.835339Z",
     "iopub.status.idle": "2023-08-17T07:09:11.846043Z",
     "shell.execute_reply": "2023-08-17T07:09:11.844667Z"
    },
    "papermill": {
     "duration": 0.036229,
     "end_time": "2023-08-17T07:09:11.848964",
     "exception": false,
     "start_time": "2023-08-17T07:09:11.812735",
     "status": "completed"
    },
    "tags": []
   },
   "outputs": [],
   "source": [
    "x[0] = 9999"
   ]
  },
  {
   "cell_type": "code",
   "execution_count": 21,
   "id": "aea69465",
   "metadata": {
    "execution": {
     "iopub.execute_input": "2023-08-17T07:09:11.894015Z",
     "iopub.status.busy": "2023-08-17T07:09:11.893208Z",
     "iopub.status.idle": "2023-08-17T07:09:11.900391Z",
     "shell.execute_reply": "2023-08-17T07:09:11.899227Z"
    },
    "papermill": {
     "duration": 0.033293,
     "end_time": "2023-08-17T07:09:11.903265",
     "exception": false,
     "start_time": "2023-08-17T07:09:11.869972",
     "status": "completed"
    },
    "tags": []
   },
   "outputs": [
    {
     "data": {
      "text/plain": [
       "tensor([9999,    1,    2,    3,    4,    5,    6,    7,    8,    9])"
      ]
     },
     "execution_count": 21,
     "metadata": {},
     "output_type": "execute_result"
    }
   ],
   "source": [
    "x"
   ]
  },
  {
   "cell_type": "code",
   "execution_count": 22,
   "id": "1e03b2dd",
   "metadata": {
    "execution": {
     "iopub.execute_input": "2023-08-17T07:09:11.946374Z",
     "iopub.status.busy": "2023-08-17T07:09:11.945730Z",
     "iopub.status.idle": "2023-08-17T07:09:11.953580Z",
     "shell.execute_reply": "2023-08-17T07:09:11.952253Z"
    },
    "papermill": {
     "duration": 0.032505,
     "end_time": "2023-08-17T07:09:11.956459",
     "exception": false,
     "start_time": "2023-08-17T07:09:11.923954",
     "status": "completed"
    },
    "tags": []
   },
   "outputs": [
    {
     "data": {
      "text/plain": [
       "tensor([[9999,    1,    2,    3,    4],\n",
       "        [   5,    6,    7,    8,    9]])"
      ]
     },
     "execution_count": 22,
     "metadata": {},
     "output_type": "execute_result"
    }
   ],
   "source": [
    "z"
   ]
  },
  {
   "cell_type": "code",
   "execution_count": 23,
   "id": "f7be0932",
   "metadata": {
    "execution": {
     "iopub.execute_input": "2023-08-17T07:09:12.000452Z",
     "iopub.status.busy": "2023-08-17T07:09:11.999012Z",
     "iopub.status.idle": "2023-08-17T07:09:12.005041Z",
     "shell.execute_reply": "2023-08-17T07:09:12.004073Z"
    },
    "papermill": {
     "duration": 0.030449,
     "end_time": "2023-08-17T07:09:12.007221",
     "exception": false,
     "start_time": "2023-08-17T07:09:11.976772",
     "status": "completed"
    },
    "tags": []
   },
   "outputs": [],
   "source": [
    "x = torch.arange(10)"
   ]
  },
  {
   "cell_type": "code",
   "execution_count": 24,
   "id": "af018231",
   "metadata": {
    "execution": {
     "iopub.execute_input": "2023-08-17T07:09:12.049625Z",
     "iopub.status.busy": "2023-08-17T07:09:12.049155Z",
     "iopub.status.idle": "2023-08-17T07:09:12.057840Z",
     "shell.execute_reply": "2023-08-17T07:09:12.056691Z"
    },
    "papermill": {
     "duration": 0.032951,
     "end_time": "2023-08-17T07:09:12.060218",
     "exception": false,
     "start_time": "2023-08-17T07:09:12.027267",
     "status": "completed"
    },
    "tags": []
   },
   "outputs": [
    {
     "data": {
      "text/plain": [
       "tensor([0, 1, 2, 3, 4, 5, 6, 7, 8, 9])"
      ]
     },
     "execution_count": 24,
     "metadata": {},
     "output_type": "execute_result"
    }
   ],
   "source": [
    "x"
   ]
  },
  {
   "cell_type": "code",
   "execution_count": 25,
   "id": "6d6ab1f7",
   "metadata": {
    "execution": {
     "iopub.execute_input": "2023-08-17T07:09:12.104217Z",
     "iopub.status.busy": "2023-08-17T07:09:12.103735Z",
     "iopub.status.idle": "2023-08-17T07:09:12.110478Z",
     "shell.execute_reply": "2023-08-17T07:09:12.109489Z"
    },
    "papermill": {
     "duration": 0.031744,
     "end_time": "2023-08-17T07:09:12.112833",
     "exception": false,
     "start_time": "2023-08-17T07:09:12.081089",
     "status": "completed"
    },
    "tags": []
   },
   "outputs": [
    {
     "data": {
      "text/plain": [
       "torch.Size([10])"
      ]
     },
     "execution_count": 25,
     "metadata": {},
     "output_type": "execute_result"
    }
   ],
   "source": [
    "x.shape"
   ]
  },
  {
   "cell_type": "code",
   "execution_count": 26,
   "id": "85e78f33",
   "metadata": {
    "execution": {
     "iopub.execute_input": "2023-08-17T07:09:12.157704Z",
     "iopub.status.busy": "2023-08-17T07:09:12.155531Z",
     "iopub.status.idle": "2023-08-17T07:09:12.165538Z",
     "shell.execute_reply": "2023-08-17T07:09:12.164333Z"
    },
    "papermill": {
     "duration": 0.034465,
     "end_time": "2023-08-17T07:09:12.167975",
     "exception": false,
     "start_time": "2023-08-17T07:09:12.133510",
     "status": "completed"
    },
    "tags": []
   },
   "outputs": [
    {
     "data": {
      "text/plain": [
       "tensor([[0, 1, 2, 3, 4],\n",
       "        [5, 6, 7, 8, 9]])"
      ]
     },
     "execution_count": 26,
     "metadata": {},
     "output_type": "execute_result"
    }
   ],
   "source": [
    "# Infer what the 2nd dimension\n",
    "x.view(2, -1)"
   ]
  },
  {
   "cell_type": "code",
   "execution_count": 27,
   "id": "06400f48",
   "metadata": {
    "execution": {
     "iopub.execute_input": "2023-08-17T07:09:12.213267Z",
     "iopub.status.busy": "2023-08-17T07:09:12.212493Z",
     "iopub.status.idle": "2023-08-17T07:09:12.218939Z",
     "shell.execute_reply": "2023-08-17T07:09:12.218092Z"
    },
    "papermill": {
     "duration": 0.031886,
     "end_time": "2023-08-17T07:09:12.221490",
     "exception": false,
     "start_time": "2023-08-17T07:09:12.189604",
     "status": "completed"
    },
    "tags": []
   },
   "outputs": [
    {
     "data": {
      "text/plain": [
       "tensor([[0, 1, 2, 3, 4],\n",
       "        [5, 6, 7, 8, 9]])"
      ]
     },
     "execution_count": 27,
     "metadata": {},
     "output_type": "execute_result"
    }
   ],
   "source": [
    "x.view(-1, 5)"
   ]
  },
  {
   "cell_type": "code",
   "execution_count": 28,
   "id": "a295bcd5",
   "metadata": {
    "execution": {
     "iopub.execute_input": "2023-08-17T07:09:12.266625Z",
     "iopub.status.busy": "2023-08-17T07:09:12.266212Z",
     "iopub.status.idle": "2023-08-17T07:09:12.271639Z",
     "shell.execute_reply": "2023-08-17T07:09:12.270849Z"
    },
    "papermill": {
     "duration": 0.030714,
     "end_time": "2023-08-17T07:09:12.273840",
     "exception": false,
     "start_time": "2023-08-17T07:09:12.243126",
     "status": "completed"
    },
    "tags": []
   },
   "outputs": [],
   "source": [
    "a = torch.tensor([1., 2., 3.])"
   ]
  },
  {
   "cell_type": "code",
   "execution_count": 29,
   "id": "55a68efd",
   "metadata": {
    "execution": {
     "iopub.execute_input": "2023-08-17T07:09:12.319806Z",
     "iopub.status.busy": "2023-08-17T07:09:12.318779Z",
     "iopub.status.idle": "2023-08-17T07:09:12.324171Z",
     "shell.execute_reply": "2023-08-17T07:09:12.323177Z"
    },
    "papermill": {
     "duration": 0.031016,
     "end_time": "2023-08-17T07:09:12.326682",
     "exception": false,
     "start_time": "2023-08-17T07:09:12.295666",
     "status": "completed"
    },
    "tags": []
   },
   "outputs": [],
   "source": [
    "b = torch.tensor([4., 5., 6.])"
   ]
  },
  {
   "cell_type": "code",
   "execution_count": 30,
   "id": "7769aec5",
   "metadata": {
    "execution": {
     "iopub.execute_input": "2023-08-17T07:09:12.371665Z",
     "iopub.status.busy": "2023-08-17T07:09:12.371251Z",
     "iopub.status.idle": "2023-08-17T07:09:12.419263Z",
     "shell.execute_reply": "2023-08-17T07:09:12.417683Z"
    },
    "papermill": {
     "duration": 0.073548,
     "end_time": "2023-08-17T07:09:12.421644",
     "exception": false,
     "start_time": "2023-08-17T07:09:12.348096",
     "status": "completed"
    },
    "tags": []
   },
   "outputs": [
    {
     "data": {
      "text/plain": [
       "tensor([1., 2., 3.])"
      ]
     },
     "execution_count": 30,
     "metadata": {},
     "output_type": "execute_result"
    }
   ],
   "source": [
    "a"
   ]
  },
  {
   "cell_type": "code",
   "execution_count": 31,
   "id": "d981a0a8",
   "metadata": {
    "execution": {
     "iopub.execute_input": "2023-08-17T07:09:12.466266Z",
     "iopub.status.busy": "2023-08-17T07:09:12.465405Z",
     "iopub.status.idle": "2023-08-17T07:09:12.474524Z",
     "shell.execute_reply": "2023-08-17T07:09:12.473275Z"
    },
    "papermill": {
     "duration": 0.034266,
     "end_time": "2023-08-17T07:09:12.476923",
     "exception": false,
     "start_time": "2023-08-17T07:09:12.442657",
     "status": "completed"
    },
    "tags": []
   },
   "outputs": [
    {
     "data": {
      "text/plain": [
       "tensor([4., 5., 6.])"
      ]
     },
     "execution_count": 31,
     "metadata": {},
     "output_type": "execute_result"
    }
   ],
   "source": [
    "b"
   ]
  },
  {
   "cell_type": "code",
   "execution_count": 32,
   "id": "c27f0b6f",
   "metadata": {
    "execution": {
     "iopub.execute_input": "2023-08-17T07:09:12.521723Z",
     "iopub.status.busy": "2023-08-17T07:09:12.521268Z",
     "iopub.status.idle": "2023-08-17T07:09:12.529039Z",
     "shell.execute_reply": "2023-08-17T07:09:12.527769Z"
    },
    "papermill": {
     "duration": 0.033078,
     "end_time": "2023-08-17T07:09:12.531265",
     "exception": false,
     "start_time": "2023-08-17T07:09:12.498187",
     "status": "completed"
    },
    "tags": []
   },
   "outputs": [
    {
     "data": {
      "text/plain": [
       "torch.float32"
      ]
     },
     "execution_count": 32,
     "metadata": {},
     "output_type": "execute_result"
    }
   ],
   "source": [
    "a.dtype"
   ]
  },
  {
   "cell_type": "code",
   "execution_count": 33,
   "id": "ee32efef",
   "metadata": {
    "execution": {
     "iopub.execute_input": "2023-08-17T07:09:12.576926Z",
     "iopub.status.busy": "2023-08-17T07:09:12.576497Z",
     "iopub.status.idle": "2023-08-17T07:09:12.583623Z",
     "shell.execute_reply": "2023-08-17T07:09:12.582354Z"
    },
    "papermill": {
     "duration": 0.032623,
     "end_time": "2023-08-17T07:09:12.586048",
     "exception": false,
     "start_time": "2023-08-17T07:09:12.553425",
     "status": "completed"
    },
    "tags": []
   },
   "outputs": [
    {
     "data": {
      "text/plain": [
       "torch.float32"
      ]
     },
     "execution_count": 33,
     "metadata": {},
     "output_type": "execute_result"
    }
   ],
   "source": [
    "b.dtype"
   ]
  },
  {
   "cell_type": "code",
   "execution_count": 34,
   "id": "57b4a4d4",
   "metadata": {
    "execution": {
     "iopub.execute_input": "2023-08-17T07:09:12.632868Z",
     "iopub.status.busy": "2023-08-17T07:09:12.631545Z",
     "iopub.status.idle": "2023-08-17T07:09:12.643546Z",
     "shell.execute_reply": "2023-08-17T07:09:12.642386Z"
    },
    "papermill": {
     "duration": 0.038835,
     "end_time": "2023-08-17T07:09:12.646236",
     "exception": false,
     "start_time": "2023-08-17T07:09:12.607401",
     "status": "completed"
    },
    "tags": []
   },
   "outputs": [
    {
     "data": {
      "text/plain": [
       "tensor([5., 7., 9.])"
      ]
     },
     "execution_count": 34,
     "metadata": {},
     "output_type": "execute_result"
    }
   ],
   "source": [
    "a + b"
   ]
  },
  {
   "cell_type": "code",
   "execution_count": 35,
   "id": "7c5c1f02",
   "metadata": {
    "execution": {
     "iopub.execute_input": "2023-08-17T07:09:12.693387Z",
     "iopub.status.busy": "2023-08-17T07:09:12.692988Z",
     "iopub.status.idle": "2023-08-17T07:09:12.701924Z",
     "shell.execute_reply": "2023-08-17T07:09:12.700676Z"
    },
    "papermill": {
     "duration": 0.035174,
     "end_time": "2023-08-17T07:09:12.704255",
     "exception": false,
     "start_time": "2023-08-17T07:09:12.669081",
     "status": "completed"
    },
    "tags": []
   },
   "outputs": [
    {
     "data": {
      "text/plain": [
       "tensor([5., 7., 9.])"
      ]
     },
     "execution_count": 35,
     "metadata": {},
     "output_type": "execute_result"
    }
   ],
   "source": [
    "torch.add(a, b)"
   ]
  },
  {
   "cell_type": "code",
   "execution_count": 36,
   "id": "1a7aa257",
   "metadata": {
    "execution": {
     "iopub.execute_input": "2023-08-17T07:09:12.752323Z",
     "iopub.status.busy": "2023-08-17T07:09:12.751892Z",
     "iopub.status.idle": "2023-08-17T07:09:12.760111Z",
     "shell.execute_reply": "2023-08-17T07:09:12.758896Z"
    },
    "papermill": {
     "duration": 0.035363,
     "end_time": "2023-08-17T07:09:12.762376",
     "exception": false,
     "start_time": "2023-08-17T07:09:12.727013",
     "status": "completed"
    },
    "tags": []
   },
   "outputs": [
    {
     "data": {
      "text/plain": [
       "tensor([ 4., 10., 18.])"
      ]
     },
     "execution_count": 36,
     "metadata": {},
     "output_type": "execute_result"
    }
   ],
   "source": [
    "# a = a + b\n",
    "\n",
    "a.mul(b)"
   ]
  },
  {
   "cell_type": "code",
   "execution_count": 37,
   "id": "50b123ce",
   "metadata": {
    "execution": {
     "iopub.execute_input": "2023-08-17T07:09:12.810493Z",
     "iopub.status.busy": "2023-08-17T07:09:12.810104Z",
     "iopub.status.idle": "2023-08-17T07:09:12.818856Z",
     "shell.execute_reply": "2023-08-17T07:09:12.816962Z"
    },
    "papermill": {
     "duration": 0.035318,
     "end_time": "2023-08-17T07:09:12.821400",
     "exception": false,
     "start_time": "2023-08-17T07:09:12.786082",
     "status": "completed"
    },
    "tags": []
   },
   "outputs": [
    {
     "data": {
      "text/plain": [
       "tensor([1., 2., 3.])"
      ]
     },
     "execution_count": 37,
     "metadata": {},
     "output_type": "execute_result"
    }
   ],
   "source": [
    "a"
   ]
  },
  {
   "cell_type": "code",
   "execution_count": 38,
   "id": "d9ef31d8",
   "metadata": {
    "execution": {
     "iopub.execute_input": "2023-08-17T07:09:12.869727Z",
     "iopub.status.busy": "2023-08-17T07:09:12.869275Z",
     "iopub.status.idle": "2023-08-17T07:09:12.878590Z",
     "shell.execute_reply": "2023-08-17T07:09:12.877648Z"
    },
    "papermill": {
     "duration": 0.037124,
     "end_time": "2023-08-17T07:09:12.881132",
     "exception": false,
     "start_time": "2023-08-17T07:09:12.844008",
     "status": "completed"
    },
    "tags": []
   },
   "outputs": [
    {
     "data": {
      "text/plain": [
       "tensor([ 4., 10., 18.])"
      ]
     },
     "execution_count": 38,
     "metadata": {},
     "output_type": "execute_result"
    }
   ],
   "source": [
    "a.mul_(b)"
   ]
  },
  {
   "cell_type": "code",
   "execution_count": 39,
   "id": "ad2fc90e",
   "metadata": {
    "execution": {
     "iopub.execute_input": "2023-08-17T07:09:12.929566Z",
     "iopub.status.busy": "2023-08-17T07:09:12.929167Z",
     "iopub.status.idle": "2023-08-17T07:09:12.937128Z",
     "shell.execute_reply": "2023-08-17T07:09:12.936207Z"
    },
    "papermill": {
     "duration": 0.035182,
     "end_time": "2023-08-17T07:09:12.939293",
     "exception": false,
     "start_time": "2023-08-17T07:09:12.904111",
     "status": "completed"
    },
    "tags": []
   },
   "outputs": [
    {
     "data": {
      "text/plain": [
       "tensor([ 4., 10., 18.])"
      ]
     },
     "execution_count": 39,
     "metadata": {},
     "output_type": "execute_result"
    }
   ],
   "source": [
    "a"
   ]
  },
  {
   "cell_type": "code",
   "execution_count": 40,
   "id": "a2eca62c",
   "metadata": {
    "execution": {
     "iopub.execute_input": "2023-08-17T07:09:12.987596Z",
     "iopub.status.busy": "2023-08-17T07:09:12.987141Z",
     "iopub.status.idle": "2023-08-17T07:09:12.992976Z",
     "shell.execute_reply": "2023-08-17T07:09:12.991657Z"
    },
    "papermill": {
     "duration": 0.033354,
     "end_time": "2023-08-17T07:09:12.995510",
     "exception": false,
     "start_time": "2023-08-17T07:09:12.962156",
     "status": "completed"
    },
    "tags": []
   },
   "outputs": [],
   "source": [
    "a = torch.tensor([1., 2., 3.])"
   ]
  },
  {
   "cell_type": "code",
   "execution_count": 41,
   "id": "b365806b",
   "metadata": {
    "execution": {
     "iopub.execute_input": "2023-08-17T07:09:13.043203Z",
     "iopub.status.busy": "2023-08-17T07:09:13.042730Z",
     "iopub.status.idle": "2023-08-17T07:09:13.052563Z",
     "shell.execute_reply": "2023-08-17T07:09:13.051096Z"
    },
    "papermill": {
     "duration": 0.037062,
     "end_time": "2023-08-17T07:09:13.055344",
     "exception": false,
     "start_time": "2023-08-17T07:09:13.018282",
     "status": "completed"
    },
    "tags": []
   },
   "outputs": [
    {
     "data": {
      "text/plain": [
       "tensor([1., 2., 3.])"
      ]
     },
     "execution_count": 41,
     "metadata": {},
     "output_type": "execute_result"
    }
   ],
   "source": [
    "a"
   ]
  },
  {
   "cell_type": "code",
   "execution_count": 42,
   "id": "2a0c1b73",
   "metadata": {
    "execution": {
     "iopub.execute_input": "2023-08-17T07:09:13.105503Z",
     "iopub.status.busy": "2023-08-17T07:09:13.105074Z",
     "iopub.status.idle": "2023-08-17T07:09:13.112953Z",
     "shell.execute_reply": "2023-08-17T07:09:13.111854Z"
    },
    "papermill": {
     "duration": 0.036406,
     "end_time": "2023-08-17T07:09:13.115399",
     "exception": false,
     "start_time": "2023-08-17T07:09:13.078993",
     "status": "completed"
    },
    "tags": []
   },
   "outputs": [
    {
     "data": {
      "text/plain": [
       "tensor([4., 5., 6.])"
      ]
     },
     "execution_count": 42,
     "metadata": {},
     "output_type": "execute_result"
    }
   ],
   "source": [
    "b"
   ]
  },
  {
   "cell_type": "code",
   "execution_count": 43,
   "id": "c8c0072a",
   "metadata": {
    "execution": {
     "iopub.execute_input": "2023-08-17T07:09:13.165016Z",
     "iopub.status.busy": "2023-08-17T07:09:13.164621Z",
     "iopub.status.idle": "2023-08-17T07:09:13.171692Z",
     "shell.execute_reply": "2023-08-17T07:09:13.170863Z"
    },
    "papermill": {
     "duration": 0.034621,
     "end_time": "2023-08-17T07:09:13.173914",
     "exception": false,
     "start_time": "2023-08-17T07:09:13.139293",
     "status": "completed"
    },
    "tags": []
   },
   "outputs": [
    {
     "data": {
      "text/plain": [
       "tensor([ 4., 10., 18.])"
      ]
     },
     "execution_count": 43,
     "metadata": {},
     "output_type": "execute_result"
    }
   ],
   "source": [
    "a * b"
   ]
  },
  {
   "cell_type": "code",
   "execution_count": 44,
   "id": "8a25721c",
   "metadata": {
    "execution": {
     "iopub.execute_input": "2023-08-17T07:09:13.222353Z",
     "iopub.status.busy": "2023-08-17T07:09:13.221905Z",
     "iopub.status.idle": "2023-08-17T07:09:13.230421Z",
     "shell.execute_reply": "2023-08-17T07:09:13.229180Z"
    },
    "papermill": {
     "duration": 0.035426,
     "end_time": "2023-08-17T07:09:13.232879",
     "exception": false,
     "start_time": "2023-08-17T07:09:13.197453",
     "status": "completed"
    },
    "tags": []
   },
   "outputs": [
    {
     "data": {
      "text/plain": [
       "tensor([ 4., 10., 18.])"
      ]
     },
     "execution_count": 44,
     "metadata": {},
     "output_type": "execute_result"
    }
   ],
   "source": [
    "a.mul(b)"
   ]
  },
  {
   "cell_type": "code",
   "execution_count": 45,
   "id": "4e09c30a",
   "metadata": {
    "execution": {
     "iopub.execute_input": "2023-08-17T07:09:13.282760Z",
     "iopub.status.busy": "2023-08-17T07:09:13.282352Z",
     "iopub.status.idle": "2023-08-17T07:09:13.289630Z",
     "shell.execute_reply": "2023-08-17T07:09:13.288852Z"
    },
    "papermill": {
     "duration": 0.035488,
     "end_time": "2023-08-17T07:09:13.291928",
     "exception": false,
     "start_time": "2023-08-17T07:09:13.256440",
     "status": "completed"
    },
    "tags": []
   },
   "outputs": [
    {
     "data": {
      "text/plain": [
       "tensor(32.)"
      ]
     },
     "execution_count": 45,
     "metadata": {},
     "output_type": "execute_result"
    }
   ],
   "source": [
    "a.dot(b)"
   ]
  },
  {
   "cell_type": "code",
   "execution_count": 46,
   "id": "cb1b6990",
   "metadata": {
    "execution": {
     "iopub.execute_input": "2023-08-17T07:09:13.340979Z",
     "iopub.status.busy": "2023-08-17T07:09:13.340526Z",
     "iopub.status.idle": "2023-08-17T07:09:13.346657Z",
     "shell.execute_reply": "2023-08-17T07:09:13.345495Z"
    },
    "papermill": {
     "duration": 0.033248,
     "end_time": "2023-08-17T07:09:13.348886",
     "exception": false,
     "start_time": "2023-08-17T07:09:13.315638",
     "status": "completed"
    },
    "tags": []
   },
   "outputs": [],
   "source": [
    "a = torch.tensor([[0, 2, 4], [1, 3, 5]])"
   ]
  },
  {
   "cell_type": "code",
   "execution_count": 47,
   "id": "53180a54",
   "metadata": {
    "execution": {
     "iopub.execute_input": "2023-08-17T07:09:13.398485Z",
     "iopub.status.busy": "2023-08-17T07:09:13.397514Z",
     "iopub.status.idle": "2023-08-17T07:09:13.405510Z",
     "shell.execute_reply": "2023-08-17T07:09:13.404101Z"
    },
    "papermill": {
     "duration": 0.035046,
     "end_time": "2023-08-17T07:09:13.407774",
     "exception": false,
     "start_time": "2023-08-17T07:09:13.372728",
     "status": "completed"
    },
    "tags": []
   },
   "outputs": [
    {
     "data": {
      "text/plain": [
       "tensor([[0, 2, 4],\n",
       "        [1, 3, 5]])"
      ]
     },
     "execution_count": 47,
     "metadata": {},
     "output_type": "execute_result"
    }
   ],
   "source": [
    "a"
   ]
  },
  {
   "cell_type": "code",
   "execution_count": 48,
   "id": "e1f1ce4e",
   "metadata": {
    "execution": {
     "iopub.execute_input": "2023-08-17T07:09:13.457030Z",
     "iopub.status.busy": "2023-08-17T07:09:13.456099Z",
     "iopub.status.idle": "2023-08-17T07:09:13.461890Z",
     "shell.execute_reply": "2023-08-17T07:09:13.460843Z"
    },
    "papermill": {
     "duration": 0.033101,
     "end_time": "2023-08-17T07:09:13.464310",
     "exception": false,
     "start_time": "2023-08-17T07:09:13.431209",
     "status": "completed"
    },
    "tags": []
   },
   "outputs": [],
   "source": [
    "b = torch.tensor([[6, 7], [8, 9], [10, 11]])"
   ]
  },
  {
   "cell_type": "code",
   "execution_count": 49,
   "id": "45317a35",
   "metadata": {
    "execution": {
     "iopub.execute_input": "2023-08-17T07:09:13.513877Z",
     "iopub.status.busy": "2023-08-17T07:09:13.513453Z",
     "iopub.status.idle": "2023-08-17T07:09:13.521112Z",
     "shell.execute_reply": "2023-08-17T07:09:13.520221Z"
    },
    "papermill": {
     "duration": 0.035032,
     "end_time": "2023-08-17T07:09:13.523215",
     "exception": false,
     "start_time": "2023-08-17T07:09:13.488183",
     "status": "completed"
    },
    "tags": []
   },
   "outputs": [
    {
     "data": {
      "text/plain": [
       "tensor([[ 6,  7],\n",
       "        [ 8,  9],\n",
       "        [10, 11]])"
      ]
     },
     "execution_count": 49,
     "metadata": {},
     "output_type": "execute_result"
    }
   ],
   "source": [
    "b"
   ]
  },
  {
   "cell_type": "code",
   "execution_count": 50,
   "id": "c0b70052",
   "metadata": {
    "execution": {
     "iopub.execute_input": "2023-08-17T07:09:13.578904Z",
     "iopub.status.busy": "2023-08-17T07:09:13.578502Z",
     "iopub.status.idle": "2023-08-17T07:09:13.585664Z",
     "shell.execute_reply": "2023-08-17T07:09:13.584427Z"
    },
    "papermill": {
     "duration": 0.035373,
     "end_time": "2023-08-17T07:09:13.588067",
     "exception": false,
     "start_time": "2023-08-17T07:09:13.552694",
     "status": "completed"
    },
    "tags": []
   },
   "outputs": [
    {
     "data": {
      "text/plain": [
       "torch.Size([2, 3])"
      ]
     },
     "execution_count": 50,
     "metadata": {},
     "output_type": "execute_result"
    }
   ],
   "source": [
    "a.shape"
   ]
  },
  {
   "cell_type": "code",
   "execution_count": 51,
   "id": "eb343e53",
   "metadata": {
    "execution": {
     "iopub.execute_input": "2023-08-17T07:09:13.640836Z",
     "iopub.status.busy": "2023-08-17T07:09:13.640354Z",
     "iopub.status.idle": "2023-08-17T07:09:13.647853Z",
     "shell.execute_reply": "2023-08-17T07:09:13.646613Z"
    },
    "papermill": {
     "duration": 0.037334,
     "end_time": "2023-08-17T07:09:13.649984",
     "exception": false,
     "start_time": "2023-08-17T07:09:13.612650",
     "status": "completed"
    },
    "tags": []
   },
   "outputs": [
    {
     "data": {
      "text/plain": [
       "torch.Size([3, 2])"
      ]
     },
     "execution_count": 51,
     "metadata": {},
     "output_type": "execute_result"
    }
   ],
   "source": [
    "b.shape"
   ]
  },
  {
   "cell_type": "code",
   "execution_count": 52,
   "id": "aee19899",
   "metadata": {
    "execution": {
     "iopub.execute_input": "2023-08-17T07:09:13.700848Z",
     "iopub.status.busy": "2023-08-17T07:09:13.700451Z",
     "iopub.status.idle": "2023-08-17T07:09:13.714525Z",
     "shell.execute_reply": "2023-08-17T07:09:13.712411Z"
    },
    "papermill": {
     "duration": 0.044016,
     "end_time": "2023-08-17T07:09:13.718336",
     "exception": false,
     "start_time": "2023-08-17T07:09:13.674320",
     "status": "completed"
    },
    "tags": []
   },
   "outputs": [
    {
     "data": {
      "text/plain": [
       "tensor([[56, 62],\n",
       "        [80, 89]])"
      ]
     },
     "execution_count": 52,
     "metadata": {},
     "output_type": "execute_result"
    }
   ],
   "source": [
    "torch.mm(a, b)"
   ]
  },
  {
   "cell_type": "code",
   "execution_count": 53,
   "id": "43ca9d4a",
   "metadata": {
    "execution": {
     "iopub.execute_input": "2023-08-17T07:09:13.785120Z",
     "iopub.status.busy": "2023-08-17T07:09:13.784427Z",
     "iopub.status.idle": "2023-08-17T07:09:13.794017Z",
     "shell.execute_reply": "2023-08-17T07:09:13.792869Z"
    },
    "papermill": {
     "duration": 0.048398,
     "end_time": "2023-08-17T07:09:13.797091",
     "exception": false,
     "start_time": "2023-08-17T07:09:13.748693",
     "status": "completed"
    },
    "tags": []
   },
   "outputs": [
    {
     "data": {
      "text/plain": [
       "tensor([[56, 62],\n",
       "        [80, 89]])"
      ]
     },
     "execution_count": 53,
     "metadata": {},
     "output_type": "execute_result"
    }
   ],
   "source": [
    "a @ b"
   ]
  },
  {
   "cell_type": "code",
   "execution_count": 54,
   "id": "d704980e",
   "metadata": {
    "execution": {
     "iopub.execute_input": "2023-08-17T07:09:13.855194Z",
     "iopub.status.busy": "2023-08-17T07:09:13.854352Z",
     "iopub.status.idle": "2023-08-17T07:09:13.859707Z",
     "shell.execute_reply": "2023-08-17T07:09:13.858378Z"
    },
    "papermill": {
     "duration": 0.035968,
     "end_time": "2023-08-17T07:09:13.862082",
     "exception": false,
     "start_time": "2023-08-17T07:09:13.826114",
     "status": "completed"
    },
    "tags": []
   },
   "outputs": [],
   "source": [
    "x = torch.tensor([2., 3., 4., 5.])"
   ]
  },
  {
   "cell_type": "code",
   "execution_count": 55,
   "id": "614095ac",
   "metadata": {
    "execution": {
     "iopub.execute_input": "2023-08-17T07:09:13.913188Z",
     "iopub.status.busy": "2023-08-17T07:09:13.912620Z",
     "iopub.status.idle": "2023-08-17T07:09:13.927711Z",
     "shell.execute_reply": "2023-08-17T07:09:13.926514Z"
    },
    "papermill": {
     "duration": 0.043931,
     "end_time": "2023-08-17T07:09:13.930373",
     "exception": false,
     "start_time": "2023-08-17T07:09:13.886442",
     "status": "completed"
    },
    "tags": []
   },
   "outputs": [
    {
     "data": {
      "text/plain": [
       "tensor(7.3485)"
      ]
     },
     "execution_count": 55,
     "metadata": {},
     "output_type": "execute_result"
    }
   ],
   "source": [
    "x.norm()"
   ]
  },
  {
   "cell_type": "code",
   "execution_count": 56,
   "id": "3a924c21",
   "metadata": {
    "execution": {
     "iopub.execute_input": "2023-08-17T07:09:13.982498Z",
     "iopub.status.busy": "2023-08-17T07:09:13.982098Z",
     "iopub.status.idle": "2023-08-17T07:09:13.990139Z",
     "shell.execute_reply": "2023-08-17T07:09:13.988795Z"
    },
    "papermill": {
     "duration": 0.036445,
     "end_time": "2023-08-17T07:09:13.992550",
     "exception": false,
     "start_time": "2023-08-17T07:09:13.956105",
     "status": "completed"
    },
    "tags": []
   },
   "outputs": [
    {
     "data": {
      "text/plain": [
       "4"
      ]
     },
     "execution_count": 56,
     "metadata": {},
     "output_type": "execute_result"
    }
   ],
   "source": [
    "x.numel()"
   ]
  },
  {
   "cell_type": "code",
   "execution_count": 57,
   "id": "75897fae",
   "metadata": {
    "execution": {
     "iopub.execute_input": "2023-08-17T07:09:14.046071Z",
     "iopub.status.busy": "2023-08-17T07:09:14.045629Z",
     "iopub.status.idle": "2023-08-17T07:09:14.053155Z",
     "shell.execute_reply": "2023-08-17T07:09:14.051833Z"
    },
    "papermill": {
     "duration": 0.036543,
     "end_time": "2023-08-17T07:09:14.055653",
     "exception": false,
     "start_time": "2023-08-17T07:09:14.019110",
     "status": "completed"
    },
    "tags": []
   },
   "outputs": [
    {
     "data": {
      "text/plain": [
       "4"
      ]
     },
     "execution_count": 57,
     "metadata": {},
     "output_type": "execute_result"
    }
   ],
   "source": [
    "len(x)"
   ]
  },
  {
   "cell_type": "code",
   "execution_count": 58,
   "id": "a9fac418",
   "metadata": {
    "execution": {
     "iopub.execute_input": "2023-08-17T07:09:14.108467Z",
     "iopub.status.busy": "2023-08-17T07:09:14.108014Z",
     "iopub.status.idle": "2023-08-17T07:09:14.116402Z",
     "shell.execute_reply": "2023-08-17T07:09:14.115184Z"
    },
    "papermill": {
     "duration": 0.037917,
     "end_time": "2023-08-17T07:09:14.118991",
     "exception": false,
     "start_time": "2023-08-17T07:09:14.081074",
     "status": "completed"
    },
    "tags": []
   },
   "outputs": [
    {
     "data": {
      "text/plain": [
       "tensor([[0, 2, 4],\n",
       "        [1, 3, 5]])"
      ]
     },
     "execution_count": 58,
     "metadata": {},
     "output_type": "execute_result"
    }
   ],
   "source": [
    "a"
   ]
  },
  {
   "cell_type": "code",
   "execution_count": 59,
   "id": "a0dfe3d0",
   "metadata": {
    "execution": {
     "iopub.execute_input": "2023-08-17T07:09:14.171308Z",
     "iopub.status.busy": "2023-08-17T07:09:14.170818Z",
     "iopub.status.idle": "2023-08-17T07:09:14.178615Z",
     "shell.execute_reply": "2023-08-17T07:09:14.177416Z"
    },
    "papermill": {
     "duration": 0.036561,
     "end_time": "2023-08-17T07:09:14.181063",
     "exception": false,
     "start_time": "2023-08-17T07:09:14.144502",
     "status": "completed"
    },
    "tags": []
   },
   "outputs": [
    {
     "data": {
      "text/plain": [
       "2"
      ]
     },
     "execution_count": 59,
     "metadata": {},
     "output_type": "execute_result"
    }
   ],
   "source": [
    "len(a)"
   ]
  },
  {
   "cell_type": "code",
   "execution_count": 60,
   "id": "f0fdf6c9",
   "metadata": {
    "execution": {
     "iopub.execute_input": "2023-08-17T07:09:14.232643Z",
     "iopub.status.busy": "2023-08-17T07:09:14.232227Z",
     "iopub.status.idle": "2023-08-17T07:09:14.239820Z",
     "shell.execute_reply": "2023-08-17T07:09:14.238442Z"
    },
    "papermill": {
     "duration": 0.036262,
     "end_time": "2023-08-17T07:09:14.242192",
     "exception": false,
     "start_time": "2023-08-17T07:09:14.205930",
     "status": "completed"
    },
    "tags": []
   },
   "outputs": [
    {
     "data": {
      "text/plain": [
       "6"
      ]
     },
     "execution_count": 60,
     "metadata": {},
     "output_type": "execute_result"
    }
   ],
   "source": [
    "a.numel()"
   ]
  }
 ],
 "metadata": {
  "kernelspec": {
   "display_name": "Python 3",
   "language": "python",
   "name": "python3"
  },
  "language_info": {
   "codemirror_mode": {
    "name": "ipython",
    "version": 3
   },
   "file_extension": ".py",
   "mimetype": "text/x-python",
   "name": "python",
   "nbconvert_exporter": "python",
   "pygments_lexer": "ipython3",
   "version": "3.10.12"
  },
  "papermill": {
   "default_parameters": {},
   "duration": 21.833621,
   "end_time": "2023-08-17T07:09:16.788093",
   "environment_variables": {},
   "exception": null,
   "input_path": "__notebook__.ipynb",
   "output_path": "__notebook__.ipynb",
   "parameters": {},
   "start_time": "2023-08-17T07:08:54.954472",
   "version": "2.4.0"
  }
 },
 "nbformat": 4,
 "nbformat_minor": 5
}
