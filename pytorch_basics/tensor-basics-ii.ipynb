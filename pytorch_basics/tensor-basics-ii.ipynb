{
 "cells": [
  {
   "cell_type": "code",
   "execution_count": 1,
   "id": "0485b70d",
   "metadata": {
    "_cell_guid": "b1076dfc-b9ad-4769-8c92-a6c4dae69d19",
    "_uuid": "8f2839f25d086af736a60e9eeb907d3b93b6e0e5",
    "execution": {
     "iopub.execute_input": "2023-08-17T05:49:25.534650Z",
     "iopub.status.busy": "2023-08-17T05:49:25.534199Z",
     "iopub.status.idle": "2023-08-17T05:49:29.367491Z",
     "shell.execute_reply": "2023-08-17T05:49:29.366400Z"
    },
    "papermill": {
     "duration": 3.856864,
     "end_time": "2023-08-17T05:49:29.370305",
     "exception": false,
     "start_time": "2023-08-17T05:49:25.513441",
     "status": "completed"
    },
    "tags": []
   },
   "outputs": [],
   "source": [
    "import torch\n",
    "import numpy as np # linear algebra"
   ]
  },
  {
   "cell_type": "code",
   "execution_count": 2,
   "id": "02185950",
   "metadata": {
    "execution": {
     "iopub.execute_input": "2023-08-17T05:49:29.408958Z",
     "iopub.status.busy": "2023-08-17T05:49:29.408325Z",
     "iopub.status.idle": "2023-08-17T05:49:29.416417Z",
     "shell.execute_reply": "2023-08-17T05:49:29.415042Z"
    },
    "papermill": {
     "duration": 0.030132,
     "end_time": "2023-08-17T05:49:29.418965",
     "exception": false,
     "start_time": "2023-08-17T05:49:29.388833",
     "status": "completed"
    },
    "tags": []
   },
   "outputs": [
    {
     "data": {
      "text/plain": [
       "'2.0.0+cpu'"
      ]
     },
     "execution_count": 2,
     "metadata": {},
     "output_type": "execute_result"
    }
   ],
   "source": [
    "torch.__version__"
   ]
  },
  {
   "cell_type": "code",
   "execution_count": 3,
   "id": "cd5db5c8",
   "metadata": {
    "execution": {
     "iopub.execute_input": "2023-08-17T05:49:29.458928Z",
     "iopub.status.busy": "2023-08-17T05:49:29.458185Z",
     "iopub.status.idle": "2023-08-17T05:49:29.462752Z",
     "shell.execute_reply": "2023-08-17T05:49:29.461908Z"
    },
    "papermill": {
     "duration": 0.026379,
     "end_time": "2023-08-17T05:49:29.464938",
     "exception": false,
     "start_time": "2023-08-17T05:49:29.438559",
     "status": "completed"
    },
    "tags": []
   },
   "outputs": [],
   "source": [
    "arr = np.array([1, 2, 3, 4, 5])"
   ]
  },
  {
   "cell_type": "code",
   "execution_count": 4,
   "id": "b1be8617",
   "metadata": {
    "execution": {
     "iopub.execute_input": "2023-08-17T05:49:29.503707Z",
     "iopub.status.busy": "2023-08-17T05:49:29.502957Z",
     "iopub.status.idle": "2023-08-17T05:49:29.509963Z",
     "shell.execute_reply": "2023-08-17T05:49:29.509175Z"
    },
    "papermill": {
     "duration": 0.029111,
     "end_time": "2023-08-17T05:49:29.512190",
     "exception": false,
     "start_time": "2023-08-17T05:49:29.483079",
     "status": "completed"
    },
    "tags": []
   },
   "outputs": [
    {
     "name": "stdout",
     "output_type": "stream",
     "text": [
      "[1 2 3 4 5]\n"
     ]
    }
   ],
   "source": [
    "print(arr)"
   ]
  },
  {
   "cell_type": "code",
   "execution_count": 5,
   "id": "1ee556ce",
   "metadata": {
    "execution": {
     "iopub.execute_input": "2023-08-17T05:49:29.550921Z",
     "iopub.status.busy": "2023-08-17T05:49:29.550222Z",
     "iopub.status.idle": "2023-08-17T05:49:29.558545Z",
     "shell.execute_reply": "2023-08-17T05:49:29.557503Z"
    },
    "papermill": {
     "duration": 0.031642,
     "end_time": "2023-08-17T05:49:29.562188",
     "exception": false,
     "start_time": "2023-08-17T05:49:29.530546",
     "status": "completed"
    },
    "tags": []
   },
   "outputs": [
    {
     "data": {
      "text/plain": [
       "dtype('int64')"
      ]
     },
     "execution_count": 5,
     "metadata": {},
     "output_type": "execute_result"
    }
   ],
   "source": [
    "arr.dtype"
   ]
  },
  {
   "cell_type": "code",
   "execution_count": 6,
   "id": "a48f171a",
   "metadata": {
    "execution": {
     "iopub.execute_input": "2023-08-17T05:49:29.602065Z",
     "iopub.status.busy": "2023-08-17T05:49:29.601689Z",
     "iopub.status.idle": "2023-08-17T05:49:29.608777Z",
     "shell.execute_reply": "2023-08-17T05:49:29.607483Z"
    },
    "papermill": {
     "duration": 0.030133,
     "end_time": "2023-08-17T05:49:29.611057",
     "exception": false,
     "start_time": "2023-08-17T05:49:29.580924",
     "status": "completed"
    },
    "tags": []
   },
   "outputs": [
    {
     "data": {
      "text/plain": [
       "numpy.ndarray"
      ]
     },
     "execution_count": 6,
     "metadata": {},
     "output_type": "execute_result"
    }
   ],
   "source": [
    "type(arr)"
   ]
  },
  {
   "cell_type": "code",
   "execution_count": 7,
   "id": "8f55c87d",
   "metadata": {
    "execution": {
     "iopub.execute_input": "2023-08-17T05:49:29.650844Z",
     "iopub.status.busy": "2023-08-17T05:49:29.650187Z",
     "iopub.status.idle": "2023-08-17T05:49:29.665099Z",
     "shell.execute_reply": "2023-08-17T05:49:29.664195Z"
    },
    "papermill": {
     "duration": 0.03791,
     "end_time": "2023-08-17T05:49:29.667603",
     "exception": false,
     "start_time": "2023-08-17T05:49:29.629693",
     "status": "completed"
    },
    "tags": []
   },
   "outputs": [],
   "source": [
    "x = torch.from_numpy(arr)"
   ]
  },
  {
   "cell_type": "code",
   "execution_count": 8,
   "id": "fb4f0b70",
   "metadata": {
    "execution": {
     "iopub.execute_input": "2023-08-17T05:49:29.708309Z",
     "iopub.status.busy": "2023-08-17T05:49:29.707888Z",
     "iopub.status.idle": "2023-08-17T05:49:29.714580Z",
     "shell.execute_reply": "2023-08-17T05:49:29.713462Z"
    },
    "papermill": {
     "duration": 0.030167,
     "end_time": "2023-08-17T05:49:29.717129",
     "exception": false,
     "start_time": "2023-08-17T05:49:29.686962",
     "status": "completed"
    },
    "tags": []
   },
   "outputs": [
    {
     "data": {
      "text/plain": [
       "torch.Tensor"
      ]
     },
     "execution_count": 8,
     "metadata": {},
     "output_type": "execute_result"
    }
   ],
   "source": [
    "type(x)"
   ]
  },
  {
   "cell_type": "code",
   "execution_count": 9,
   "id": "465111f1",
   "metadata": {
    "execution": {
     "iopub.execute_input": "2023-08-17T05:49:29.756809Z",
     "iopub.status.busy": "2023-08-17T05:49:29.756367Z",
     "iopub.status.idle": "2023-08-17T05:49:29.791832Z",
     "shell.execute_reply": "2023-08-17T05:49:29.790914Z"
    },
    "papermill": {
     "duration": 0.057946,
     "end_time": "2023-08-17T05:49:29.794090",
     "exception": false,
     "start_time": "2023-08-17T05:49:29.736144",
     "status": "completed"
    },
    "tags": []
   },
   "outputs": [
    {
     "data": {
      "text/plain": [
       "tensor([1, 2, 3, 4, 5])"
      ]
     },
     "execution_count": 9,
     "metadata": {},
     "output_type": "execute_result"
    }
   ],
   "source": [
    "torch.as_tensor(arr)"
   ]
  },
  {
   "cell_type": "code",
   "execution_count": 10,
   "id": "277eaf63",
   "metadata": {
    "execution": {
     "iopub.execute_input": "2023-08-17T05:49:29.836697Z",
     "iopub.status.busy": "2023-08-17T05:49:29.835953Z",
     "iopub.status.idle": "2023-08-17T05:49:29.844903Z",
     "shell.execute_reply": "2023-08-17T05:49:29.843776Z"
    },
    "papermill": {
     "duration": 0.03325,
     "end_time": "2023-08-17T05:49:29.847301",
     "exception": false,
     "start_time": "2023-08-17T05:49:29.814051",
     "status": "completed"
    },
    "tags": []
   },
   "outputs": [
    {
     "data": {
      "text/plain": [
       "tensor([1, 2, 3, 4, 5])"
      ]
     },
     "execution_count": 10,
     "metadata": {},
     "output_type": "execute_result"
    }
   ],
   "source": [
    "x"
   ]
  },
  {
   "cell_type": "code",
   "execution_count": 11,
   "id": "968a8c98",
   "metadata": {
    "execution": {
     "iopub.execute_input": "2023-08-17T05:49:29.888052Z",
     "iopub.status.busy": "2023-08-17T05:49:29.887627Z",
     "iopub.status.idle": "2023-08-17T05:49:29.894335Z",
     "shell.execute_reply": "2023-08-17T05:49:29.893574Z"
    },
    "papermill": {
     "duration": 0.029503,
     "end_time": "2023-08-17T05:49:29.896423",
     "exception": false,
     "start_time": "2023-08-17T05:49:29.866920",
     "status": "completed"
    },
    "tags": []
   },
   "outputs": [
    {
     "data": {
      "text/plain": [
       "torch.int64"
      ]
     },
     "execution_count": 11,
     "metadata": {},
     "output_type": "execute_result"
    }
   ],
   "source": [
    "x.dtype"
   ]
  },
  {
   "cell_type": "code",
   "execution_count": 12,
   "id": "1a358dc5",
   "metadata": {
    "execution": {
     "iopub.execute_input": "2023-08-17T05:49:29.937195Z",
     "iopub.status.busy": "2023-08-17T05:49:29.936500Z",
     "iopub.status.idle": "2023-08-17T05:49:29.940918Z",
     "shell.execute_reply": "2023-08-17T05:49:29.939925Z"
    },
    "papermill": {
     "duration": 0.027271,
     "end_time": "2023-08-17T05:49:29.943085",
     "exception": false,
     "start_time": "2023-08-17T05:49:29.915814",
     "status": "completed"
    },
    "tags": []
   },
   "outputs": [],
   "source": [
    "arr2d = np.arange(0.0, 12.0)"
   ]
  },
  {
   "cell_type": "code",
   "execution_count": 13,
   "id": "ec42d140",
   "metadata": {
    "execution": {
     "iopub.execute_input": "2023-08-17T05:49:29.983870Z",
     "iopub.status.busy": "2023-08-17T05:49:29.983023Z",
     "iopub.status.idle": "2023-08-17T05:49:29.990159Z",
     "shell.execute_reply": "2023-08-17T05:49:29.988962Z"
    },
    "papermill": {
     "duration": 0.030271,
     "end_time": "2023-08-17T05:49:29.992379",
     "exception": false,
     "start_time": "2023-08-17T05:49:29.962108",
     "status": "completed"
    },
    "tags": []
   },
   "outputs": [
    {
     "data": {
      "text/plain": [
       "array([ 0.,  1.,  2.,  3.,  4.,  5.,  6.,  7.,  8.,  9., 10., 11.])"
      ]
     },
     "execution_count": 13,
     "metadata": {},
     "output_type": "execute_result"
    }
   ],
   "source": [
    "arr2d"
   ]
  },
  {
   "cell_type": "code",
   "execution_count": 14,
   "id": "0c1f08cd",
   "metadata": {
    "execution": {
     "iopub.execute_input": "2023-08-17T05:49:30.035544Z",
     "iopub.status.busy": "2023-08-17T05:49:30.034866Z",
     "iopub.status.idle": "2023-08-17T05:49:30.041600Z",
     "shell.execute_reply": "2023-08-17T05:49:30.040483Z"
    },
    "papermill": {
     "duration": 0.029886,
     "end_time": "2023-08-17T05:49:30.043748",
     "exception": false,
     "start_time": "2023-08-17T05:49:30.013862",
     "status": "completed"
    },
    "tags": []
   },
   "outputs": [
    {
     "data": {
      "text/plain": [
       "array([[ 0.,  1.,  2.],\n",
       "       [ 3.,  4.,  5.],\n",
       "       [ 6.,  7.,  8.],\n",
       "       [ 9., 10., 11.]])"
      ]
     },
     "execution_count": 14,
     "metadata": {},
     "output_type": "execute_result"
    }
   ],
   "source": [
    "arr2d = arr2d.reshape(4, 3)\n",
    "arr2d"
   ]
  },
  {
   "cell_type": "code",
   "execution_count": 15,
   "id": "df55a975",
   "metadata": {
    "execution": {
     "iopub.execute_input": "2023-08-17T05:49:30.084765Z",
     "iopub.status.busy": "2023-08-17T05:49:30.083755Z",
     "iopub.status.idle": "2023-08-17T05:49:30.156059Z",
     "shell.execute_reply": "2023-08-17T05:49:30.154708Z"
    },
    "papermill": {
     "duration": 0.095768,
     "end_time": "2023-08-17T05:49:30.158970",
     "exception": false,
     "start_time": "2023-08-17T05:49:30.063202",
     "status": "completed"
    },
    "tags": []
   },
   "outputs": [
    {
     "data": {
      "text/plain": [
       "tensor([[ 0.,  1.,  2.],\n",
       "        [ 3.,  4.,  5.],\n",
       "        [ 6.,  7.,  8.],\n",
       "        [ 9., 10., 11.]], dtype=torch.float64)"
      ]
     },
     "execution_count": 15,
     "metadata": {},
     "output_type": "execute_result"
    }
   ],
   "source": [
    "x2 = torch.from_numpy(arr2d)\n",
    "x2"
   ]
  },
  {
   "cell_type": "code",
   "execution_count": 16,
   "id": "3809b4ff",
   "metadata": {
    "execution": {
     "iopub.execute_input": "2023-08-17T05:49:30.201044Z",
     "iopub.status.busy": "2023-08-17T05:49:30.200634Z",
     "iopub.status.idle": "2023-08-17T05:49:30.207345Z",
     "shell.execute_reply": "2023-08-17T05:49:30.206485Z"
    },
    "papermill": {
     "duration": 0.032495,
     "end_time": "2023-08-17T05:49:30.211082",
     "exception": false,
     "start_time": "2023-08-17T05:49:30.178587",
     "status": "completed"
    },
    "tags": []
   },
   "outputs": [
    {
     "data": {
      "text/plain": [
       "array([1, 2, 3, 4, 5])"
      ]
     },
     "execution_count": 16,
     "metadata": {},
     "output_type": "execute_result"
    }
   ],
   "source": [
    "arr"
   ]
  },
  {
   "cell_type": "code",
   "execution_count": 17,
   "id": "9cdde5c7",
   "metadata": {
    "execution": {
     "iopub.execute_input": "2023-08-17T05:49:30.254669Z",
     "iopub.status.busy": "2023-08-17T05:49:30.254225Z",
     "iopub.status.idle": "2023-08-17T05:49:30.261958Z",
     "shell.execute_reply": "2023-08-17T05:49:30.260858Z"
    },
    "papermill": {
     "duration": 0.032774,
     "end_time": "2023-08-17T05:49:30.264885",
     "exception": false,
     "start_time": "2023-08-17T05:49:30.232111",
     "status": "completed"
    },
    "tags": []
   },
   "outputs": [
    {
     "data": {
      "text/plain": [
       "tensor([1, 2, 3, 4, 5])"
      ]
     },
     "execution_count": 17,
     "metadata": {},
     "output_type": "execute_result"
    }
   ],
   "source": [
    "x"
   ]
  },
  {
   "cell_type": "code",
   "execution_count": 18,
   "id": "1d68feac",
   "metadata": {
    "execution": {
     "iopub.execute_input": "2023-08-17T05:49:30.308748Z",
     "iopub.status.busy": "2023-08-17T05:49:30.307588Z",
     "iopub.status.idle": "2023-08-17T05:49:30.312776Z",
     "shell.execute_reply": "2023-08-17T05:49:30.312014Z"
    },
    "papermill": {
     "duration": 0.029023,
     "end_time": "2023-08-17T05:49:30.315067",
     "exception": false,
     "start_time": "2023-08-17T05:49:30.286044",
     "status": "completed"
    },
    "tags": []
   },
   "outputs": [],
   "source": [
    "arr[0] = 99"
   ]
  },
  {
   "cell_type": "code",
   "execution_count": 19,
   "id": "6c4cdfc3",
   "metadata": {
    "execution": {
     "iopub.execute_input": "2023-08-17T05:49:30.357773Z",
     "iopub.status.busy": "2023-08-17T05:49:30.356985Z",
     "iopub.status.idle": "2023-08-17T05:49:30.365241Z",
     "shell.execute_reply": "2023-08-17T05:49:30.364142Z"
    },
    "papermill": {
     "duration": 0.032472,
     "end_time": "2023-08-17T05:49:30.367488",
     "exception": false,
     "start_time": "2023-08-17T05:49:30.335016",
     "status": "completed"
    },
    "tags": []
   },
   "outputs": [
    {
     "data": {
      "text/plain": [
       "tensor([99,  2,  3,  4,  5])"
      ]
     },
     "execution_count": 19,
     "metadata": {},
     "output_type": "execute_result"
    }
   ],
   "source": [
    "x"
   ]
  },
  {
   "cell_type": "code",
   "execution_count": 20,
   "id": "8839e644",
   "metadata": {
    "execution": {
     "iopub.execute_input": "2023-08-17T05:49:30.410397Z",
     "iopub.status.busy": "2023-08-17T05:49:30.409971Z",
     "iopub.status.idle": "2023-08-17T05:49:30.417031Z",
     "shell.execute_reply": "2023-08-17T05:49:30.416208Z"
    },
    "papermill": {
     "duration": 0.030989,
     "end_time": "2023-08-17T05:49:30.419110",
     "exception": false,
     "start_time": "2023-08-17T05:49:30.388121",
     "status": "completed"
    },
    "tags": []
   },
   "outputs": [
    {
     "data": {
      "text/plain": [
       "array([0, 1, 2, 3, 4, 5, 6, 7, 8, 9])"
      ]
     },
     "execution_count": 20,
     "metadata": {},
     "output_type": "execute_result"
    }
   ],
   "source": [
    "my_arr = np.arange(0, 10)\n",
    "my_arr"
   ]
  },
  {
   "cell_type": "code",
   "execution_count": 21,
   "id": "79cccc88",
   "metadata": {
    "execution": {
     "iopub.execute_input": "2023-08-17T05:49:30.462590Z",
     "iopub.status.busy": "2023-08-17T05:49:30.461815Z",
     "iopub.status.idle": "2023-08-17T05:49:30.469440Z",
     "shell.execute_reply": "2023-08-17T05:49:30.468600Z"
    },
    "papermill": {
     "duration": 0.032258,
     "end_time": "2023-08-17T05:49:30.471988",
     "exception": false,
     "start_time": "2023-08-17T05:49:30.439730",
     "status": "completed"
    },
    "tags": []
   },
   "outputs": [],
   "source": [
    "my_tensor = torch.tensor(my_arr)"
   ]
  },
  {
   "cell_type": "code",
   "execution_count": 22,
   "id": "9eed7b58",
   "metadata": {
    "execution": {
     "iopub.execute_input": "2023-08-17T05:49:30.514498Z",
     "iopub.status.busy": "2023-08-17T05:49:30.513808Z",
     "iopub.status.idle": "2023-08-17T05:49:30.518660Z",
     "shell.execute_reply": "2023-08-17T05:49:30.517535Z"
    },
    "papermill": {
     "duration": 0.028699,
     "end_time": "2023-08-17T05:49:30.520913",
     "exception": false,
     "start_time": "2023-08-17T05:49:30.492214",
     "status": "completed"
    },
    "tags": []
   },
   "outputs": [],
   "source": [
    "my_other_tensor = torch.from_numpy(my_arr)"
   ]
  },
  {
   "cell_type": "code",
   "execution_count": 23,
   "id": "3da61ed8",
   "metadata": {
    "execution": {
     "iopub.execute_input": "2023-08-17T05:49:30.565905Z",
     "iopub.status.busy": "2023-08-17T05:49:30.565194Z",
     "iopub.status.idle": "2023-08-17T05:49:30.571263Z",
     "shell.execute_reply": "2023-08-17T05:49:30.570534Z"
    },
    "papermill": {
     "duration": 0.031259,
     "end_time": "2023-08-17T05:49:30.573218",
     "exception": false,
     "start_time": "2023-08-17T05:49:30.541959",
     "status": "completed"
    },
    "tags": []
   },
   "outputs": [
    {
     "data": {
      "text/plain": [
       "tensor([0, 1, 2, 3, 4, 5, 6, 7, 8, 9])"
      ]
     },
     "execution_count": 23,
     "metadata": {},
     "output_type": "execute_result"
    }
   ],
   "source": [
    "my_tensor"
   ]
  },
  {
   "cell_type": "code",
   "execution_count": 24,
   "id": "a351da09",
   "metadata": {
    "execution": {
     "iopub.execute_input": "2023-08-17T05:49:30.616688Z",
     "iopub.status.busy": "2023-08-17T05:49:30.616252Z",
     "iopub.status.idle": "2023-08-17T05:49:30.622971Z",
     "shell.execute_reply": "2023-08-17T05:49:30.622151Z"
    },
    "papermill": {
     "duration": 0.031136,
     "end_time": "2023-08-17T05:49:30.625042",
     "exception": false,
     "start_time": "2023-08-17T05:49:30.593906",
     "status": "completed"
    },
    "tags": []
   },
   "outputs": [
    {
     "data": {
      "text/plain": [
       "tensor([0, 1, 2, 3, 4, 5, 6, 7, 8, 9])"
      ]
     },
     "execution_count": 24,
     "metadata": {},
     "output_type": "execute_result"
    }
   ],
   "source": [
    "my_other_tensor"
   ]
  },
  {
   "cell_type": "code",
   "execution_count": 25,
   "id": "394640cc",
   "metadata": {
    "execution": {
     "iopub.execute_input": "2023-08-17T05:49:30.669381Z",
     "iopub.status.busy": "2023-08-17T05:49:30.668408Z",
     "iopub.status.idle": "2023-08-17T05:49:30.672898Z",
     "shell.execute_reply": "2023-08-17T05:49:30.672050Z"
    },
    "papermill": {
     "duration": 0.029187,
     "end_time": "2023-08-17T05:49:30.674944",
     "exception": false,
     "start_time": "2023-08-17T05:49:30.645757",
     "status": "completed"
    },
    "tags": []
   },
   "outputs": [],
   "source": [
    "my_arr[0] = 9999"
   ]
  },
  {
   "cell_type": "code",
   "execution_count": 26,
   "id": "03bc31f3",
   "metadata": {
    "execution": {
     "iopub.execute_input": "2023-08-17T05:49:30.721262Z",
     "iopub.status.busy": "2023-08-17T05:49:30.720528Z",
     "iopub.status.idle": "2023-08-17T05:49:30.727181Z",
     "shell.execute_reply": "2023-08-17T05:49:30.725985Z"
    },
    "papermill": {
     "duration": 0.032386,
     "end_time": "2023-08-17T05:49:30.729649",
     "exception": false,
     "start_time": "2023-08-17T05:49:30.697263",
     "status": "completed"
    },
    "tags": []
   },
   "outputs": [
    {
     "data": {
      "text/plain": [
       "array([9999,    1,    2,    3,    4,    5,    6,    7,    8,    9])"
      ]
     },
     "execution_count": 26,
     "metadata": {},
     "output_type": "execute_result"
    }
   ],
   "source": [
    "my_arr"
   ]
  },
  {
   "cell_type": "code",
   "execution_count": 27,
   "id": "f16a543f",
   "metadata": {
    "execution": {
     "iopub.execute_input": "2023-08-17T05:49:30.773663Z",
     "iopub.status.busy": "2023-08-17T05:49:30.772927Z",
     "iopub.status.idle": "2023-08-17T05:49:30.778993Z",
     "shell.execute_reply": "2023-08-17T05:49:30.778195Z"
    },
    "papermill": {
     "duration": 0.030482,
     "end_time": "2023-08-17T05:49:30.781342",
     "exception": false,
     "start_time": "2023-08-17T05:49:30.750860",
     "status": "completed"
    },
    "tags": []
   },
   "outputs": [
    {
     "data": {
      "text/plain": [
       "tensor([9999,    1,    2,    3,    4,    5,    6,    7,    8,    9])"
      ]
     },
     "execution_count": 27,
     "metadata": {},
     "output_type": "execute_result"
    }
   ],
   "source": [
    "my_other_tensor"
   ]
  },
  {
   "cell_type": "code",
   "execution_count": 28,
   "id": "2f0e9400",
   "metadata": {
    "execution": {
     "iopub.execute_input": "2023-08-17T05:49:30.826039Z",
     "iopub.status.busy": "2023-08-17T05:49:30.825007Z",
     "iopub.status.idle": "2023-08-17T05:49:30.832582Z",
     "shell.execute_reply": "2023-08-17T05:49:30.831389Z"
    },
    "papermill": {
     "duration": 0.032607,
     "end_time": "2023-08-17T05:49:30.835004",
     "exception": false,
     "start_time": "2023-08-17T05:49:30.802397",
     "status": "completed"
    },
    "tags": []
   },
   "outputs": [
    {
     "data": {
      "text/plain": [
       "tensor([0, 1, 2, 3, 4, 5, 6, 7, 8, 9])"
      ]
     },
     "execution_count": 28,
     "metadata": {},
     "output_type": "execute_result"
    }
   ],
   "source": [
    "my_tensor"
   ]
  },
  {
   "cell_type": "code",
   "execution_count": 29,
   "id": "f7696e13",
   "metadata": {
    "execution": {
     "iopub.execute_input": "2023-08-17T05:49:30.880707Z",
     "iopub.status.busy": "2023-08-17T05:49:30.880244Z",
     "iopub.status.idle": "2023-08-17T05:49:30.885777Z",
     "shell.execute_reply": "2023-08-17T05:49:30.884777Z"
    },
    "papermill": {
     "duration": 0.031174,
     "end_time": "2023-08-17T05:49:30.887965",
     "exception": false,
     "start_time": "2023-08-17T05:49:30.856791",
     "status": "completed"
    },
    "tags": []
   },
   "outputs": [],
   "source": [
    "new_arr = np.array([1, 2, 3])"
   ]
  },
  {
   "cell_type": "code",
   "execution_count": 30,
   "id": "d5b73bbe",
   "metadata": {
    "execution": {
     "iopub.execute_input": "2023-08-17T05:49:30.931768Z",
     "iopub.status.busy": "2023-08-17T05:49:30.931177Z",
     "iopub.status.idle": "2023-08-17T05:49:30.938627Z",
     "shell.execute_reply": "2023-08-17T05:49:30.937575Z"
    },
    "papermill": {
     "duration": 0.031602,
     "end_time": "2023-08-17T05:49:30.940792",
     "exception": false,
     "start_time": "2023-08-17T05:49:30.909190",
     "status": "completed"
    },
    "tags": []
   },
   "outputs": [
    {
     "data": {
      "text/plain": [
       "dtype('int64')"
      ]
     },
     "execution_count": 30,
     "metadata": {},
     "output_type": "execute_result"
    }
   ],
   "source": [
    "new_arr.dtype"
   ]
  },
  {
   "cell_type": "code",
   "execution_count": 31,
   "id": "bcf44737",
   "metadata": {
    "execution": {
     "iopub.execute_input": "2023-08-17T05:49:30.986214Z",
     "iopub.status.busy": "2023-08-17T05:49:30.985806Z",
     "iopub.status.idle": "2023-08-17T05:49:30.993354Z",
     "shell.execute_reply": "2023-08-17T05:49:30.992272Z"
    },
    "papermill": {
     "duration": 0.033611,
     "end_time": "2023-08-17T05:49:30.995548",
     "exception": false,
     "start_time": "2023-08-17T05:49:30.961937",
     "status": "completed"
    },
    "tags": []
   },
   "outputs": [
    {
     "data": {
      "text/plain": [
       "tensor([1, 2, 3])"
      ]
     },
     "execution_count": 31,
     "metadata": {},
     "output_type": "execute_result"
    }
   ],
   "source": [
    "torch.tensor(new_arr)"
   ]
  },
  {
   "cell_type": "code",
   "execution_count": 32,
   "id": "ad109ee0",
   "metadata": {
    "execution": {
     "iopub.execute_input": "2023-08-17T05:49:31.040647Z",
     "iopub.status.busy": "2023-08-17T05:49:31.040196Z",
     "iopub.status.idle": "2023-08-17T05:49:31.045343Z",
     "shell.execute_reply": "2023-08-17T05:49:31.044302Z"
    },
    "papermill": {
     "duration": 0.030443,
     "end_time": "2023-08-17T05:49:31.047646",
     "exception": false,
     "start_time": "2023-08-17T05:49:31.017203",
     "status": "completed"
    },
    "tags": []
   },
   "outputs": [],
   "source": [
    "my_tensor = torch.Tensor(new_arr)"
   ]
  },
  {
   "cell_type": "code",
   "execution_count": 33,
   "id": "2e1b57ce",
   "metadata": {
    "execution": {
     "iopub.execute_input": "2023-08-17T05:49:31.092833Z",
     "iopub.status.busy": "2023-08-17T05:49:31.092407Z",
     "iopub.status.idle": "2023-08-17T05:49:31.099263Z",
     "shell.execute_reply": "2023-08-17T05:49:31.098121Z"
    },
    "papermill": {
     "duration": 0.032927,
     "end_time": "2023-08-17T05:49:31.101960",
     "exception": false,
     "start_time": "2023-08-17T05:49:31.069033",
     "status": "completed"
    },
    "tags": []
   },
   "outputs": [
    {
     "data": {
      "text/plain": [
       "torch.float32"
      ]
     },
     "execution_count": 33,
     "metadata": {},
     "output_type": "execute_result"
    }
   ],
   "source": [
    "my_tensor.dtype"
   ]
  },
  {
   "cell_type": "code",
   "execution_count": 34,
   "id": "a88362c7",
   "metadata": {
    "execution": {
     "iopub.execute_input": "2023-08-17T05:49:31.148291Z",
     "iopub.status.busy": "2023-08-17T05:49:31.147877Z",
     "iopub.status.idle": "2023-08-17T05:49:31.158997Z",
     "shell.execute_reply": "2023-08-17T05:49:31.157847Z"
    },
    "papermill": {
     "duration": 0.036828,
     "end_time": "2023-08-17T05:49:31.161270",
     "exception": false,
     "start_time": "2023-08-17T05:49:31.124442",
     "status": "completed"
    },
    "tags": []
   },
   "outputs": [
    {
     "data": {
      "text/plain": [
       "tensor([[-1.0598e-23,  4.4023e-41],\n",
       "        [-1.0598e-23,  4.4023e-41],\n",
       "        [ 0.0000e+00,  0.0000e+00],\n",
       "        [ 0.0000e+00,  0.0000e+00]])"
      ]
     },
     "execution_count": 34,
     "metadata": {},
     "output_type": "execute_result"
    }
   ],
   "source": [
    "torch.empty(4, 2)"
   ]
  },
  {
   "cell_type": "code",
   "execution_count": 35,
   "id": "110a3bd3",
   "metadata": {
    "execution": {
     "iopub.execute_input": "2023-08-17T05:49:31.207148Z",
     "iopub.status.busy": "2023-08-17T05:49:31.206117Z",
     "iopub.status.idle": "2023-08-17T05:49:31.216778Z",
     "shell.execute_reply": "2023-08-17T05:49:31.215765Z"
    },
    "papermill": {
     "duration": 0.035713,
     "end_time": "2023-08-17T05:49:31.218871",
     "exception": false,
     "start_time": "2023-08-17T05:49:31.183158",
     "status": "completed"
    },
    "tags": []
   },
   "outputs": [
    {
     "data": {
      "text/plain": [
       "tensor([[0, 0, 0],\n",
       "        [0, 0, 0],\n",
       "        [0, 0, 0],\n",
       "        [0, 0, 0]], dtype=torch.int32)"
      ]
     },
     "execution_count": 35,
     "metadata": {},
     "output_type": "execute_result"
    }
   ],
   "source": [
    "torch.zeros(4, 3, dtype=torch.int32)"
   ]
  },
  {
   "cell_type": "code",
   "execution_count": 36,
   "id": "36dcf83c",
   "metadata": {
    "execution": {
     "iopub.execute_input": "2023-08-17T05:49:31.263954Z",
     "iopub.status.busy": "2023-08-17T05:49:31.262994Z",
     "iopub.status.idle": "2023-08-17T05:49:31.271239Z",
     "shell.execute_reply": "2023-08-17T05:49:31.270179Z"
    },
    "papermill": {
     "duration": 0.033132,
     "end_time": "2023-08-17T05:49:31.273474",
     "exception": false,
     "start_time": "2023-08-17T05:49:31.240342",
     "status": "completed"
    },
    "tags": []
   },
   "outputs": [
    {
     "data": {
      "text/plain": [
       "tensor([[0, 0, 0],\n",
       "        [0, 0, 0],\n",
       "        [0, 0, 0],\n",
       "        [0, 0, 0]])"
      ]
     },
     "execution_count": 36,
     "metadata": {},
     "output_type": "execute_result"
    }
   ],
   "source": [
    "torch.zeros(4, 3, dtype=torch.int64)"
   ]
  },
  {
   "cell_type": "code",
   "execution_count": 37,
   "id": "a5e744cf",
   "metadata": {
    "execution": {
     "iopub.execute_input": "2023-08-17T05:49:31.318866Z",
     "iopub.status.busy": "2023-08-17T05:49:31.318446Z",
     "iopub.status.idle": "2023-08-17T05:49:31.326645Z",
     "shell.execute_reply": "2023-08-17T05:49:31.325595Z"
    },
    "papermill": {
     "duration": 0.034141,
     "end_time": "2023-08-17T05:49:31.329266",
     "exception": false,
     "start_time": "2023-08-17T05:49:31.295125",
     "status": "completed"
    },
    "tags": []
   },
   "outputs": [
    {
     "data": {
      "text/plain": [
       "tensor([[1., 1., 1.],\n",
       "        [1., 1., 1.],\n",
       "        [1., 1., 1.],\n",
       "        [1., 1., 1.]])"
      ]
     },
     "execution_count": 37,
     "metadata": {},
     "output_type": "execute_result"
    }
   ],
   "source": [
    "torch.ones(4, 3)"
   ]
  },
  {
   "cell_type": "code",
   "execution_count": 38,
   "id": "a28290dd",
   "metadata": {
    "execution": {
     "iopub.execute_input": "2023-08-17T05:49:31.376149Z",
     "iopub.status.busy": "2023-08-17T05:49:31.375280Z",
     "iopub.status.idle": "2023-08-17T05:49:31.387555Z",
     "shell.execute_reply": "2023-08-17T05:49:31.386339Z"
    },
    "papermill": {
     "duration": 0.03885,
     "end_time": "2023-08-17T05:49:31.390235",
     "exception": false,
     "start_time": "2023-08-17T05:49:31.351385",
     "status": "completed"
    },
    "tags": []
   },
   "outputs": [
    {
     "data": {
      "text/plain": [
       "tensor([ 0,  2,  4,  6,  8, 10, 12, 14, 16])"
      ]
     },
     "execution_count": 38,
     "metadata": {},
     "output_type": "execute_result"
    }
   ],
   "source": [
    "torch.arange(0, 18, 2)"
   ]
  },
  {
   "cell_type": "code",
   "execution_count": 39,
   "id": "58abd6d7",
   "metadata": {
    "execution": {
     "iopub.execute_input": "2023-08-17T05:49:31.436967Z",
     "iopub.status.busy": "2023-08-17T05:49:31.436595Z",
     "iopub.status.idle": "2023-08-17T05:49:31.444164Z",
     "shell.execute_reply": "2023-08-17T05:49:31.443119Z"
    },
    "papermill": {
     "duration": 0.033603,
     "end_time": "2023-08-17T05:49:31.446406",
     "exception": false,
     "start_time": "2023-08-17T05:49:31.412803",
     "status": "completed"
    },
    "tags": []
   },
   "outputs": [
    {
     "data": {
      "text/plain": [
       "tensor([[ 0,  2,  4],\n",
       "        [ 6,  8, 10],\n",
       "        [12, 14, 16]])"
      ]
     },
     "execution_count": 39,
     "metadata": {},
     "output_type": "execute_result"
    }
   ],
   "source": [
    "torch.arange(0, 18, 2).reshape(3, 3)"
   ]
  },
  {
   "cell_type": "code",
   "execution_count": 40,
   "id": "98d7b767",
   "metadata": {
    "execution": {
     "iopub.execute_input": "2023-08-17T05:49:31.494093Z",
     "iopub.status.busy": "2023-08-17T05:49:31.493722Z",
     "iopub.status.idle": "2023-08-17T05:49:31.503888Z",
     "shell.execute_reply": "2023-08-17T05:49:31.502904Z"
    },
    "papermill": {
     "duration": 0.036203,
     "end_time": "2023-08-17T05:49:31.506055",
     "exception": false,
     "start_time": "2023-08-17T05:49:31.469852",
     "status": "completed"
    },
    "tags": []
   },
   "outputs": [
    {
     "data": {
      "text/plain": [
       "tensor([ 0.0000,  1.6364,  3.2727,  4.9091,  6.5455,  8.1818,  9.8182, 11.4545,\n",
       "        13.0909, 14.7273, 16.3636, 18.0000])"
      ]
     },
     "execution_count": 40,
     "metadata": {},
     "output_type": "execute_result"
    }
   ],
   "source": [
    "torch.linspace(0, 18, 12)"
   ]
  },
  {
   "cell_type": "code",
   "execution_count": 41,
   "id": "f77f8bec",
   "metadata": {
    "execution": {
     "iopub.execute_input": "2023-08-17T05:49:31.552743Z",
     "iopub.status.busy": "2023-08-17T05:49:31.552347Z",
     "iopub.status.idle": "2023-08-17T05:49:31.559696Z",
     "shell.execute_reply": "2023-08-17T05:49:31.558794Z"
    },
    "papermill": {
     "duration": 0.034269,
     "end_time": "2023-08-17T05:49:31.562728",
     "exception": false,
     "start_time": "2023-08-17T05:49:31.528459",
     "status": "completed"
    },
    "tags": []
   },
   "outputs": [
    {
     "data": {
      "text/plain": [
       "tensor([[ 0.0000,  1.6364,  3.2727,  4.9091],\n",
       "        [ 6.5455,  8.1818,  9.8182, 11.4545],\n",
       "        [13.0909, 14.7273, 16.3636, 18.0000]])"
      ]
     },
     "execution_count": 41,
     "metadata": {},
     "output_type": "execute_result"
    }
   ],
   "source": [
    "torch.linspace(0, 18, 12).reshape(3, 4)"
   ]
  },
  {
   "cell_type": "code",
   "execution_count": 42,
   "id": "508cccf7",
   "metadata": {
    "execution": {
     "iopub.execute_input": "2023-08-17T05:49:31.611755Z",
     "iopub.status.busy": "2023-08-17T05:49:31.611094Z",
     "iopub.status.idle": "2023-08-17T05:49:31.618654Z",
     "shell.execute_reply": "2023-08-17T05:49:31.617541Z"
    },
    "papermill": {
     "duration": 0.034004,
     "end_time": "2023-08-17T05:49:31.620940",
     "exception": false,
     "start_time": "2023-08-17T05:49:31.586936",
     "status": "completed"
    },
    "tags": []
   },
   "outputs": [
    {
     "data": {
      "text/plain": [
       "tensor([1, 2, 3])"
      ]
     },
     "execution_count": 42,
     "metadata": {},
     "output_type": "execute_result"
    }
   ],
   "source": [
    "torch.tensor([1, 2, 3])"
   ]
  },
  {
   "cell_type": "code",
   "execution_count": 43,
   "id": "79c98be7",
   "metadata": {
    "execution": {
     "iopub.execute_input": "2023-08-17T05:49:31.667980Z",
     "iopub.status.busy": "2023-08-17T05:49:31.667559Z",
     "iopub.status.idle": "2023-08-17T05:49:31.672961Z",
     "shell.execute_reply": "2023-08-17T05:49:31.671921Z"
    },
    "papermill": {
     "duration": 0.03126,
     "end_time": "2023-08-17T05:49:31.674980",
     "exception": false,
     "start_time": "2023-08-17T05:49:31.643720",
     "status": "completed"
    },
    "tags": []
   },
   "outputs": [],
   "source": [
    "my_tensor = torch.tensor([1, 2, 3])"
   ]
  },
  {
   "cell_type": "code",
   "execution_count": 44,
   "id": "9f9357af",
   "metadata": {
    "execution": {
     "iopub.execute_input": "2023-08-17T05:49:31.723194Z",
     "iopub.status.busy": "2023-08-17T05:49:31.722785Z",
     "iopub.status.idle": "2023-08-17T05:49:31.728731Z",
     "shell.execute_reply": "2023-08-17T05:49:31.727957Z"
    },
    "papermill": {
     "duration": 0.032775,
     "end_time": "2023-08-17T05:49:31.730798",
     "exception": false,
     "start_time": "2023-08-17T05:49:31.698023",
     "status": "completed"
    },
    "tags": []
   },
   "outputs": [
    {
     "data": {
      "text/plain": [
       "torch.int64"
      ]
     },
     "execution_count": 44,
     "metadata": {},
     "output_type": "execute_result"
    }
   ],
   "source": [
    "my_tensor.dtype"
   ]
  },
  {
   "cell_type": "code",
   "execution_count": 45,
   "id": "dde42005",
   "metadata": {
    "execution": {
     "iopub.execute_input": "2023-08-17T05:49:31.779163Z",
     "iopub.status.busy": "2023-08-17T05:49:31.778742Z",
     "iopub.status.idle": "2023-08-17T05:49:31.785853Z",
     "shell.execute_reply": "2023-08-17T05:49:31.784785Z"
    },
    "papermill": {
     "duration": 0.03342,
     "end_time": "2023-08-17T05:49:31.788046",
     "exception": false,
     "start_time": "2023-08-17T05:49:31.754626",
     "status": "completed"
    },
    "tags": []
   },
   "outputs": [
    {
     "data": {
      "text/plain": [
       "'torch.LongTensor'"
      ]
     },
     "execution_count": 45,
     "metadata": {},
     "output_type": "execute_result"
    }
   ],
   "source": [
    "my_tensor.type()"
   ]
  },
  {
   "cell_type": "code",
   "execution_count": 46,
   "id": "0b251ecb",
   "metadata": {
    "execution": {
     "iopub.execute_input": "2023-08-17T05:49:31.836594Z",
     "iopub.status.busy": "2023-08-17T05:49:31.836153Z",
     "iopub.status.idle": "2023-08-17T05:49:31.843631Z",
     "shell.execute_reply": "2023-08-17T05:49:31.842573Z"
    },
    "papermill": {
     "duration": 0.034282,
     "end_time": "2023-08-17T05:49:31.845911",
     "exception": false,
     "start_time": "2023-08-17T05:49:31.811629",
     "status": "completed"
    },
    "tags": []
   },
   "outputs": [
    {
     "data": {
      "text/plain": [
       "tensor([1, 2, 3], dtype=torch.int32)"
      ]
     },
     "execution_count": 46,
     "metadata": {},
     "output_type": "execute_result"
    }
   ],
   "source": [
    "my_tensor.type(torch.int32)"
   ]
  },
  {
   "cell_type": "code",
   "execution_count": 47,
   "id": "f12e6a84",
   "metadata": {
    "execution": {
     "iopub.execute_input": "2023-08-17T05:49:31.894472Z",
     "iopub.status.busy": "2023-08-17T05:49:31.894071Z",
     "iopub.status.idle": "2023-08-17T05:49:31.898628Z",
     "shell.execute_reply": "2023-08-17T05:49:31.897755Z"
    },
    "papermill": {
     "duration": 0.031605,
     "end_time": "2023-08-17T05:49:31.900725",
     "exception": false,
     "start_time": "2023-08-17T05:49:31.869120",
     "status": "completed"
    },
    "tags": []
   },
   "outputs": [],
   "source": [
    "my_tensor = my_tensor.type(torch.int32)"
   ]
  },
  {
   "cell_type": "code",
   "execution_count": 48,
   "id": "74645256",
   "metadata": {
    "execution": {
     "iopub.execute_input": "2023-08-17T05:49:31.948659Z",
     "iopub.status.busy": "2023-08-17T05:49:31.948265Z",
     "iopub.status.idle": "2023-08-17T05:49:31.954372Z",
     "shell.execute_reply": "2023-08-17T05:49:31.953166Z"
    },
    "papermill": {
     "duration": 0.032919,
     "end_time": "2023-08-17T05:49:31.956729",
     "exception": false,
     "start_time": "2023-08-17T05:49:31.923810",
     "status": "completed"
    },
    "tags": []
   },
   "outputs": [
    {
     "data": {
      "text/plain": [
       "torch.int32"
      ]
     },
     "execution_count": 48,
     "metadata": {},
     "output_type": "execute_result"
    }
   ],
   "source": [
    "my_tensor.dtype"
   ]
  },
  {
   "cell_type": "code",
   "execution_count": 49,
   "id": "0ff72947",
   "metadata": {
    "execution": {
     "iopub.execute_input": "2023-08-17T05:49:32.005327Z",
     "iopub.status.busy": "2023-08-17T05:49:32.004929Z",
     "iopub.status.idle": "2023-08-17T05:49:32.015354Z",
     "shell.execute_reply": "2023-08-17T05:49:32.014295Z"
    },
    "papermill": {
     "duration": 0.037677,
     "end_time": "2023-08-17T05:49:32.017725",
     "exception": false,
     "start_time": "2023-08-17T05:49:31.980048",
     "status": "completed"
    },
    "tags": []
   },
   "outputs": [
    {
     "data": {
      "text/plain": [
       "tensor([[0.2313, 0.5829, 0.5382],\n",
       "        [0.8951, 0.9628, 0.7690],\n",
       "        [0.4121, 0.0560, 0.4776],\n",
       "        [0.4364, 0.3516, 0.9840]])"
      ]
     },
     "execution_count": 49,
     "metadata": {},
     "output_type": "execute_result"
    }
   ],
   "source": [
    "torch.rand(4, 3)"
   ]
  },
  {
   "cell_type": "code",
   "execution_count": 50,
   "id": "fac8d1af",
   "metadata": {
    "execution": {
     "iopub.execute_input": "2023-08-17T05:49:32.067560Z",
     "iopub.status.busy": "2023-08-17T05:49:32.067120Z",
     "iopub.status.idle": "2023-08-17T05:49:32.074715Z",
     "shell.execute_reply": "2023-08-17T05:49:32.073913Z"
    },
    "papermill": {
     "duration": 0.034634,
     "end_time": "2023-08-17T05:49:32.076810",
     "exception": false,
     "start_time": "2023-08-17T05:49:32.042176",
     "status": "completed"
    },
    "tags": []
   },
   "outputs": [
    {
     "data": {
      "text/plain": [
       "tensor([[ 1.4001, -0.4063,  0.2867],\n",
       "        [ 1.0935,  1.0354, -1.0496],\n",
       "        [ 1.6632, -0.4035, -1.2202],\n",
       "        [-1.2624,  0.1222, -0.4428]])"
      ]
     },
     "execution_count": 50,
     "metadata": {},
     "output_type": "execute_result"
    }
   ],
   "source": [
    "torch.randn(4, 3)"
   ]
  },
  {
   "cell_type": "code",
   "execution_count": 51,
   "id": "1737ca70",
   "metadata": {
    "execution": {
     "iopub.execute_input": "2023-08-17T05:49:32.126318Z",
     "iopub.status.busy": "2023-08-17T05:49:32.125532Z",
     "iopub.status.idle": "2023-08-17T05:49:32.133700Z",
     "shell.execute_reply": "2023-08-17T05:49:32.132735Z"
    },
    "papermill": {
     "duration": 0.035354,
     "end_time": "2023-08-17T05:49:32.135907",
     "exception": false,
     "start_time": "2023-08-17T05:49:32.100553",
     "status": "completed"
    },
    "tags": []
   },
   "outputs": [
    {
     "data": {
      "text/plain": [
       "tensor([[0, 0, 3, 3, 5],\n",
       "        [2, 1, 1, 1, 5],\n",
       "        [8, 7, 3, 2, 0],\n",
       "        [8, 4, 5, 2, 3],\n",
       "        [1, 1, 9, 9, 5]])"
      ]
     },
     "execution_count": 51,
     "metadata": {},
     "output_type": "execute_result"
    }
   ],
   "source": [
    "torch.randint(low=0, high=10, size=(5, 5))"
   ]
  },
  {
   "cell_type": "code",
   "execution_count": 52,
   "id": "b076e11c",
   "metadata": {
    "execution": {
     "iopub.execute_input": "2023-08-17T05:49:32.187346Z",
     "iopub.status.busy": "2023-08-17T05:49:32.185397Z",
     "iopub.status.idle": "2023-08-17T05:49:32.193482Z",
     "shell.execute_reply": "2023-08-17T05:49:32.192546Z"
    },
    "papermill": {
     "duration": 0.035479,
     "end_time": "2023-08-17T05:49:32.195644",
     "exception": false,
     "start_time": "2023-08-17T05:49:32.160165",
     "status": "completed"
    },
    "tags": []
   },
   "outputs": [
    {
     "data": {
      "text/plain": [
       "tensor([[ 2,  9, 10,  3,  4],\n",
       "        [ 5,  1,  6,  0,  8],\n",
       "        [ 1,  3,  4,  3,  1],\n",
       "        [ 7, 10,  7,  3,  8],\n",
       "        [ 2,  6,  8,  4,  0]])"
      ]
     },
     "execution_count": 52,
     "metadata": {},
     "output_type": "execute_result"
    }
   ],
   "source": [
    "torch.randint(low=0, high=11, size=(5, 5))"
   ]
  },
  {
   "cell_type": "code",
   "execution_count": 53,
   "id": "317340f3",
   "metadata": {
    "execution": {
     "iopub.execute_input": "2023-08-17T05:49:32.246599Z",
     "iopub.status.busy": "2023-08-17T05:49:32.245644Z",
     "iopub.status.idle": "2023-08-17T05:49:32.250454Z",
     "shell.execute_reply": "2023-08-17T05:49:32.249584Z"
    },
    "papermill": {
     "duration": 0.032744,
     "end_time": "2023-08-17T05:49:32.252627",
     "exception": false,
     "start_time": "2023-08-17T05:49:32.219883",
     "status": "completed"
    },
    "tags": []
   },
   "outputs": [],
   "source": [
    "x = torch.zeros(2, 5)"
   ]
  },
  {
   "cell_type": "code",
   "execution_count": 54,
   "id": "acb2557a",
   "metadata": {
    "execution": {
     "iopub.execute_input": "2023-08-17T05:49:32.303399Z",
     "iopub.status.busy": "2023-08-17T05:49:32.302673Z",
     "iopub.status.idle": "2023-08-17T05:49:32.309556Z",
     "shell.execute_reply": "2023-08-17T05:49:32.308373Z"
    },
    "papermill": {
     "duration": 0.035351,
     "end_time": "2023-08-17T05:49:32.311840",
     "exception": false,
     "start_time": "2023-08-17T05:49:32.276489",
     "status": "completed"
    },
    "tags": []
   },
   "outputs": [
    {
     "data": {
      "text/plain": [
       "tensor([[0., 0., 0., 0., 0.],\n",
       "        [0., 0., 0., 0., 0.]])"
      ]
     },
     "execution_count": 54,
     "metadata": {},
     "output_type": "execute_result"
    }
   ],
   "source": [
    "x"
   ]
  },
  {
   "cell_type": "code",
   "execution_count": 55,
   "id": "ac33e7b7",
   "metadata": {
    "execution": {
     "iopub.execute_input": "2023-08-17T05:49:32.361831Z",
     "iopub.status.busy": "2023-08-17T05:49:32.361394Z",
     "iopub.status.idle": "2023-08-17T05:49:32.368442Z",
     "shell.execute_reply": "2023-08-17T05:49:32.367355Z"
    },
    "papermill": {
     "duration": 0.034961,
     "end_time": "2023-08-17T05:49:32.370854",
     "exception": false,
     "start_time": "2023-08-17T05:49:32.335893",
     "status": "completed"
    },
    "tags": []
   },
   "outputs": [
    {
     "data": {
      "text/plain": [
       "torch.Size([2, 5])"
      ]
     },
     "execution_count": 55,
     "metadata": {},
     "output_type": "execute_result"
    }
   ],
   "source": [
    "x.shape"
   ]
  },
  {
   "cell_type": "code",
   "execution_count": 56,
   "id": "89a08f07",
   "metadata": {
    "execution": {
     "iopub.execute_input": "2023-08-17T05:49:32.422957Z",
     "iopub.status.busy": "2023-08-17T05:49:32.422566Z",
     "iopub.status.idle": "2023-08-17T05:49:32.430280Z",
     "shell.execute_reply": "2023-08-17T05:49:32.429187Z"
    },
    "papermill": {
     "duration": 0.036117,
     "end_time": "2023-08-17T05:49:32.432539",
     "exception": false,
     "start_time": "2023-08-17T05:49:32.396422",
     "status": "completed"
    },
    "tags": []
   },
   "outputs": [
    {
     "data": {
      "text/plain": [
       "tensor([[0.6765, 0.0238, 0.9648, 0.6464, 0.7494],\n",
       "        [0.5791, 0.9606, 0.4662, 0.2291, 0.6949]])"
      ]
     },
     "execution_count": 56,
     "metadata": {},
     "output_type": "execute_result"
    }
   ],
   "source": [
    "torch.rand_like(x)"
   ]
  },
  {
   "cell_type": "code",
   "execution_count": 57,
   "id": "4c32b540",
   "metadata": {
    "execution": {
     "iopub.execute_input": "2023-08-17T05:49:32.482697Z",
     "iopub.status.busy": "2023-08-17T05:49:32.482264Z",
     "iopub.status.idle": "2023-08-17T05:49:32.491984Z",
     "shell.execute_reply": "2023-08-17T05:49:32.490958Z"
    },
    "papermill": {
     "duration": 0.037078,
     "end_time": "2023-08-17T05:49:32.494069",
     "exception": false,
     "start_time": "2023-08-17T05:49:32.456991",
     "status": "completed"
    },
    "tags": []
   },
   "outputs": [
    {
     "data": {
      "text/plain": [
       "tensor([[-0.5313, -0.8526, -1.5309, -0.1469,  0.7011],\n",
       "        [-1.7196, -0.1697,  0.7322, -0.1635, -1.8718]])"
      ]
     },
     "execution_count": 57,
     "metadata": {},
     "output_type": "execute_result"
    }
   ],
   "source": [
    "torch.randn_like(x)"
   ]
  },
  {
   "cell_type": "code",
   "execution_count": 58,
   "id": "86cd9b12",
   "metadata": {
    "execution": {
     "iopub.execute_input": "2023-08-17T05:49:32.546525Z",
     "iopub.status.busy": "2023-08-17T05:49:32.546053Z",
     "iopub.status.idle": "2023-08-17T05:49:32.554590Z",
     "shell.execute_reply": "2023-08-17T05:49:32.553488Z"
    },
    "papermill": {
     "duration": 0.037936,
     "end_time": "2023-08-17T05:49:32.556737",
     "exception": false,
     "start_time": "2023-08-17T05:49:32.518801",
     "status": "completed"
    },
    "tags": []
   },
   "outputs": [
    {
     "data": {
      "text/plain": [
       "tensor([[10.,  7.,  7.,  5.,  0.],\n",
       "        [ 6.,  9.,  7.,  1.,  4.]])"
      ]
     },
     "execution_count": 58,
     "metadata": {},
     "output_type": "execute_result"
    }
   ],
   "source": [
    "torch.randint_like(x, low=0, high=11)"
   ]
  },
  {
   "cell_type": "code",
   "execution_count": 59,
   "id": "12538a37",
   "metadata": {
    "execution": {
     "iopub.execute_input": "2023-08-17T05:49:32.611149Z",
     "iopub.status.busy": "2023-08-17T05:49:32.610752Z",
     "iopub.status.idle": "2023-08-17T05:49:32.622066Z",
     "shell.execute_reply": "2023-08-17T05:49:32.621240Z"
    },
    "papermill": {
     "duration": 0.039721,
     "end_time": "2023-08-17T05:49:32.624136",
     "exception": false,
     "start_time": "2023-08-17T05:49:32.584415",
     "status": "completed"
    },
    "tags": []
   },
   "outputs": [
    {
     "data": {
      "text/plain": [
       "tensor([[0.8823, 0.9150, 0.3829],\n",
       "        [0.9593, 0.3904, 0.6009]])"
      ]
     },
     "execution_count": 59,
     "metadata": {},
     "output_type": "execute_result"
    }
   ],
   "source": [
    "torch.manual_seed(42)\n",
    "torch.rand(2, 3)"
   ]
  },
  {
   "cell_type": "code",
   "execution_count": 60,
   "id": "6cccda06",
   "metadata": {
    "execution": {
     "iopub.execute_input": "2023-08-17T05:49:32.676289Z",
     "iopub.status.busy": "2023-08-17T05:49:32.675871Z",
     "iopub.status.idle": "2023-08-17T05:49:32.684056Z",
     "shell.execute_reply": "2023-08-17T05:49:32.683017Z"
    },
    "papermill": {
     "duration": 0.036816,
     "end_time": "2023-08-17T05:49:32.686482",
     "exception": false,
     "start_time": "2023-08-17T05:49:32.649666",
     "status": "completed"
    },
    "tags": []
   },
   "outputs": [
    {
     "data": {
      "text/plain": [
       "tensor([[0.2566, 0.7936, 0.9408],\n",
       "        [0.1332, 0.9346, 0.5936]])"
      ]
     },
     "execution_count": 60,
     "metadata": {},
     "output_type": "execute_result"
    }
   ],
   "source": [
    "torch.rand(2, 3)"
   ]
  },
  {
   "cell_type": "code",
   "execution_count": 61,
   "id": "7636f29e",
   "metadata": {
    "execution": {
     "iopub.execute_input": "2023-08-17T05:49:32.739341Z",
     "iopub.status.busy": "2023-08-17T05:49:32.738938Z",
     "iopub.status.idle": "2023-08-17T05:49:32.746620Z",
     "shell.execute_reply": "2023-08-17T05:49:32.745657Z"
    },
    "papermill": {
     "duration": 0.036781,
     "end_time": "2023-08-17T05:49:32.749271",
     "exception": false,
     "start_time": "2023-08-17T05:49:32.712490",
     "status": "completed"
    },
    "tags": []
   },
   "outputs": [
    {
     "data": {
      "text/plain": [
       "tensor([[0.8694, 0.5677, 0.7411],\n",
       "        [0.4294, 0.8854, 0.5739]])"
      ]
     },
     "execution_count": 61,
     "metadata": {},
     "output_type": "execute_result"
    }
   ],
   "source": [
    "torch.rand(2, 3)"
   ]
  }
 ],
 "metadata": {
  "kernelspec": {
   "display_name": "Python 3",
   "language": "python",
   "name": "python3"
  },
  "language_info": {
   "codemirror_mode": {
    "name": "ipython",
    "version": 3
   },
   "file_extension": ".py",
   "mimetype": "text/x-python",
   "name": "python",
   "nbconvert_exporter": "python",
   "pygments_lexer": "ipython3",
   "version": "3.10.12"
  },
  "papermill": {
   "default_parameters": {},
   "duration": 20.35233,
   "end_time": "2023-08-17T05:49:34.199238",
   "environment_variables": {},
   "exception": null,
   "input_path": "__notebook__.ipynb",
   "output_path": "__notebook__.ipynb",
   "parameters": {},
   "start_time": "2023-08-17T05:49:13.846908",
   "version": "2.4.0"
  }
 },
 "nbformat": 4,
 "nbformat_minor": 5
}
