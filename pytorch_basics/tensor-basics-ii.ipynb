{
 "cells": [
  {
   "cell_type": "code",
   "execution_count": 1,
   "id": "6c51cb18",
   "metadata": {
    "_cell_guid": "b1076dfc-b9ad-4769-8c92-a6c4dae69d19",
    "_uuid": "8f2839f25d086af736a60e9eeb907d3b93b6e0e5",
    "execution": {
     "iopub.execute_input": "2023-08-17T05:23:29.647411Z",
     "iopub.status.busy": "2023-08-17T05:23:29.646960Z",
     "iopub.status.idle": "2023-08-17T05:23:29.661299Z",
     "shell.execute_reply": "2023-08-17T05:23:29.659704Z"
    },
    "papermill": {
     "duration": 0.021398,
     "end_time": "2023-08-17T05:23:29.664252",
     "exception": false,
     "start_time": "2023-08-17T05:23:29.642854",
     "status": "completed"
    },
    "tags": []
   },
   "outputs": [],
   "source": [
    "import numpy as np # linear algebra"
   ]
  },
  {
   "cell_type": "code",
   "execution_count": null,
   "id": "03b422e9",
   "metadata": {
    "papermill": {
     "duration": 0.001755,
     "end_time": "2023-08-17T05:23:29.668406",
     "exception": false,
     "start_time": "2023-08-17T05:23:29.666651",
     "status": "completed"
    },
    "tags": []
   },
   "outputs": [],
   "source": []
  }
 ],
 "metadata": {
  "kernelspec": {
   "display_name": "Python 3",
   "language": "python",
   "name": "python3"
  },
  "language_info": {
   "codemirror_mode": {
    "name": "ipython",
    "version": 3
   },
   "file_extension": ".py",
   "mimetype": "text/x-python",
   "name": "python",
   "nbconvert_exporter": "python",
   "pygments_lexer": "ipython3",
   "version": "3.10.12"
  },
  "papermill": {
   "default_parameters": {},
   "duration": 13.850368,
   "end_time": "2023-08-17T05:23:30.595481",
   "environment_variables": {},
   "exception": null,
   "input_path": "__notebook__.ipynb",
   "output_path": "__notebook__.ipynb",
   "parameters": {},
   "start_time": "2023-08-17T05:23:16.745113",
   "version": "2.4.0"
  }
 },
 "nbformat": 4,
 "nbformat_minor": 5
}
