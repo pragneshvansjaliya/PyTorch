{
 "cells": [
  {
   "cell_type": "code",
   "execution_count": 1,
   "id": "649e8d10",
   "metadata": {
    "_cell_guid": "b1076dfc-b9ad-4769-8c92-a6c4dae69d19",
    "_uuid": "8f2839f25d086af736a60e9eeb907d3b93b6e0e5",
    "execution": {
     "iopub.execute_input": "2023-08-17T05:22:03.286159Z",
     "iopub.status.busy": "2023-08-17T05:22:03.285778Z",
     "iopub.status.idle": "2023-08-17T05:22:03.295836Z",
     "shell.execute_reply": "2023-08-17T05:22:03.294278Z"
    },
    "papermill": {
     "duration": 0.02078,
     "end_time": "2023-08-17T05:22:03.298301",
     "exception": false,
     "start_time": "2023-08-17T05:22:03.277521",
     "status": "completed"
    },
    "tags": []
   },
   "outputs": [],
   "source": [
    "import numpy as np # linear algebra"
   ]
  },
  {
   "cell_type": "code",
   "execution_count": 2,
   "id": "0a5fb26c",
   "metadata": {
    "execution": {
     "iopub.execute_input": "2023-08-17T05:22:03.312889Z",
     "iopub.status.busy": "2023-08-17T05:22:03.312527Z",
     "iopub.status.idle": "2023-08-17T05:22:07.026730Z",
     "shell.execute_reply": "2023-08-17T05:22:07.025615Z"
    },
    "papermill": {
     "duration": 3.724223,
     "end_time": "2023-08-17T05:22:07.029187",
     "exception": false,
     "start_time": "2023-08-17T05:22:03.304964",
     "status": "completed"
    },
    "tags": []
   },
   "outputs": [],
   "source": [
    "import torch"
   ]
  },
  {
   "cell_type": "code",
   "execution_count": 3,
   "id": "43002b21",
   "metadata": {
    "execution": {
     "iopub.execute_input": "2023-08-17T05:22:07.044057Z",
     "iopub.status.busy": "2023-08-17T05:22:07.043451Z",
     "iopub.status.idle": "2023-08-17T05:22:07.052259Z",
     "shell.execute_reply": "2023-08-17T05:22:07.050854Z"
    },
    "papermill": {
     "duration": 0.019018,
     "end_time": "2023-08-17T05:22:07.054835",
     "exception": false,
     "start_time": "2023-08-17T05:22:07.035817",
     "status": "completed"
    },
    "tags": []
   },
   "outputs": [
    {
     "data": {
      "text/plain": [
       "'2.0.0+cpu'"
      ]
     },
     "execution_count": 3,
     "metadata": {},
     "output_type": "execute_result"
    }
   ],
   "source": [
    "torch.__version__"
   ]
  },
  {
   "cell_type": "code",
   "execution_count": 4,
   "id": "20211a41",
   "metadata": {
    "execution": {
     "iopub.execute_input": "2023-08-17T05:22:07.069758Z",
     "iopub.status.busy": "2023-08-17T05:22:07.069130Z",
     "iopub.status.idle": "2023-08-17T05:22:07.075235Z",
     "shell.execute_reply": "2023-08-17T05:22:07.073838Z"
    },
    "papermill": {
     "duration": 0.016117,
     "end_time": "2023-08-17T05:22:07.077592",
     "exception": false,
     "start_time": "2023-08-17T05:22:07.061475",
     "status": "completed"
    },
    "tags": []
   },
   "outputs": [],
   "source": [
    "arr = np.array([1, 2, 3, 4, 5])"
   ]
  },
  {
   "cell_type": "code",
   "execution_count": 5,
   "id": "ff9c2a7e",
   "metadata": {
    "execution": {
     "iopub.execute_input": "2023-08-17T05:22:07.092925Z",
     "iopub.status.busy": "2023-08-17T05:22:07.092470Z",
     "iopub.status.idle": "2023-08-17T05:22:07.100985Z",
     "shell.execute_reply": "2023-08-17T05:22:07.099382Z"
    },
    "papermill": {
     "duration": 0.019284,
     "end_time": "2023-08-17T05:22:07.103355",
     "exception": false,
     "start_time": "2023-08-17T05:22:07.084071",
     "status": "completed"
    },
    "tags": []
   },
   "outputs": [
    {
     "name": "stdout",
     "output_type": "stream",
     "text": [
      "[1 2 3 4 5]\n"
     ]
    }
   ],
   "source": [
    "print(arr)"
   ]
  },
  {
   "cell_type": "code",
   "execution_count": 6,
   "id": "4e6917c2",
   "metadata": {
    "execution": {
     "iopub.execute_input": "2023-08-17T05:22:07.119212Z",
     "iopub.status.busy": "2023-08-17T05:22:07.118878Z",
     "iopub.status.idle": "2023-08-17T05:22:07.125986Z",
     "shell.execute_reply": "2023-08-17T05:22:07.124926Z"
    },
    "papermill": {
     "duration": 0.016294,
     "end_time": "2023-08-17T05:22:07.127691",
     "exception": false,
     "start_time": "2023-08-17T05:22:07.111397",
     "status": "completed"
    },
    "tags": []
   },
   "outputs": [
    {
     "data": {
      "text/plain": [
       "dtype('int64')"
      ]
     },
     "execution_count": 6,
     "metadata": {},
     "output_type": "execute_result"
    }
   ],
   "source": [
    "arr.dtype"
   ]
  },
  {
   "cell_type": "code",
   "execution_count": 7,
   "id": "81f8c7e5",
   "metadata": {
    "execution": {
     "iopub.execute_input": "2023-08-17T05:22:07.142484Z",
     "iopub.status.busy": "2023-08-17T05:22:07.142079Z",
     "iopub.status.idle": "2023-08-17T05:22:07.147656Z",
     "shell.execute_reply": "2023-08-17T05:22:07.146479Z"
    },
    "papermill": {
     "duration": 0.015553,
     "end_time": "2023-08-17T05:22:07.149652",
     "exception": false,
     "start_time": "2023-08-17T05:22:07.134099",
     "status": "completed"
    },
    "tags": []
   },
   "outputs": [
    {
     "data": {
      "text/plain": [
       "numpy.ndarray"
      ]
     },
     "execution_count": 7,
     "metadata": {},
     "output_type": "execute_result"
    }
   ],
   "source": [
    "type(arr)"
   ]
  },
  {
   "cell_type": "code",
   "execution_count": 8,
   "id": "937d1068",
   "metadata": {
    "execution": {
     "iopub.execute_input": "2023-08-17T05:22:07.164372Z",
     "iopub.status.busy": "2023-08-17T05:22:07.163997Z",
     "iopub.status.idle": "2023-08-17T05:22:07.177373Z",
     "shell.execute_reply": "2023-08-17T05:22:07.176363Z"
    },
    "papermill": {
     "duration": 0.022825,
     "end_time": "2023-08-17T05:22:07.179200",
     "exception": false,
     "start_time": "2023-08-17T05:22:07.156375",
     "status": "completed"
    },
    "tags": []
   },
   "outputs": [],
   "source": [
    "x = torch.from_numpy(arr)"
   ]
  },
  {
   "cell_type": "code",
   "execution_count": 9,
   "id": "fa3d04e9",
   "metadata": {
    "execution": {
     "iopub.execute_input": "2023-08-17T05:22:07.193670Z",
     "iopub.status.busy": "2023-08-17T05:22:07.193290Z",
     "iopub.status.idle": "2023-08-17T05:22:07.200064Z",
     "shell.execute_reply": "2023-08-17T05:22:07.198985Z"
    },
    "papermill": {
     "duration": 0.016844,
     "end_time": "2023-08-17T05:22:07.202728",
     "exception": false,
     "start_time": "2023-08-17T05:22:07.185884",
     "status": "completed"
    },
    "tags": []
   },
   "outputs": [
    {
     "data": {
      "text/plain": [
       "torch.Tensor"
      ]
     },
     "execution_count": 9,
     "metadata": {},
     "output_type": "execute_result"
    }
   ],
   "source": [
    "type(x)"
   ]
  },
  {
   "cell_type": "code",
   "execution_count": 10,
   "id": "f45d037b",
   "metadata": {
    "execution": {
     "iopub.execute_input": "2023-08-17T05:22:07.217831Z",
     "iopub.status.busy": "2023-08-17T05:22:07.217457Z",
     "iopub.status.idle": "2023-08-17T05:22:07.251881Z",
     "shell.execute_reply": "2023-08-17T05:22:07.250854Z"
    },
    "papermill": {
     "duration": 0.044692,
     "end_time": "2023-08-17T05:22:07.254318",
     "exception": false,
     "start_time": "2023-08-17T05:22:07.209626",
     "status": "completed"
    },
    "tags": []
   },
   "outputs": [
    {
     "data": {
      "text/plain": [
       "tensor([1, 2, 3, 4, 5])"
      ]
     },
     "execution_count": 10,
     "metadata": {},
     "output_type": "execute_result"
    }
   ],
   "source": [
    "torch.as_tensor(arr)"
   ]
  },
  {
   "cell_type": "code",
   "execution_count": 11,
   "id": "684be22a",
   "metadata": {
    "execution": {
     "iopub.execute_input": "2023-08-17T05:22:07.270677Z",
     "iopub.status.busy": "2023-08-17T05:22:07.269661Z",
     "iopub.status.idle": "2023-08-17T05:22:07.275966Z",
     "shell.execute_reply": "2023-08-17T05:22:07.275297Z"
    },
    "papermill": {
     "duration": 0.016176,
     "end_time": "2023-08-17T05:22:07.277633",
     "exception": false,
     "start_time": "2023-08-17T05:22:07.261457",
     "status": "completed"
    },
    "tags": []
   },
   "outputs": [
    {
     "data": {
      "text/plain": [
       "tensor([1, 2, 3, 4, 5])"
      ]
     },
     "execution_count": 11,
     "metadata": {},
     "output_type": "execute_result"
    }
   ],
   "source": [
    "x"
   ]
  },
  {
   "cell_type": "code",
   "execution_count": 12,
   "id": "5241f5bb",
   "metadata": {
    "execution": {
     "iopub.execute_input": "2023-08-17T05:22:07.292822Z",
     "iopub.status.busy": "2023-08-17T05:22:07.292422Z",
     "iopub.status.idle": "2023-08-17T05:22:07.298763Z",
     "shell.execute_reply": "2023-08-17T05:22:07.297086Z"
    },
    "papermill": {
     "duration": 0.01639,
     "end_time": "2023-08-17T05:22:07.301040",
     "exception": false,
     "start_time": "2023-08-17T05:22:07.284650",
     "status": "completed"
    },
    "tags": []
   },
   "outputs": [
    {
     "data": {
      "text/plain": [
       "torch.int64"
      ]
     },
     "execution_count": 12,
     "metadata": {},
     "output_type": "execute_result"
    }
   ],
   "source": [
    "x.dtype"
   ]
  },
  {
   "cell_type": "code",
   "execution_count": 13,
   "id": "cef947d9",
   "metadata": {
    "execution": {
     "iopub.execute_input": "2023-08-17T05:22:07.317780Z",
     "iopub.status.busy": "2023-08-17T05:22:07.317151Z",
     "iopub.status.idle": "2023-08-17T05:22:07.322445Z",
     "shell.execute_reply": "2023-08-17T05:22:07.320531Z"
    },
    "papermill": {
     "duration": 0.016745,
     "end_time": "2023-08-17T05:22:07.325105",
     "exception": false,
     "start_time": "2023-08-17T05:22:07.308360",
     "status": "completed"
    },
    "tags": []
   },
   "outputs": [],
   "source": [
    "arr2d = np.arange(0.0, 12.0)"
   ]
  },
  {
   "cell_type": "code",
   "execution_count": 14,
   "id": "1d3d37f0",
   "metadata": {
    "execution": {
     "iopub.execute_input": "2023-08-17T05:22:07.341819Z",
     "iopub.status.busy": "2023-08-17T05:22:07.340968Z",
     "iopub.status.idle": "2023-08-17T05:22:07.349819Z",
     "shell.execute_reply": "2023-08-17T05:22:07.348180Z"
    },
    "papermill": {
     "duration": 0.019754,
     "end_time": "2023-08-17T05:22:07.352310",
     "exception": false,
     "start_time": "2023-08-17T05:22:07.332556",
     "status": "completed"
    },
    "tags": []
   },
   "outputs": [
    {
     "data": {
      "text/plain": [
       "array([ 0.,  1.,  2.,  3.,  4.,  5.,  6.,  7.,  8.,  9., 10., 11.])"
      ]
     },
     "execution_count": 14,
     "metadata": {},
     "output_type": "execute_result"
    }
   ],
   "source": [
    "arr2d"
   ]
  },
  {
   "cell_type": "code",
   "execution_count": 15,
   "id": "d0c04402",
   "metadata": {
    "execution": {
     "iopub.execute_input": "2023-08-17T05:22:07.368991Z",
     "iopub.status.busy": "2023-08-17T05:22:07.368246Z",
     "iopub.status.idle": "2023-08-17T05:22:07.375657Z",
     "shell.execute_reply": "2023-08-17T05:22:07.374161Z"
    },
    "papermill": {
     "duration": 0.01856,
     "end_time": "2023-08-17T05:22:07.378366",
     "exception": false,
     "start_time": "2023-08-17T05:22:07.359806",
     "status": "completed"
    },
    "tags": []
   },
   "outputs": [
    {
     "data": {
      "text/plain": [
       "array([[ 0.,  1.,  2.],\n",
       "       [ 3.,  4.,  5.],\n",
       "       [ 6.,  7.,  8.],\n",
       "       [ 9., 10., 11.]])"
      ]
     },
     "execution_count": 15,
     "metadata": {},
     "output_type": "execute_result"
    }
   ],
   "source": [
    "arr2d = arr2d.reshape(4, 3)\n",
    "arr2d"
   ]
  },
  {
   "cell_type": "code",
   "execution_count": 16,
   "id": "a00afc06",
   "metadata": {
    "execution": {
     "iopub.execute_input": "2023-08-17T05:22:07.394380Z",
     "iopub.status.busy": "2023-08-17T05:22:07.394049Z",
     "iopub.status.idle": "2023-08-17T05:22:07.455453Z",
     "shell.execute_reply": "2023-08-17T05:22:07.454307Z"
    },
    "papermill": {
     "duration": 0.072222,
     "end_time": "2023-08-17T05:22:07.457873",
     "exception": false,
     "start_time": "2023-08-17T05:22:07.385651",
     "status": "completed"
    },
    "tags": []
   },
   "outputs": [
    {
     "data": {
      "text/plain": [
       "tensor([[ 0.,  1.,  2.],\n",
       "        [ 3.,  4.,  5.],\n",
       "        [ 6.,  7.,  8.],\n",
       "        [ 9., 10., 11.]], dtype=torch.float64)"
      ]
     },
     "execution_count": 16,
     "metadata": {},
     "output_type": "execute_result"
    }
   ],
   "source": [
    "x2 = torch.from_numpy(arr2d)\n",
    "x2"
   ]
  },
  {
   "cell_type": "code",
   "execution_count": 17,
   "id": "6a2b590a",
   "metadata": {
    "execution": {
     "iopub.execute_input": "2023-08-17T05:22:07.475095Z",
     "iopub.status.busy": "2023-08-17T05:22:07.473900Z",
     "iopub.status.idle": "2023-08-17T05:22:07.479323Z",
     "shell.execute_reply": "2023-08-17T05:22:07.478698Z"
    },
    "papermill": {
     "duration": 0.015891,
     "end_time": "2023-08-17T05:22:07.481175",
     "exception": false,
     "start_time": "2023-08-17T05:22:07.465284",
     "status": "completed"
    },
    "tags": []
   },
   "outputs": [
    {
     "data": {
      "text/plain": [
       "array([1, 2, 3, 4, 5])"
      ]
     },
     "execution_count": 17,
     "metadata": {},
     "output_type": "execute_result"
    }
   ],
   "source": [
    "arr"
   ]
  },
  {
   "cell_type": "code",
   "execution_count": 18,
   "id": "e4840760",
   "metadata": {
    "execution": {
     "iopub.execute_input": "2023-08-17T05:22:07.498316Z",
     "iopub.status.busy": "2023-08-17T05:22:07.497726Z",
     "iopub.status.idle": "2023-08-17T05:22:07.505547Z",
     "shell.execute_reply": "2023-08-17T05:22:07.504047Z"
    },
    "papermill": {
     "duration": 0.018706,
     "end_time": "2023-08-17T05:22:07.507622",
     "exception": false,
     "start_time": "2023-08-17T05:22:07.488916",
     "status": "completed"
    },
    "tags": []
   },
   "outputs": [
    {
     "data": {
      "text/plain": [
       "tensor([1, 2, 3, 4, 5])"
      ]
     },
     "execution_count": 18,
     "metadata": {},
     "output_type": "execute_result"
    }
   ],
   "source": [
    "x"
   ]
  },
  {
   "cell_type": "code",
   "execution_count": 19,
   "id": "e087cd4e",
   "metadata": {
    "execution": {
     "iopub.execute_input": "2023-08-17T05:22:07.524504Z",
     "iopub.status.busy": "2023-08-17T05:22:07.524047Z",
     "iopub.status.idle": "2023-08-17T05:22:07.528904Z",
     "shell.execute_reply": "2023-08-17T05:22:07.527916Z"
    },
    "papermill": {
     "duration": 0.016323,
     "end_time": "2023-08-17T05:22:07.531392",
     "exception": false,
     "start_time": "2023-08-17T05:22:07.515069",
     "status": "completed"
    },
    "tags": []
   },
   "outputs": [],
   "source": [
    "arr[0] = 99"
   ]
  },
  {
   "cell_type": "code",
   "execution_count": 20,
   "id": "0251098e",
   "metadata": {
    "execution": {
     "iopub.execute_input": "2023-08-17T05:22:07.548779Z",
     "iopub.status.busy": "2023-08-17T05:22:07.548130Z",
     "iopub.status.idle": "2023-08-17T05:22:07.553880Z",
     "shell.execute_reply": "2023-08-17T05:22:07.552740Z"
    },
    "papermill": {
     "duration": 0.016674,
     "end_time": "2023-08-17T05:22:07.555836",
     "exception": false,
     "start_time": "2023-08-17T05:22:07.539162",
     "status": "completed"
    },
    "tags": []
   },
   "outputs": [
    {
     "data": {
      "text/plain": [
       "array([99,  2,  3,  4,  5])"
      ]
     },
     "execution_count": 20,
     "metadata": {},
     "output_type": "execute_result"
    }
   ],
   "source": [
    "arr"
   ]
  },
  {
   "cell_type": "code",
   "execution_count": 21,
   "id": "b0494c72",
   "metadata": {
    "execution": {
     "iopub.execute_input": "2023-08-17T05:22:07.573264Z",
     "iopub.status.busy": "2023-08-17T05:22:07.572659Z",
     "iopub.status.idle": "2023-08-17T05:22:07.578394Z",
     "shell.execute_reply": "2023-08-17T05:22:07.577184Z"
    },
    "papermill": {
     "duration": 0.017044,
     "end_time": "2023-08-17T05:22:07.580746",
     "exception": false,
     "start_time": "2023-08-17T05:22:07.563702",
     "status": "completed"
    },
    "tags": []
   },
   "outputs": [
    {
     "data": {
      "text/plain": [
       "tensor([99,  2,  3,  4,  5])"
      ]
     },
     "execution_count": 21,
     "metadata": {},
     "output_type": "execute_result"
    }
   ],
   "source": [
    "x"
   ]
  },
  {
   "cell_type": "code",
   "execution_count": 22,
   "id": "20b65b84",
   "metadata": {
    "execution": {
     "iopub.execute_input": "2023-08-17T05:22:07.598092Z",
     "iopub.status.busy": "2023-08-17T05:22:07.597492Z",
     "iopub.status.idle": "2023-08-17T05:22:07.602609Z",
     "shell.execute_reply": "2023-08-17T05:22:07.601959Z"
    },
    "papermill": {
     "duration": 0.015884,
     "end_time": "2023-08-17T05:22:07.604370",
     "exception": false,
     "start_time": "2023-08-17T05:22:07.588486",
     "status": "completed"
    },
    "tags": []
   },
   "outputs": [
    {
     "data": {
      "text/plain": [
       "array([0, 1, 2, 3, 4, 5, 6, 7, 8, 9])"
      ]
     },
     "execution_count": 22,
     "metadata": {},
     "output_type": "execute_result"
    }
   ],
   "source": [
    "my_arr = np.arange(0, 10)\n",
    "my_arr"
   ]
  },
  {
   "cell_type": "code",
   "execution_count": 23,
   "id": "8ebb4ca4",
   "metadata": {
    "execution": {
     "iopub.execute_input": "2023-08-17T05:22:07.622651Z",
     "iopub.status.busy": "2023-08-17T05:22:07.622047Z",
     "iopub.status.idle": "2023-08-17T05:22:07.628592Z",
     "shell.execute_reply": "2023-08-17T05:22:07.627856Z"
    },
    "papermill": {
     "duration": 0.018022,
     "end_time": "2023-08-17T05:22:07.630528",
     "exception": false,
     "start_time": "2023-08-17T05:22:07.612506",
     "status": "completed"
    },
    "tags": []
   },
   "outputs": [],
   "source": [
    "my_tensor = torch.tensor(my_arr)"
   ]
  },
  {
   "cell_type": "code",
   "execution_count": 24,
   "id": "44fbd958",
   "metadata": {
    "execution": {
     "iopub.execute_input": "2023-08-17T05:22:07.648317Z",
     "iopub.status.busy": "2023-08-17T05:22:07.647721Z",
     "iopub.status.idle": "2023-08-17T05:22:07.651319Z",
     "shell.execute_reply": "2023-08-17T05:22:07.650723Z"
    },
    "papermill": {
     "duration": 0.01495,
     "end_time": "2023-08-17T05:22:07.653430",
     "exception": false,
     "start_time": "2023-08-17T05:22:07.638480",
     "status": "completed"
    },
    "tags": []
   },
   "outputs": [],
   "source": [
    "my_other_tensor = torch.from_numpy(my_arr)"
   ]
  },
  {
   "cell_type": "code",
   "execution_count": 25,
   "id": "417b6f28",
   "metadata": {
    "execution": {
     "iopub.execute_input": "2023-08-17T05:22:07.672239Z",
     "iopub.status.busy": "2023-08-17T05:22:07.671665Z",
     "iopub.status.idle": "2023-08-17T05:22:07.676922Z",
     "shell.execute_reply": "2023-08-17T05:22:07.676306Z"
    },
    "papermill": {
     "duration": 0.017168,
     "end_time": "2023-08-17T05:22:07.678706",
     "exception": false,
     "start_time": "2023-08-17T05:22:07.661538",
     "status": "completed"
    },
    "tags": []
   },
   "outputs": [
    {
     "data": {
      "text/plain": [
       "tensor([0, 1, 2, 3, 4, 5, 6, 7, 8, 9])"
      ]
     },
     "execution_count": 25,
     "metadata": {},
     "output_type": "execute_result"
    }
   ],
   "source": [
    "my_tensor"
   ]
  },
  {
   "cell_type": "code",
   "execution_count": 26,
   "id": "b7964133",
   "metadata": {
    "execution": {
     "iopub.execute_input": "2023-08-17T05:22:07.696332Z",
     "iopub.status.busy": "2023-08-17T05:22:07.695743Z",
     "iopub.status.idle": "2023-08-17T05:22:07.701380Z",
     "shell.execute_reply": "2023-08-17T05:22:07.700480Z"
    },
    "papermill": {
     "duration": 0.017056,
     "end_time": "2023-08-17T05:22:07.703604",
     "exception": false,
     "start_time": "2023-08-17T05:22:07.686548",
     "status": "completed"
    },
    "tags": []
   },
   "outputs": [
    {
     "data": {
      "text/plain": [
       "tensor([0, 1, 2, 3, 4, 5, 6, 7, 8, 9])"
      ]
     },
     "execution_count": 26,
     "metadata": {},
     "output_type": "execute_result"
    }
   ],
   "source": [
    "my_other_tensor"
   ]
  },
  {
   "cell_type": "code",
   "execution_count": 27,
   "id": "9f2c42d9",
   "metadata": {
    "execution": {
     "iopub.execute_input": "2023-08-17T05:22:07.722497Z",
     "iopub.status.busy": "2023-08-17T05:22:07.721363Z",
     "iopub.status.idle": "2023-08-17T05:22:07.727089Z",
     "shell.execute_reply": "2023-08-17T05:22:07.726006Z"
    },
    "papermill": {
     "duration": 0.017354,
     "end_time": "2023-08-17T05:22:07.729077",
     "exception": false,
     "start_time": "2023-08-17T05:22:07.711723",
     "status": "completed"
    },
    "tags": []
   },
   "outputs": [],
   "source": [
    "my_arr[0] = 9999"
   ]
  },
  {
   "cell_type": "code",
   "execution_count": 28,
   "id": "e67e5b4b",
   "metadata": {
    "execution": {
     "iopub.execute_input": "2023-08-17T05:22:07.749425Z",
     "iopub.status.busy": "2023-08-17T05:22:07.747180Z",
     "iopub.status.idle": "2023-08-17T05:22:07.755618Z",
     "shell.execute_reply": "2023-08-17T05:22:07.754089Z"
    },
    "papermill": {
     "duration": 0.020419,
     "end_time": "2023-08-17T05:22:07.758163",
     "exception": false,
     "start_time": "2023-08-17T05:22:07.737744",
     "status": "completed"
    },
    "tags": []
   },
   "outputs": [
    {
     "data": {
      "text/plain": [
       "array([9999,    1,    2,    3,    4,    5,    6,    7,    8,    9])"
      ]
     },
     "execution_count": 28,
     "metadata": {},
     "output_type": "execute_result"
    }
   ],
   "source": [
    "my_arr"
   ]
  },
  {
   "cell_type": "code",
   "execution_count": 29,
   "id": "e3a3b47c",
   "metadata": {
    "execution": {
     "iopub.execute_input": "2023-08-17T05:22:07.776329Z",
     "iopub.status.busy": "2023-08-17T05:22:07.775951Z",
     "iopub.status.idle": "2023-08-17T05:22:07.781788Z",
     "shell.execute_reply": "2023-08-17T05:22:07.781114Z"
    },
    "papermill": {
     "duration": 0.017007,
     "end_time": "2023-08-17T05:22:07.783411",
     "exception": false,
     "start_time": "2023-08-17T05:22:07.766404",
     "status": "completed"
    },
    "tags": []
   },
   "outputs": [
    {
     "data": {
      "text/plain": [
       "tensor([9999,    1,    2,    3,    4,    5,    6,    7,    8,    9])"
      ]
     },
     "execution_count": 29,
     "metadata": {},
     "output_type": "execute_result"
    }
   ],
   "source": [
    "my_other_tensor"
   ]
  },
  {
   "cell_type": "code",
   "execution_count": 30,
   "id": "5d4f3a9f",
   "metadata": {
    "execution": {
     "iopub.execute_input": "2023-08-17T05:22:07.801352Z",
     "iopub.status.busy": "2023-08-17T05:22:07.800813Z",
     "iopub.status.idle": "2023-08-17T05:22:07.806871Z",
     "shell.execute_reply": "2023-08-17T05:22:07.805827Z"
    },
    "papermill": {
     "duration": 0.017274,
     "end_time": "2023-08-17T05:22:07.808786",
     "exception": false,
     "start_time": "2023-08-17T05:22:07.791512",
     "status": "completed"
    },
    "tags": []
   },
   "outputs": [
    {
     "data": {
      "text/plain": [
       "tensor([0, 1, 2, 3, 4, 5, 6, 7, 8, 9])"
      ]
     },
     "execution_count": 30,
     "metadata": {},
     "output_type": "execute_result"
    }
   ],
   "source": [
    "my_tensor"
   ]
  }
 ],
 "metadata": {
  "kernelspec": {
   "display_name": "Python 3",
   "language": "python",
   "name": "python3"
  },
  "language_info": {
   "codemirror_mode": {
    "name": "ipython",
    "version": 3
   },
   "file_extension": ".py",
   "mimetype": "text/x-python",
   "name": "python",
   "nbconvert_exporter": "python",
   "pygments_lexer": "ipython3",
   "version": "3.10.12"
  },
  "papermill": {
   "default_parameters": {},
   "duration": 14.320668,
   "end_time": "2023-08-17T05:22:09.039296",
   "environment_variables": {},
   "exception": null,
   "input_path": "__notebook__.ipynb",
   "output_path": "__notebook__.ipynb",
   "parameters": {},
   "start_time": "2023-08-17T05:21:54.718628",
   "version": "2.4.0"
  }
 },
 "nbformat": 4,
 "nbformat_minor": 5
}
