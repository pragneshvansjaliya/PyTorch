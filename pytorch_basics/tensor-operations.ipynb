{
 "cells": [
  {
   "cell_type": "code",
   "execution_count": 1,
   "id": "c128f93f",
   "metadata": {
    "_cell_guid": "b1076dfc-b9ad-4769-8c92-a6c4dae69d19",
    "_uuid": "8f2839f25d086af736a60e9eeb907d3b93b6e0e5",
    "execution": {
     "iopub.execute_input": "2023-08-17T06:01:15.606436Z",
     "iopub.status.busy": "2023-08-17T06:01:15.605889Z",
     "iopub.status.idle": "2023-08-17T06:01:19.578247Z",
     "shell.execute_reply": "2023-08-17T06:01:19.576806Z"
    },
    "papermill": {
     "duration": 3.985491,
     "end_time": "2023-08-17T06:01:19.581085",
     "exception": false,
     "start_time": "2023-08-17T06:01:15.595594",
     "status": "completed"
    },
    "tags": []
   },
   "outputs": [],
   "source": [
    "import numpy as np # linear algebra\n",
    "import torch"
   ]
  },
  {
   "cell_type": "code",
   "execution_count": 2,
   "id": "e6833cdd",
   "metadata": {
    "execution": {
     "iopub.execute_input": "2023-08-17T06:01:19.599852Z",
     "iopub.status.busy": "2023-08-17T06:01:19.599253Z",
     "iopub.status.idle": "2023-08-17T06:01:19.643080Z",
     "shell.execute_reply": "2023-08-17T06:01:19.641706Z"
    },
    "papermill": {
     "duration": 0.055946,
     "end_time": "2023-08-17T06:01:19.645608",
     "exception": false,
     "start_time": "2023-08-17T06:01:19.589662",
     "status": "completed"
    },
    "tags": []
   },
   "outputs": [],
   "source": [
    "x = torch.arange(6).reshape(3, 2)"
   ]
  },
  {
   "cell_type": "code",
   "execution_count": 3,
   "id": "a1e3622e",
   "metadata": {
    "execution": {
     "iopub.execute_input": "2023-08-17T06:01:19.665223Z",
     "iopub.status.busy": "2023-08-17T06:01:19.664870Z",
     "iopub.status.idle": "2023-08-17T06:01:19.702999Z",
     "shell.execute_reply": "2023-08-17T06:01:19.701642Z"
    },
    "papermill": {
     "duration": 0.052292,
     "end_time": "2023-08-17T06:01:19.706191",
     "exception": false,
     "start_time": "2023-08-17T06:01:19.653899",
     "status": "completed"
    },
    "tags": []
   },
   "outputs": [
    {
     "data": {
      "text/plain": [
       "tensor([[0, 1],\n",
       "        [2, 3],\n",
       "        [4, 5]])"
      ]
     },
     "execution_count": 3,
     "metadata": {},
     "output_type": "execute_result"
    }
   ],
   "source": [
    "x"
   ]
  },
  {
   "cell_type": "code",
   "execution_count": 4,
   "id": "68074c76",
   "metadata": {
    "execution": {
     "iopub.execute_input": "2023-08-17T06:01:19.725288Z",
     "iopub.status.busy": "2023-08-17T06:01:19.724886Z",
     "iopub.status.idle": "2023-08-17T06:01:19.733448Z",
     "shell.execute_reply": "2023-08-17T06:01:19.732442Z"
    },
    "papermill": {
     "duration": 0.02064,
     "end_time": "2023-08-17T06:01:19.735583",
     "exception": false,
     "start_time": "2023-08-17T06:01:19.714943",
     "status": "completed"
    },
    "tags": []
   },
   "outputs": [
    {
     "data": {
      "text/plain": [
       "tensor(3)"
      ]
     },
     "execution_count": 4,
     "metadata": {},
     "output_type": "execute_result"
    }
   ],
   "source": [
    "x[1, 1]"
   ]
  },
  {
   "cell_type": "code",
   "execution_count": 5,
   "id": "6fab0eb3",
   "metadata": {
    "execution": {
     "iopub.execute_input": "2023-08-17T06:01:19.754469Z",
     "iopub.status.busy": "2023-08-17T06:01:19.754116Z",
     "iopub.status.idle": "2023-08-17T06:01:19.760876Z",
     "shell.execute_reply": "2023-08-17T06:01:19.759356Z"
    },
    "papermill": {
     "duration": 0.018872,
     "end_time": "2023-08-17T06:01:19.763222",
     "exception": false,
     "start_time": "2023-08-17T06:01:19.744350",
     "status": "completed"
    },
    "tags": []
   },
   "outputs": [
    {
     "data": {
      "text/plain": [
       "torch.Tensor"
      ]
     },
     "execution_count": 5,
     "metadata": {},
     "output_type": "execute_result"
    }
   ],
   "source": [
    "type(x[1, 1])"
   ]
  },
  {
   "cell_type": "code",
   "execution_count": 6,
   "id": "8e472ecf",
   "metadata": {
    "execution": {
     "iopub.execute_input": "2023-08-17T06:01:19.781803Z",
     "iopub.status.busy": "2023-08-17T06:01:19.781359Z",
     "iopub.status.idle": "2023-08-17T06:01:19.796410Z",
     "shell.execute_reply": "2023-08-17T06:01:19.795158Z"
    },
    "papermill": {
     "duration": 0.026989,
     "end_time": "2023-08-17T06:01:19.798621",
     "exception": false,
     "start_time": "2023-08-17T06:01:19.771632",
     "status": "completed"
    },
    "tags": []
   },
   "outputs": [
    {
     "data": {
      "text/plain": [
       "tensor([1, 3, 5])"
      ]
     },
     "execution_count": 6,
     "metadata": {},
     "output_type": "execute_result"
    }
   ],
   "source": [
    "x[:, 1]"
   ]
  },
  {
   "cell_type": "code",
   "execution_count": 7,
   "id": "205b2d80",
   "metadata": {
    "execution": {
     "iopub.execute_input": "2023-08-17T06:01:19.819416Z",
     "iopub.status.busy": "2023-08-17T06:01:19.818944Z",
     "iopub.status.idle": "2023-08-17T06:01:19.827714Z",
     "shell.execute_reply": "2023-08-17T06:01:19.826340Z"
    },
    "papermill": {
     "duration": 0.02213,
     "end_time": "2023-08-17T06:01:19.830644",
     "exception": false,
     "start_time": "2023-08-17T06:01:19.808514",
     "status": "completed"
    },
    "tags": []
   },
   "outputs": [
    {
     "data": {
      "text/plain": [
       "tensor([[1],\n",
       "        [3],\n",
       "        [5]])"
      ]
     },
     "execution_count": 7,
     "metadata": {},
     "output_type": "execute_result"
    }
   ],
   "source": [
    "x[:, 1:]"
   ]
  },
  {
   "cell_type": "code",
   "execution_count": 8,
   "id": "52efa2b6",
   "metadata": {
    "execution": {
     "iopub.execute_input": "2023-08-17T06:01:19.850651Z",
     "iopub.status.busy": "2023-08-17T06:01:19.850297Z",
     "iopub.status.idle": "2023-08-17T06:01:19.855821Z",
     "shell.execute_reply": "2023-08-17T06:01:19.854342Z"
    },
    "papermill": {
     "duration": 0.018203,
     "end_time": "2023-08-17T06:01:19.858003",
     "exception": false,
     "start_time": "2023-08-17T06:01:19.839800",
     "status": "completed"
    },
    "tags": []
   },
   "outputs": [],
   "source": [
    "x = torch.arange(10)"
   ]
  },
  {
   "cell_type": "code",
   "execution_count": 9,
   "id": "062b1298",
   "metadata": {
    "execution": {
     "iopub.execute_input": "2023-08-17T06:01:19.877451Z",
     "iopub.status.busy": "2023-08-17T06:01:19.877040Z",
     "iopub.status.idle": "2023-08-17T06:01:19.886161Z",
     "shell.execute_reply": "2023-08-17T06:01:19.884923Z"
    },
    "papermill": {
     "duration": 0.021041,
     "end_time": "2023-08-17T06:01:19.887947",
     "exception": false,
     "start_time": "2023-08-17T06:01:19.866906",
     "status": "completed"
    },
    "tags": []
   },
   "outputs": [
    {
     "data": {
      "text/plain": [
       "tensor([0, 1, 2, 3, 4, 5, 6, 7, 8, 9])"
      ]
     },
     "execution_count": 9,
     "metadata": {},
     "output_type": "execute_result"
    }
   ],
   "source": [
    "x"
   ]
  },
  {
   "cell_type": "code",
   "execution_count": 10,
   "id": "0fb5d338",
   "metadata": {
    "execution": {
     "iopub.execute_input": "2023-08-17T06:01:19.907286Z",
     "iopub.status.busy": "2023-08-17T06:01:19.906843Z",
     "iopub.status.idle": "2023-08-17T06:01:19.914988Z",
     "shell.execute_reply": "2023-08-17T06:01:19.913549Z"
    },
    "papermill": {
     "duration": 0.020204,
     "end_time": "2023-08-17T06:01:19.916972",
     "exception": false,
     "start_time": "2023-08-17T06:01:19.896768",
     "status": "completed"
    },
    "tags": []
   },
   "outputs": [
    {
     "data": {
      "text/plain": [
       "tensor([[0, 1, 2, 3, 4],\n",
       "        [5, 6, 7, 8, 9]])"
      ]
     },
     "execution_count": 10,
     "metadata": {},
     "output_type": "execute_result"
    }
   ],
   "source": [
    "x.view(2,5)"
   ]
  },
  {
   "cell_type": "code",
   "execution_count": 11,
   "id": "28e6e36a",
   "metadata": {
    "execution": {
     "iopub.execute_input": "2023-08-17T06:01:19.937256Z",
     "iopub.status.busy": "2023-08-17T06:01:19.935888Z",
     "iopub.status.idle": "2023-08-17T06:01:19.944053Z",
     "shell.execute_reply": "2023-08-17T06:01:19.943178Z"
    },
    "papermill": {
     "duration": 0.019969,
     "end_time": "2023-08-17T06:01:19.945662",
     "exception": false,
     "start_time": "2023-08-17T06:01:19.925693",
     "status": "completed"
    },
    "tags": []
   },
   "outputs": [
    {
     "data": {
      "text/plain": [
       "tensor([0, 1, 2, 3, 4, 5, 6, 7, 8, 9])"
      ]
     },
     "execution_count": 11,
     "metadata": {},
     "output_type": "execute_result"
    }
   ],
   "source": [
    "x"
   ]
  },
  {
   "cell_type": "code",
   "execution_count": 12,
   "id": "aaef3ee8",
   "metadata": {
    "execution": {
     "iopub.execute_input": "2023-08-17T06:01:19.965147Z",
     "iopub.status.busy": "2023-08-17T06:01:19.964728Z",
     "iopub.status.idle": "2023-08-17T06:01:19.971835Z",
     "shell.execute_reply": "2023-08-17T06:01:19.971125Z"
    },
    "papermill": {
     "duration": 0.019119,
     "end_time": "2023-08-17T06:01:19.973709",
     "exception": false,
     "start_time": "2023-08-17T06:01:19.954590",
     "status": "completed"
    },
    "tags": []
   },
   "outputs": [
    {
     "data": {
      "text/plain": [
       "tensor([[0, 1, 2, 3, 4],\n",
       "        [5, 6, 7, 8, 9]])"
      ]
     },
     "execution_count": 12,
     "metadata": {},
     "output_type": "execute_result"
    }
   ],
   "source": [
    "x.reshape(2, 5)"
   ]
  },
  {
   "cell_type": "code",
   "execution_count": 13,
   "id": "21c33219",
   "metadata": {
    "execution": {
     "iopub.execute_input": "2023-08-17T06:01:19.994442Z",
     "iopub.status.busy": "2023-08-17T06:01:19.994088Z",
     "iopub.status.idle": "2023-08-17T06:01:20.001596Z",
     "shell.execute_reply": "2023-08-17T06:01:20.000287Z"
    },
    "papermill": {
     "duration": 0.021175,
     "end_time": "2023-08-17T06:01:20.004189",
     "exception": false,
     "start_time": "2023-08-17T06:01:19.983014",
     "status": "completed"
    },
    "tags": []
   },
   "outputs": [
    {
     "data": {
      "text/plain": [
       "tensor([0, 1, 2, 3, 4, 5, 6, 7, 8, 9])"
      ]
     },
     "execution_count": 13,
     "metadata": {},
     "output_type": "execute_result"
    }
   ],
   "source": [
    "x"
   ]
  },
  {
   "cell_type": "code",
   "execution_count": 14,
   "id": "bd2987ac",
   "metadata": {
    "execution": {
     "iopub.execute_input": "2023-08-17T06:01:20.024411Z",
     "iopub.status.busy": "2023-08-17T06:01:20.023964Z",
     "iopub.status.idle": "2023-08-17T06:01:20.028390Z",
     "shell.execute_reply": "2023-08-17T06:01:20.027548Z"
    },
    "papermill": {
     "duration": 0.016975,
     "end_time": "2023-08-17T06:01:20.030479",
     "exception": false,
     "start_time": "2023-08-17T06:01:20.013504",
     "status": "completed"
    },
    "tags": []
   },
   "outputs": [],
   "source": [
    "x = x.reshape(2, 5)"
   ]
  },
  {
   "cell_type": "code",
   "execution_count": 15,
   "id": "1126eac5",
   "metadata": {
    "execution": {
     "iopub.execute_input": "2023-08-17T06:01:20.050680Z",
     "iopub.status.busy": "2023-08-17T06:01:20.050316Z",
     "iopub.status.idle": "2023-08-17T06:01:20.058905Z",
     "shell.execute_reply": "2023-08-17T06:01:20.057609Z"
    },
    "papermill": {
     "duration": 0.021913,
     "end_time": "2023-08-17T06:01:20.061754",
     "exception": false,
     "start_time": "2023-08-17T06:01:20.039841",
     "status": "completed"
    },
    "tags": []
   },
   "outputs": [
    {
     "data": {
      "text/plain": [
       "tensor([[0, 1, 2, 3, 4],\n",
       "        [5, 6, 7, 8, 9]])"
      ]
     },
     "execution_count": 15,
     "metadata": {},
     "output_type": "execute_result"
    }
   ],
   "source": [
    "x"
   ]
  },
  {
   "cell_type": "code",
   "execution_count": 16,
   "id": "9d38a16e",
   "metadata": {
    "execution": {
     "iopub.execute_input": "2023-08-17T06:01:20.082608Z",
     "iopub.status.busy": "2023-08-17T06:01:20.082269Z",
     "iopub.status.idle": "2023-08-17T06:01:20.087368Z",
     "shell.execute_reply": "2023-08-17T06:01:20.086099Z"
    },
    "papermill": {
     "duration": 0.018099,
     "end_time": "2023-08-17T06:01:20.089507",
     "exception": false,
     "start_time": "2023-08-17T06:01:20.071408",
     "status": "completed"
    },
    "tags": []
   },
   "outputs": [],
   "source": [
    "x = torch.arange(10)"
   ]
  },
  {
   "cell_type": "code",
   "execution_count": 17,
   "id": "68ba430a",
   "metadata": {
    "execution": {
     "iopub.execute_input": "2023-08-17T06:01:20.109701Z",
     "iopub.status.busy": "2023-08-17T06:01:20.109353Z",
     "iopub.status.idle": "2023-08-17T06:01:20.117122Z",
     "shell.execute_reply": "2023-08-17T06:01:20.115733Z"
    },
    "papermill": {
     "duration": 0.020902,
     "end_time": "2023-08-17T06:01:20.119727",
     "exception": false,
     "start_time": "2023-08-17T06:01:20.098825",
     "status": "completed"
    },
    "tags": []
   },
   "outputs": [
    {
     "data": {
      "text/plain": [
       "tensor([0, 1, 2, 3, 4, 5, 6, 7, 8, 9])"
      ]
     },
     "execution_count": 17,
     "metadata": {},
     "output_type": "execute_result"
    }
   ],
   "source": [
    "x"
   ]
  },
  {
   "cell_type": "code",
   "execution_count": 18,
   "id": "9b9a9cf1",
   "metadata": {
    "execution": {
     "iopub.execute_input": "2023-08-17T06:01:20.142186Z",
     "iopub.status.busy": "2023-08-17T06:01:20.141816Z",
     "iopub.status.idle": "2023-08-17T06:01:20.147925Z",
     "shell.execute_reply": "2023-08-17T06:01:20.147087Z"
    },
    "papermill": {
     "duration": 0.021259,
     "end_time": "2023-08-17T06:01:20.150459",
     "exception": false,
     "start_time": "2023-08-17T06:01:20.129200",
     "status": "completed"
    },
    "tags": []
   },
   "outputs": [
    {
     "data": {
      "text/plain": [
       "torch.Size([10])"
      ]
     },
     "execution_count": 18,
     "metadata": {},
     "output_type": "execute_result"
    }
   ],
   "source": [
    "x.shape"
   ]
  },
  {
   "cell_type": "code",
   "execution_count": 19,
   "id": "4fbd48f2",
   "metadata": {
    "execution": {
     "iopub.execute_input": "2023-08-17T06:01:20.171722Z",
     "iopub.status.busy": "2023-08-17T06:01:20.171382Z",
     "iopub.status.idle": "2023-08-17T06:01:20.179737Z",
     "shell.execute_reply": "2023-08-17T06:01:20.178206Z"
    },
    "papermill": {
     "duration": 0.021367,
     "end_time": "2023-08-17T06:01:20.181745",
     "exception": false,
     "start_time": "2023-08-17T06:01:20.160378",
     "status": "completed"
    },
    "tags": []
   },
   "outputs": [
    {
     "data": {
      "text/plain": [
       "tensor([[0, 1, 2, 3, 4],\n",
       "        [5, 6, 7, 8, 9]])"
      ]
     },
     "execution_count": 19,
     "metadata": {},
     "output_type": "execute_result"
    }
   ],
   "source": [
    "x.view(2, 5)"
   ]
  },
  {
   "cell_type": "code",
   "execution_count": 20,
   "id": "75fceaa0",
   "metadata": {
    "execution": {
     "iopub.execute_input": "2023-08-17T06:01:20.201952Z",
     "iopub.status.busy": "2023-08-17T06:01:20.201616Z",
     "iopub.status.idle": "2023-08-17T06:01:20.207359Z",
     "shell.execute_reply": "2023-08-17T06:01:20.205667Z"
    },
    "papermill": {
     "duration": 0.018683,
     "end_time": "2023-08-17T06:01:20.209832",
     "exception": false,
     "start_time": "2023-08-17T06:01:20.191149",
     "status": "completed"
    },
    "tags": []
   },
   "outputs": [],
   "source": [
    "z = x.view(2, 5)"
   ]
  },
  {
   "cell_type": "code",
   "execution_count": 21,
   "id": "055a60de",
   "metadata": {
    "execution": {
     "iopub.execute_input": "2023-08-17T06:01:20.231337Z",
     "iopub.status.busy": "2023-08-17T06:01:20.230949Z",
     "iopub.status.idle": "2023-08-17T06:01:20.237695Z",
     "shell.execute_reply": "2023-08-17T06:01:20.236930Z"
    },
    "papermill": {
     "duration": 0.01993,
     "end_time": "2023-08-17T06:01:20.239483",
     "exception": false,
     "start_time": "2023-08-17T06:01:20.219553",
     "status": "completed"
    },
    "tags": []
   },
   "outputs": [
    {
     "data": {
      "text/plain": [
       "tensor([[0, 1, 2, 3, 4],\n",
       "        [5, 6, 7, 8, 9]])"
      ]
     },
     "execution_count": 21,
     "metadata": {},
     "output_type": "execute_result"
    }
   ],
   "source": [
    "z"
   ]
  },
  {
   "cell_type": "code",
   "execution_count": 22,
   "id": "134ce752",
   "metadata": {
    "execution": {
     "iopub.execute_input": "2023-08-17T06:01:20.260556Z",
     "iopub.status.busy": "2023-08-17T06:01:20.260218Z",
     "iopub.status.idle": "2023-08-17T06:01:20.269226Z",
     "shell.execute_reply": "2023-08-17T06:01:20.268411Z"
    },
    "papermill": {
     "duration": 0.021983,
     "end_time": "2023-08-17T06:01:20.271324",
     "exception": false,
     "start_time": "2023-08-17T06:01:20.249341",
     "status": "completed"
    },
    "tags": []
   },
   "outputs": [],
   "source": [
    "x[0] = 9999"
   ]
  },
  {
   "cell_type": "code",
   "execution_count": 23,
   "id": "e19ff2e5",
   "metadata": {
    "execution": {
     "iopub.execute_input": "2023-08-17T06:01:20.294908Z",
     "iopub.status.busy": "2023-08-17T06:01:20.293028Z",
     "iopub.status.idle": "2023-08-17T06:01:20.300621Z",
     "shell.execute_reply": "2023-08-17T06:01:20.299462Z"
    },
    "papermill": {
     "duration": 0.021902,
     "end_time": "2023-08-17T06:01:20.303560",
     "exception": false,
     "start_time": "2023-08-17T06:01:20.281658",
     "status": "completed"
    },
    "tags": []
   },
   "outputs": [
    {
     "data": {
      "text/plain": [
       "tensor([9999,    1,    2,    3,    4,    5,    6,    7,    8,    9])"
      ]
     },
     "execution_count": 23,
     "metadata": {},
     "output_type": "execute_result"
    }
   ],
   "source": [
    "x"
   ]
  },
  {
   "cell_type": "code",
   "execution_count": 24,
   "id": "68f94d3f",
   "metadata": {
    "execution": {
     "iopub.execute_input": "2023-08-17T06:01:20.325675Z",
     "iopub.status.busy": "2023-08-17T06:01:20.325342Z",
     "iopub.status.idle": "2023-08-17T06:01:20.332612Z",
     "shell.execute_reply": "2023-08-17T06:01:20.331873Z"
    },
    "papermill": {
     "duration": 0.020887,
     "end_time": "2023-08-17T06:01:20.334331",
     "exception": false,
     "start_time": "2023-08-17T06:01:20.313444",
     "status": "completed"
    },
    "tags": []
   },
   "outputs": [
    {
     "data": {
      "text/plain": [
       "tensor([[9999,    1,    2,    3,    4],\n",
       "        [   5,    6,    7,    8,    9]])"
      ]
     },
     "execution_count": 24,
     "metadata": {},
     "output_type": "execute_result"
    }
   ],
   "source": [
    "z"
   ]
  },
  {
   "cell_type": "code",
   "execution_count": 25,
   "id": "23e42554",
   "metadata": {
    "execution": {
     "iopub.execute_input": "2023-08-17T06:01:20.355436Z",
     "iopub.status.busy": "2023-08-17T06:01:20.354917Z",
     "iopub.status.idle": "2023-08-17T06:01:20.358922Z",
     "shell.execute_reply": "2023-08-17T06:01:20.358305Z"
    },
    "papermill": {
     "duration": 0.016398,
     "end_time": "2023-08-17T06:01:20.360572",
     "exception": false,
     "start_time": "2023-08-17T06:01:20.344174",
     "status": "completed"
    },
    "tags": []
   },
   "outputs": [],
   "source": [
    "x = torch.arange(10)"
   ]
  },
  {
   "cell_type": "code",
   "execution_count": 26,
   "id": "62d17e65",
   "metadata": {
    "execution": {
     "iopub.execute_input": "2023-08-17T06:01:20.381637Z",
     "iopub.status.busy": "2023-08-17T06:01:20.381123Z",
     "iopub.status.idle": "2023-08-17T06:01:20.387587Z",
     "shell.execute_reply": "2023-08-17T06:01:20.386579Z"
    },
    "papermill": {
     "duration": 0.019815,
     "end_time": "2023-08-17T06:01:20.389966",
     "exception": false,
     "start_time": "2023-08-17T06:01:20.370151",
     "status": "completed"
    },
    "tags": []
   },
   "outputs": [
    {
     "data": {
      "text/plain": [
       "tensor([0, 1, 2, 3, 4, 5, 6, 7, 8, 9])"
      ]
     },
     "execution_count": 26,
     "metadata": {},
     "output_type": "execute_result"
    }
   ],
   "source": [
    "x"
   ]
  },
  {
   "cell_type": "code",
   "execution_count": 27,
   "id": "a7c5cfc1",
   "metadata": {
    "execution": {
     "iopub.execute_input": "2023-08-17T06:01:20.412250Z",
     "iopub.status.busy": "2023-08-17T06:01:20.411872Z",
     "iopub.status.idle": "2023-08-17T06:01:20.417804Z",
     "shell.execute_reply": "2023-08-17T06:01:20.416921Z"
    },
    "papermill": {
     "duration": 0.019558,
     "end_time": "2023-08-17T06:01:20.419999",
     "exception": false,
     "start_time": "2023-08-17T06:01:20.400441",
     "status": "completed"
    },
    "tags": []
   },
   "outputs": [
    {
     "data": {
      "text/plain": [
       "torch.Size([10])"
      ]
     },
     "execution_count": 27,
     "metadata": {},
     "output_type": "execute_result"
    }
   ],
   "source": [
    "x.shape"
   ]
  },
  {
   "cell_type": "code",
   "execution_count": 28,
   "id": "88dd8633",
   "metadata": {
    "execution": {
     "iopub.execute_input": "2023-08-17T06:01:20.442559Z",
     "iopub.status.busy": "2023-08-17T06:01:20.442224Z",
     "iopub.status.idle": "2023-08-17T06:01:20.450759Z",
     "shell.execute_reply": "2023-08-17T06:01:20.449345Z"
    },
    "papermill": {
     "duration": 0.022777,
     "end_time": "2023-08-17T06:01:20.453239",
     "exception": false,
     "start_time": "2023-08-17T06:01:20.430462",
     "status": "completed"
    },
    "tags": []
   },
   "outputs": [
    {
     "data": {
      "text/plain": [
       "tensor([[0, 1, 2, 3, 4],\n",
       "        [5, 6, 7, 8, 9]])"
      ]
     },
     "execution_count": 28,
     "metadata": {},
     "output_type": "execute_result"
    }
   ],
   "source": [
    "# Infer what the 2nd dimension\n",
    "x.view(2, -1)"
   ]
  },
  {
   "cell_type": "code",
   "execution_count": 29,
   "id": "2b856108",
   "metadata": {
    "execution": {
     "iopub.execute_input": "2023-08-17T06:01:20.475568Z",
     "iopub.status.busy": "2023-08-17T06:01:20.475233Z",
     "iopub.status.idle": "2023-08-17T06:01:20.481745Z",
     "shell.execute_reply": "2023-08-17T06:01:20.480569Z"
    },
    "papermill": {
     "duration": 0.020126,
     "end_time": "2023-08-17T06:01:20.483705",
     "exception": false,
     "start_time": "2023-08-17T06:01:20.463579",
     "status": "completed"
    },
    "tags": []
   },
   "outputs": [
    {
     "data": {
      "text/plain": [
       "tensor([[0, 1, 2, 3, 4],\n",
       "        [5, 6, 7, 8, 9]])"
      ]
     },
     "execution_count": 29,
     "metadata": {},
     "output_type": "execute_result"
    }
   ],
   "source": [
    "x.view(-1, 5)"
   ]
  },
  {
   "cell_type": "code",
   "execution_count": 30,
   "id": "899b930e",
   "metadata": {
    "execution": {
     "iopub.execute_input": "2023-08-17T06:01:20.505626Z",
     "iopub.status.busy": "2023-08-17T06:01:20.505237Z",
     "iopub.status.idle": "2023-08-17T06:01:20.512239Z",
     "shell.execute_reply": "2023-08-17T06:01:20.510535Z"
    },
    "papermill": {
     "duration": 0.020887,
     "end_time": "2023-08-17T06:01:20.514908",
     "exception": false,
     "start_time": "2023-08-17T06:01:20.494021",
     "status": "completed"
    },
    "tags": []
   },
   "outputs": [],
   "source": [
    "a = torch.tensor([1., 2., 3.])"
   ]
  },
  {
   "cell_type": "code",
   "execution_count": 31,
   "id": "401f6600",
   "metadata": {
    "execution": {
     "iopub.execute_input": "2023-08-17T06:01:20.537479Z",
     "iopub.status.busy": "2023-08-17T06:01:20.537098Z",
     "iopub.status.idle": "2023-08-17T06:01:20.542269Z",
     "shell.execute_reply": "2023-08-17T06:01:20.540768Z"
    },
    "papermill": {
     "duration": 0.019084,
     "end_time": "2023-08-17T06:01:20.544388",
     "exception": false,
     "start_time": "2023-08-17T06:01:20.525304",
     "status": "completed"
    },
    "tags": []
   },
   "outputs": [],
   "source": [
    "b = torch.tensor([4., 5., 6.])"
   ]
  },
  {
   "cell_type": "code",
   "execution_count": 32,
   "id": "3cf7e3a9",
   "metadata": {
    "execution": {
     "iopub.execute_input": "2023-08-17T06:01:20.567718Z",
     "iopub.status.busy": "2023-08-17T06:01:20.567352Z",
     "iopub.status.idle": "2023-08-17T06:01:20.617889Z",
     "shell.execute_reply": "2023-08-17T06:01:20.615959Z"
    },
    "papermill": {
     "duration": 0.065003,
     "end_time": "2023-08-17T06:01:20.620316",
     "exception": false,
     "start_time": "2023-08-17T06:01:20.555313",
     "status": "completed"
    },
    "tags": []
   },
   "outputs": [
    {
     "data": {
      "text/plain": [
       "tensor([1., 2., 3.])"
      ]
     },
     "execution_count": 32,
     "metadata": {},
     "output_type": "execute_result"
    }
   ],
   "source": [
    "a"
   ]
  },
  {
   "cell_type": "code",
   "execution_count": 33,
   "id": "b8bee039",
   "metadata": {
    "execution": {
     "iopub.execute_input": "2023-08-17T06:01:20.644199Z",
     "iopub.status.busy": "2023-08-17T06:01:20.643632Z",
     "iopub.status.idle": "2023-08-17T06:01:20.650278Z",
     "shell.execute_reply": "2023-08-17T06:01:20.648973Z"
    },
    "papermill": {
     "duration": 0.021259,
     "end_time": "2023-08-17T06:01:20.652274",
     "exception": false,
     "start_time": "2023-08-17T06:01:20.631015",
     "status": "completed"
    },
    "tags": []
   },
   "outputs": [
    {
     "data": {
      "text/plain": [
       "tensor([4., 5., 6.])"
      ]
     },
     "execution_count": 33,
     "metadata": {},
     "output_type": "execute_result"
    }
   ],
   "source": [
    "b"
   ]
  },
  {
   "cell_type": "code",
   "execution_count": 34,
   "id": "be89e8d9",
   "metadata": {
    "execution": {
     "iopub.execute_input": "2023-08-17T06:01:20.674914Z",
     "iopub.status.busy": "2023-08-17T06:01:20.674561Z",
     "iopub.status.idle": "2023-08-17T06:01:20.681281Z",
     "shell.execute_reply": "2023-08-17T06:01:20.679565Z"
    },
    "papermill": {
     "duration": 0.020452,
     "end_time": "2023-08-17T06:01:20.683336",
     "exception": false,
     "start_time": "2023-08-17T06:01:20.662884",
     "status": "completed"
    },
    "tags": []
   },
   "outputs": [
    {
     "data": {
      "text/plain": [
       "torch.float32"
      ]
     },
     "execution_count": 34,
     "metadata": {},
     "output_type": "execute_result"
    }
   ],
   "source": [
    "a.dtype"
   ]
  },
  {
   "cell_type": "code",
   "execution_count": 35,
   "id": "5d034ffa",
   "metadata": {
    "execution": {
     "iopub.execute_input": "2023-08-17T06:01:20.706626Z",
     "iopub.status.busy": "2023-08-17T06:01:20.706219Z",
     "iopub.status.idle": "2023-08-17T06:01:20.712404Z",
     "shell.execute_reply": "2023-08-17T06:01:20.711737Z"
    },
    "papermill": {
     "duration": 0.020522,
     "end_time": "2023-08-17T06:01:20.714731",
     "exception": false,
     "start_time": "2023-08-17T06:01:20.694209",
     "status": "completed"
    },
    "tags": []
   },
   "outputs": [
    {
     "data": {
      "text/plain": [
       "<function Tensor.type>"
      ]
     },
     "execution_count": 35,
     "metadata": {},
     "output_type": "execute_result"
    }
   ],
   "source": [
    "b.type"
   ]
  },
  {
   "cell_type": "code",
   "execution_count": 36,
   "id": "98a1408d",
   "metadata": {
    "execution": {
     "iopub.execute_input": "2023-08-17T06:01:20.739378Z",
     "iopub.status.busy": "2023-08-17T06:01:20.738953Z",
     "iopub.status.idle": "2023-08-17T06:01:20.744075Z",
     "shell.execute_reply": "2023-08-17T06:01:20.743473Z"
    },
    "papermill": {
     "duration": 0.019257,
     "end_time": "2023-08-17T06:01:20.745680",
     "exception": false,
     "start_time": "2023-08-17T06:01:20.726423",
     "status": "completed"
    },
    "tags": []
   },
   "outputs": [
    {
     "data": {
      "text/plain": [
       "torch.float32"
      ]
     },
     "execution_count": 36,
     "metadata": {},
     "output_type": "execute_result"
    }
   ],
   "source": [
    "b.dtype"
   ]
  },
  {
   "cell_type": "code",
   "execution_count": 37,
   "id": "793f8b37",
   "metadata": {
    "execution": {
     "iopub.execute_input": "2023-08-17T06:01:20.769324Z",
     "iopub.status.busy": "2023-08-17T06:01:20.768960Z",
     "iopub.status.idle": "2023-08-17T06:01:20.778698Z",
     "shell.execute_reply": "2023-08-17T06:01:20.777728Z"
    },
    "papermill": {
     "duration": 0.023776,
     "end_time": "2023-08-17T06:01:20.780560",
     "exception": false,
     "start_time": "2023-08-17T06:01:20.756784",
     "status": "completed"
    },
    "tags": []
   },
   "outputs": [
    {
     "data": {
      "text/plain": [
       "tensor([5., 7., 9.])"
      ]
     },
     "execution_count": 37,
     "metadata": {},
     "output_type": "execute_result"
    }
   ],
   "source": [
    "a + b"
   ]
  },
  {
   "cell_type": "code",
   "execution_count": 38,
   "id": "99da127a",
   "metadata": {
    "execution": {
     "iopub.execute_input": "2023-08-17T06:01:20.804340Z",
     "iopub.status.busy": "2023-08-17T06:01:20.803923Z",
     "iopub.status.idle": "2023-08-17T06:01:20.813054Z",
     "shell.execute_reply": "2023-08-17T06:01:20.811828Z"
    },
    "papermill": {
     "duration": 0.024301,
     "end_time": "2023-08-17T06:01:20.815776",
     "exception": false,
     "start_time": "2023-08-17T06:01:20.791475",
     "status": "completed"
    },
    "tags": []
   },
   "outputs": [
    {
     "data": {
      "text/plain": [
       "tensor([5., 7., 9.])"
      ]
     },
     "execution_count": 38,
     "metadata": {},
     "output_type": "execute_result"
    }
   ],
   "source": [
    "torch.add(a, b)"
   ]
  },
  {
   "cell_type": "code",
   "execution_count": 39,
   "id": "a00bb9a8",
   "metadata": {
    "execution": {
     "iopub.execute_input": "2023-08-17T06:01:20.839848Z",
     "iopub.status.busy": "2023-08-17T06:01:20.839520Z",
     "iopub.status.idle": "2023-08-17T06:01:20.846784Z",
     "shell.execute_reply": "2023-08-17T06:01:20.845857Z"
    },
    "papermill": {
     "duration": 0.021686,
     "end_time": "2023-08-17T06:01:20.848622",
     "exception": false,
     "start_time": "2023-08-17T06:01:20.826936",
     "status": "completed"
    },
    "tags": []
   },
   "outputs": [
    {
     "data": {
      "text/plain": [
       "tensor([ 4., 10., 18.])"
      ]
     },
     "execution_count": 39,
     "metadata": {},
     "output_type": "execute_result"
    }
   ],
   "source": [
    "# a = a + b\n",
    "\n",
    "a.mul(b)"
   ]
  },
  {
   "cell_type": "code",
   "execution_count": 40,
   "id": "78c6a35a",
   "metadata": {
    "execution": {
     "iopub.execute_input": "2023-08-17T06:01:20.872952Z",
     "iopub.status.busy": "2023-08-17T06:01:20.872432Z",
     "iopub.status.idle": "2023-08-17T06:01:20.879598Z",
     "shell.execute_reply": "2023-08-17T06:01:20.878286Z"
    },
    "papermill": {
     "duration": 0.022518,
     "end_time": "2023-08-17T06:01:20.882350",
     "exception": false,
     "start_time": "2023-08-17T06:01:20.859832",
     "status": "completed"
    },
    "tags": []
   },
   "outputs": [
    {
     "data": {
      "text/plain": [
       "tensor([1., 2., 3.])"
      ]
     },
     "execution_count": 40,
     "metadata": {},
     "output_type": "execute_result"
    }
   ],
   "source": [
    "a"
   ]
  },
  {
   "cell_type": "code",
   "execution_count": 41,
   "id": "b4ee8621",
   "metadata": {
    "execution": {
     "iopub.execute_input": "2023-08-17T06:01:20.908484Z",
     "iopub.status.busy": "2023-08-17T06:01:20.907384Z",
     "iopub.status.idle": "2023-08-17T06:01:20.917278Z",
     "shell.execute_reply": "2023-08-17T06:01:20.916578Z"
    },
    "papermill": {
     "duration": 0.025203,
     "end_time": "2023-08-17T06:01:20.919128",
     "exception": false,
     "start_time": "2023-08-17T06:01:20.893925",
     "status": "completed"
    },
    "tags": []
   },
   "outputs": [
    {
     "data": {
      "text/plain": [
       "tensor([ 4., 10., 18.])"
      ]
     },
     "execution_count": 41,
     "metadata": {},
     "output_type": "execute_result"
    }
   ],
   "source": [
    "a.mul_(b)"
   ]
  },
  {
   "cell_type": "code",
   "execution_count": 42,
   "id": "7843d444",
   "metadata": {
    "execution": {
     "iopub.execute_input": "2023-08-17T06:01:20.943798Z",
     "iopub.status.busy": "2023-08-17T06:01:20.943142Z",
     "iopub.status.idle": "2023-08-17T06:01:20.951021Z",
     "shell.execute_reply": "2023-08-17T06:01:20.949877Z"
    },
    "papermill": {
     "duration": 0.022945,
     "end_time": "2023-08-17T06:01:20.953604",
     "exception": false,
     "start_time": "2023-08-17T06:01:20.930659",
     "status": "completed"
    },
    "tags": []
   },
   "outputs": [
    {
     "data": {
      "text/plain": [
       "tensor([ 4., 10., 18.])"
      ]
     },
     "execution_count": 42,
     "metadata": {},
     "output_type": "execute_result"
    }
   ],
   "source": [
    "a"
   ]
  }
 ],
 "metadata": {
  "kernelspec": {
   "display_name": "Python 3",
   "language": "python",
   "name": "python3"
  },
  "language_info": {
   "codemirror_mode": {
    "name": "ipython",
    "version": 3
   },
   "file_extension": ".py",
   "mimetype": "text/x-python",
   "name": "python",
   "nbconvert_exporter": "python",
   "pygments_lexer": "ipython3",
   "version": "3.10.12"
  },
  "papermill": {
   "default_parameters": {},
   "duration": 15.930818,
   "end_time": "2023-08-17T06:01:22.289646",
   "environment_variables": {},
   "exception": null,
   "input_path": "__notebook__.ipynb",
   "output_path": "__notebook__.ipynb",
   "parameters": {},
   "start_time": "2023-08-17T06:01:06.358828",
   "version": "2.4.0"
  }
 },
 "nbformat": 4,
 "nbformat_minor": 5
}
